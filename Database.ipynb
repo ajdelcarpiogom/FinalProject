{
  "nbformat": 4,
  "nbformat_minor": 0,
  "metadata": {
    "colab": {
      "name": "Database.ipynb",
      "provenance": []
    },
    "kernelspec": {
      "name": "python3",
      "display_name": "Python 3"
    },
    "language_info": {
      "name": "python"
    }
  },
  "cells": [
    {
      "cell_type": "code",
      "execution_count": 3,
      "metadata": {
        "colab": {
          "base_uri": "https://localhost:8080/"
        },
        "id": "myyMIbDcic8d",
        "outputId": "2a30cadd-6f39-480e-d157-60f65abfc9de"
      },
      "outputs": [
        {
          "output_type": "stream",
          "name": "stdout",
          "text": [
            "Get:1 https://cloud.r-project.org/bin/linux/ubuntu bionic-cran40/ InRelease [3,626 B]\n",
            "Ign:2 https://developer.download.nvidia.com/compute/cuda/repos/ubuntu1804/x86_64  InRelease\n",
            "Ign:3 https://developer.download.nvidia.com/compute/machine-learning/repos/ubuntu1804/x86_64  InRelease\n",
            "Get:4 https://developer.download.nvidia.com/compute/cuda/repos/ubuntu1804/x86_64  Release [696 B]\n",
            "Hit:5 https://developer.download.nvidia.com/compute/machine-learning/repos/ubuntu1804/x86_64  Release\n",
            "Get:6 https://developer.download.nvidia.com/compute/cuda/repos/ubuntu1804/x86_64  Release.gpg [836 B]\n",
            "Hit:7 http://ppa.launchpad.net/c2d4u.team/c2d4u4.0+/ubuntu bionic InRelease\n",
            "Hit:8 http://archive.ubuntu.com/ubuntu bionic InRelease\n",
            "Get:9 http://security.ubuntu.com/ubuntu bionic-security InRelease [88.7 kB]\n",
            "Get:11 http://archive.ubuntu.com/ubuntu bionic-updates InRelease [88.7 kB]\n",
            "Get:12 https://developer.download.nvidia.com/compute/cuda/repos/ubuntu1804/x86_64  Packages [917 kB]\n",
            "Hit:13 http://ppa.launchpad.net/cran/libgit2/ubuntu bionic InRelease\n",
            "Hit:14 http://ppa.launchpad.net/deadsnakes/ppa/ubuntu bionic InRelease\n",
            "Get:15 http://archive.ubuntu.com/ubuntu bionic-backports InRelease [74.6 kB]\n",
            "Get:16 http://security.ubuntu.com/ubuntu bionic-security/universe amd64 Packages [1,466 kB]\n",
            "Get:17 http://ppa.launchpad.net/graphics-drivers/ppa/ubuntu bionic InRelease [21.3 kB]\n",
            "Get:18 http://archive.ubuntu.com/ubuntu bionic-updates/main amd64 Packages [2,986 kB]\n",
            "Get:19 http://ppa.launchpad.net/graphics-drivers/ppa/ubuntu bionic/main amd64 Packages [42.8 kB]\n",
            "Get:20 http://security.ubuntu.com/ubuntu bionic-security/main amd64 Packages [2,544 kB]\n",
            "Get:21 http://archive.ubuntu.com/ubuntu bionic-updates/universe amd64 Packages [2,244 kB]\n",
            "Get:22 http://security.ubuntu.com/ubuntu bionic-security/restricted amd64 Packages [760 kB]\n",
            "Fetched 11.2 MB in 4s (2,788 kB/s)\n",
            "Reading package lists... Done\n"
          ]
        }
      ],
      "source": [
        "import os\n",
        "# Find the latest version of spark 3.0 from http://www.apache.org/dist/spark/ and enter as the spark version\n",
        "# For example:\n",
        "# spark_version = 'spark-3.0.3'\n",
        "spark_version = 'spark-3.0.3'\n",
        "os.environ['SPARK_VERSION']=spark_version\n",
        "\n",
        "# Install Spark and Java\n",
        "!apt-get update\n",
        "!apt-get install openjdk-11-jdk-headless -qq > /dev/null\n",
        "!wget -q http://www.apache.org/dist/spark/$SPARK_VERSION/$SPARK_VERSION-bin-hadoop2.7.tgz\n",
        "!tar xf $SPARK_VERSION-bin-hadoop2.7.tgz\n",
        "!pip install -q findspark\n",
        "\n",
        "# Set Environment Variables\n",
        "import os\n",
        "os.environ[\"JAVA_HOME\"] = \"/usr/lib/jvm/java-11-openjdk-amd64\"\n",
        "os.environ[\"SPARK_HOME\"] = f\"/content/{spark_version}-bin-hadoop2.7\"\n",
        "\n",
        "# Start a SparkSession\n",
        "import findspark\n",
        "findspark.init()"
      ]
    },
    {
      "cell_type": "code",
      "source": [
        "# Download the Postgres driver that will allow Spark to interact with Postgres.\n",
        "!wget https://jdbc.postgresql.org/download/postgresql-42.2.16.jar"
      ],
      "metadata": {
        "colab": {
          "base_uri": "https://localhost:8080/"
        },
        "id": "Oa4ySfAkitn6",
        "outputId": "7178bb0c-1e13-4a44-b6ae-c72b5ef2e2c8"
      },
      "execution_count": 4,
      "outputs": [
        {
          "output_type": "stream",
          "name": "stdout",
          "text": [
            "--2022-02-03 22:40:40--  https://jdbc.postgresql.org/download/postgresql-42.2.16.jar\n",
            "Resolving jdbc.postgresql.org (jdbc.postgresql.org)... 72.32.157.228, 2001:4800:3e1:1::228\n",
            "Connecting to jdbc.postgresql.org (jdbc.postgresql.org)|72.32.157.228|:443... connected.\n",
            "HTTP request sent, awaiting response... 200 OK\n",
            "Length: 1002883 (979K) [application/java-archive]\n",
            "Saving to: ‘postgresql-42.2.16.jar’\n",
            "\n",
            "postgresql-42.2.16. 100%[===================>] 979.38K  1.22MB/s    in 0.8s    \n",
            "\n",
            "2022-02-03 22:40:42 (1.22 MB/s) - ‘postgresql-42.2.16.jar’ saved [1002883/1002883]\n",
            "\n"
          ]
        }
      ]
    },
    {
      "cell_type": "code",
      "source": [
        "from pyspark.sql import SparkSession\n",
        "spark = SparkSession.builder.appName(\"Final-Project\").config(\"spark.driver.extraClassPath\",\"/content/postgresql-42.2.16.jar\").getOrCreate()"
      ],
      "metadata": {
        "id": "C8yeJt6aiyxj"
      },
      "execution_count": 5,
      "outputs": []
    },
    {
      "cell_type": "code",
      "source": [
        "# Read in data from S3 Buckets for User Data\n",
        "from pyspark import SparkFiles\n",
        "url =\"https://mthiobane-finalproject.s3.amazonaws.com/owid-covid-data.csv\"\n",
        "spark.sparkContext.addFile(url)\n",
        "covid_data_df = spark.read.csv(SparkFiles.get(\"owid-covid-data.csv\"), sep=\",\", header=True)"
      ],
      "metadata": {
        "id": "D1lca5wdi4OI"
      },
      "execution_count": 6,
      "outputs": []
    },
    {
      "cell_type": "code",
      "source": [
        "covid_data_df.show()"
      ],
      "metadata": {
        "colab": {
          "base_uri": "https://localhost:8080/"
        },
        "id": "GV0v88mkj_uo",
        "outputId": "d749037f-faa8-407b-8ded-440dd84557f3"
      },
      "execution_count": 7,
      "outputs": [
        {
          "output_type": "stream",
          "name": "stdout",
          "text": [
            "+--------+---------+-----------+----------+-----------+---------+------------------+------------+----------+-------------------+-----------------------+---------------------+------------------------------+------------------------+----------------------+-------------------------------+-----------------+------------+------------------------+-------------+-------------------------+---------------------+---------------------------------+----------------------+----------------------------------+---------+-----------+------------------------+----------------------+------------------+-------------------------------+-------------+--------------+-----------+------------------+-----------------+-----------------------+--------------+----------------+-------------------------+------------------------------+-----------------------------+-----------------------------------+--------------------------+-------------------------------------+------------------------------+------------------------------------------+----------------+----------+------------------+----------+-------------+-------------+--------------+---------------+---------------------+-------------------+--------------+------------+----------------------+--------------------------+---------------+-----------------------+------------------------------------+---------------------------+----------------+---------------------------------------+\n",
            "|iso_code|continent|   location|      date|total_cases|new_cases|new_cases_smoothed|total_deaths|new_deaths|new_deaths_smoothed|total_cases_per_million|new_cases_per_million|new_cases_smoothed_per_million|total_deaths_per_million|new_deaths_per_million|new_deaths_smoothed_per_million|reproduction_rate|icu_patients|icu_patients_per_million|hosp_patients|hosp_patients_per_million|weekly_icu_admissions|weekly_icu_admissions_per_million|weekly_hosp_admissions|weekly_hosp_admissions_per_million|new_tests|total_tests|total_tests_per_thousand|new_tests_per_thousand|new_tests_smoothed|new_tests_smoothed_per_thousand|positive_rate|tests_per_case|tests_units|total_vaccinations|people_vaccinated|people_fully_vaccinated|total_boosters|new_vaccinations|new_vaccinations_smoothed|total_vaccinations_per_hundred|people_vaccinated_per_hundred|people_fully_vaccinated_per_hundred|total_boosters_per_hundred|new_vaccinations_smoothed_per_million|new_people_vaccinated_smoothed|new_people_vaccinated_smoothed_per_hundred|stringency_index|population|population_density|median_age|aged_65_older|aged_70_older|gdp_per_capita|extreme_poverty|cardiovasc_death_rate|diabetes_prevalence|female_smokers|male_smokers|handwashing_facilities|hospital_beds_per_thousand|life_expectancy|human_development_index|excess_mortality_cumulative_absolute|excess_mortality_cumulative|excess_mortality|excess_mortality_cumulative_per_million|\n",
            "+--------+---------+-----------+----------+-----------+---------+------------------+------------+----------+-------------------+-----------------------+---------------------+------------------------------+------------------------+----------------------+-------------------------------+-----------------+------------+------------------------+-------------+-------------------------+---------------------+---------------------------------+----------------------+----------------------------------+---------+-----------+------------------------+----------------------+------------------+-------------------------------+-------------+--------------+-----------+------------------+-----------------+-----------------------+--------------+----------------+-------------------------+------------------------------+-----------------------------+-----------------------------------+--------------------------+-------------------------------------+------------------------------+------------------------------------------+----------------+----------+------------------+----------+-------------+-------------+--------------+---------------+---------------------+-------------------+--------------+------------+----------------------+--------------------------+---------------+-----------------------+------------------------------------+---------------------------+----------------+---------------------------------------+\n",
            "|     AFG|     Asia|Afghanistan|2020-02-24|        5.0|      5.0|              null|        null|      null|               null|                  0.126|                0.126|                          null|                    null|                  null|                           null|             null|        null|                    null|         null|                     null|                 null|                             null|                  null|                              null|     null|       null|                    null|                  null|              null|                           null|         null|          null|       null|              null|             null|                   null|          null|            null|                     null|                          null|                         null|                               null|                      null|                                 null|                          null|                                      null|            8.33|39835428.0|            54.422|      18.6|        2.581|        1.337|      1803.987|           null|              597.029|               9.59|          null|        null|                37.746|                       0.5|          64.83|                  0.511|                                null|                       null|            null|                                   null|\n",
            "|     AFG|     Asia|Afghanistan|2020-02-25|        5.0|      0.0|              null|        null|      null|               null|                  0.126|                  0.0|                          null|                    null|                  null|                           null|             null|        null|                    null|         null|                     null|                 null|                             null|                  null|                              null|     null|       null|                    null|                  null|              null|                           null|         null|          null|       null|              null|             null|                   null|          null|            null|                     null|                          null|                         null|                               null|                      null|                                 null|                          null|                                      null|            8.33|39835428.0|            54.422|      18.6|        2.581|        1.337|      1803.987|           null|              597.029|               9.59|          null|        null|                37.746|                       0.5|          64.83|                  0.511|                                null|                       null|            null|                                   null|\n",
            "|     AFG|     Asia|Afghanistan|2020-02-26|        5.0|      0.0|              null|        null|      null|               null|                  0.126|                  0.0|                          null|                    null|                  null|                           null|             null|        null|                    null|         null|                     null|                 null|                             null|                  null|                              null|     null|       null|                    null|                  null|              null|                           null|         null|          null|       null|              null|             null|                   null|          null|            null|                     null|                          null|                         null|                               null|                      null|                                 null|                          null|                                      null|            8.33|39835428.0|            54.422|      18.6|        2.581|        1.337|      1803.987|           null|              597.029|               9.59|          null|        null|                37.746|                       0.5|          64.83|                  0.511|                                null|                       null|            null|                                   null|\n",
            "|     AFG|     Asia|Afghanistan|2020-02-27|        5.0|      0.0|              null|        null|      null|               null|                  0.126|                  0.0|                          null|                    null|                  null|                           null|             null|        null|                    null|         null|                     null|                 null|                             null|                  null|                              null|     null|       null|                    null|                  null|              null|                           null|         null|          null|       null|              null|             null|                   null|          null|            null|                     null|                          null|                         null|                               null|                      null|                                 null|                          null|                                      null|            8.33|39835428.0|            54.422|      18.6|        2.581|        1.337|      1803.987|           null|              597.029|               9.59|          null|        null|                37.746|                       0.5|          64.83|                  0.511|                                null|                       null|            null|                                   null|\n",
            "|     AFG|     Asia|Afghanistan|2020-02-28|        5.0|      0.0|              null|        null|      null|               null|                  0.126|                  0.0|                          null|                    null|                  null|                           null|             null|        null|                    null|         null|                     null|                 null|                             null|                  null|                              null|     null|       null|                    null|                  null|              null|                           null|         null|          null|       null|              null|             null|                   null|          null|            null|                     null|                          null|                         null|                               null|                      null|                                 null|                          null|                                      null|            8.33|39835428.0|            54.422|      18.6|        2.581|        1.337|      1803.987|           null|              597.029|               9.59|          null|        null|                37.746|                       0.5|          64.83|                  0.511|                                null|                       null|            null|                                   null|\n",
            "|     AFG|     Asia|Afghanistan|2020-02-29|        5.0|      0.0|             0.714|        null|      null|               null|                  0.126|                  0.0|                         0.018|                    null|                  null|                           null|             null|        null|                    null|         null|                     null|                 null|                             null|                  null|                              null|     null|       null|                    null|                  null|              null|                           null|         null|          null|       null|              null|             null|                   null|          null|            null|                     null|                          null|                         null|                               null|                      null|                                 null|                          null|                                      null|            8.33|39835428.0|            54.422|      18.6|        2.581|        1.337|      1803.987|           null|              597.029|               9.59|          null|        null|                37.746|                       0.5|          64.83|                  0.511|                                null|                       null|            null|                                   null|\n",
            "|     AFG|     Asia|Afghanistan|2020-03-01|        5.0|      0.0|             0.714|        null|      null|               null|                  0.126|                  0.0|                         0.018|                    null|                  null|                           null|             null|        null|                    null|         null|                     null|                 null|                             null|                  null|                              null|     null|       null|                    null|                  null|              null|                           null|         null|          null|       null|              null|             null|                   null|          null|            null|                     null|                          null|                         null|                               null|                      null|                                 null|                          null|                                      null|           27.78|39835428.0|            54.422|      18.6|        2.581|        1.337|      1803.987|           null|              597.029|               9.59|          null|        null|                37.746|                       0.5|          64.83|                  0.511|                                null|                       null|            null|                                   null|\n",
            "|     AFG|     Asia|Afghanistan|2020-03-02|        5.0|      0.0|               0.0|        null|      null|               null|                  0.126|                  0.0|                           0.0|                    null|                  null|                           null|             null|        null|                    null|         null|                     null|                 null|                             null|                  null|                              null|     null|       null|                    null|                  null|              null|                           null|         null|          null|       null|              null|             null|                   null|          null|            null|                     null|                          null|                         null|                               null|                      null|                                 null|                          null|                                      null|           27.78|39835428.0|            54.422|      18.6|        2.581|        1.337|      1803.987|           null|              597.029|               9.59|          null|        null|                37.746|                       0.5|          64.83|                  0.511|                                null|                       null|            null|                                   null|\n",
            "|     AFG|     Asia|Afghanistan|2020-03-03|        5.0|      0.0|               0.0|        null|      null|               null|                  0.126|                  0.0|                           0.0|                    null|                  null|                           null|             null|        null|                    null|         null|                     null|                 null|                             null|                  null|                              null|     null|       null|                    null|                  null|              null|                           null|         null|          null|       null|              null|             null|                   null|          null|            null|                     null|                          null|                         null|                               null|                      null|                                 null|                          null|                                      null|           27.78|39835428.0|            54.422|      18.6|        2.581|        1.337|      1803.987|           null|              597.029|               9.59|          null|        null|                37.746|                       0.5|          64.83|                  0.511|                                null|                       null|            null|                                   null|\n",
            "|     AFG|     Asia|Afghanistan|2020-03-04|        5.0|      0.0|               0.0|        null|      null|               null|                  0.126|                  0.0|                           0.0|                    null|                  null|                           null|             null|        null|                    null|         null|                     null|                 null|                             null|                  null|                              null|     null|       null|                    null|                  null|              null|                           null|         null|          null|       null|              null|             null|                   null|          null|            null|                     null|                          null|                         null|                               null|                      null|                                 null|                          null|                                      null|           27.78|39835428.0|            54.422|      18.6|        2.581|        1.337|      1803.987|           null|              597.029|               9.59|          null|        null|                37.746|                       0.5|          64.83|                  0.511|                                null|                       null|            null|                                   null|\n",
            "|     AFG|     Asia|Afghanistan|2020-03-05|        5.0|      0.0|               0.0|        null|      null|               null|                  0.126|                  0.0|                           0.0|                    null|                  null|                           null|             null|        null|                    null|         null|                     null|                 null|                             null|                  null|                              null|     null|       null|                    null|                  null|              null|                           null|         null|          null|       null|              null|             null|                   null|          null|            null|                     null|                          null|                         null|                               null|                      null|                                 null|                          null|                                      null|           27.78|39835428.0|            54.422|      18.6|        2.581|        1.337|      1803.987|           null|              597.029|               9.59|          null|        null|                37.746|                       0.5|          64.83|                  0.511|                                null|                       null|            null|                                   null|\n",
            "|     AFG|     Asia|Afghanistan|2020-03-06|        5.0|      0.0|               0.0|        null|      null|               null|                  0.126|                  0.0|                           0.0|                    null|                  null|                           null|             null|        null|                    null|         null|                     null|                 null|                             null|                  null|                              null|     null|       null|                    null|                  null|              null|                           null|         null|          null|       null|              null|             null|                   null|          null|            null|                     null|                          null|                         null|                               null|                      null|                                 null|                          null|                                      null|           27.78|39835428.0|            54.422|      18.6|        2.581|        1.337|      1803.987|           null|              597.029|               9.59|          null|        null|                37.746|                       0.5|          64.83|                  0.511|                                null|                       null|            null|                                   null|\n",
            "|     AFG|     Asia|Afghanistan|2020-03-07|        8.0|      3.0|             0.429|        null|      null|               null|                  0.201|                0.075|                         0.011|                    null|                  null|                           null|             null|        null|                    null|         null|                     null|                 null|                             null|                  null|                              null|     null|       null|                    null|                  null|              null|                           null|         null|          null|       null|              null|             null|                   null|          null|            null|                     null|                          null|                         null|                               null|                      null|                                 null|                          null|                                      null|           27.78|39835428.0|            54.422|      18.6|        2.581|        1.337|      1803.987|           null|              597.029|               9.59|          null|        null|                37.746|                       0.5|          64.83|                  0.511|                                null|                       null|            null|                                   null|\n",
            "|     AFG|     Asia|Afghanistan|2020-03-08|        8.0|      0.0|             0.429|        null|      null|               null|                  0.201|                  0.0|                         0.011|                    null|                  null|                           null|             null|        null|                    null|         null|                     null|                 null|                             null|                  null|                              null|     null|       null|                    null|                  null|              null|                           null|         null|          null|       null|              null|             null|                   null|          null|            null|                     null|                          null|                         null|                               null|                      null|                                 null|                          null|                                      null|           27.78|39835428.0|            54.422|      18.6|        2.581|        1.337|      1803.987|           null|              597.029|               9.59|          null|        null|                37.746|                       0.5|          64.83|                  0.511|                                null|                       null|            null|                                   null|\n",
            "|     AFG|     Asia|Afghanistan|2020-03-09|        8.0|      0.0|             0.429|        null|      null|               null|                  0.201|                  0.0|                         0.011|                    null|                  null|                           null|             null|        null|                    null|         null|                     null|                 null|                             null|                  null|                              null|     null|       null|                    null|                  null|              null|                           null|         null|          null|       null|              null|             null|                   null|          null|            null|                     null|                          null|                         null|                               null|                      null|                                 null|                          null|                                      null|           27.78|39835428.0|            54.422|      18.6|        2.581|        1.337|      1803.987|           null|              597.029|               9.59|          null|        null|                37.746|                       0.5|          64.83|                  0.511|                                null|                       null|            null|                                   null|\n",
            "|     AFG|     Asia|Afghanistan|2020-03-10|        8.0|      0.0|             0.429|        null|      null|               null|                  0.201|                  0.0|                         0.011|                    null|                  null|                           null|             null|        null|                    null|         null|                     null|                 null|                             null|                  null|                              null|     null|       null|                    null|                  null|              null|                           null|         null|          null|       null|              null|             null|                   null|          null|            null|                     null|                          null|                         null|                               null|                      null|                                 null|                          null|                                      null|           27.78|39835428.0|            54.422|      18.6|        2.581|        1.337|      1803.987|           null|              597.029|               9.59|          null|        null|                37.746|                       0.5|          64.83|                  0.511|                                null|                       null|            null|                                   null|\n",
            "|     AFG|     Asia|Afghanistan|2020-03-11|       11.0|      3.0|             0.857|        null|      null|               null|                  0.276|                0.075|                         0.022|                    null|                  null|                           null|             null|        null|                    null|         null|                     null|                 null|                             null|                  null|                              null|     null|       null|                    null|                  null|              null|                           null|         null|          null|       null|              null|             null|                   null|          null|            null|                     null|                          null|                         null|                               null|                      null|                                 null|                          null|                                      null|           27.78|39835428.0|            54.422|      18.6|        2.581|        1.337|      1803.987|           null|              597.029|               9.59|          null|        null|                37.746|                       0.5|          64.83|                  0.511|                                null|                       null|            null|                                   null|\n",
            "|     AFG|     Asia|Afghanistan|2020-03-12|       11.0|      0.0|             0.857|        null|      null|               null|                  0.276|                  0.0|                         0.022|                    null|                  null|                           null|             null|        null|                    null|         null|                     null|                 null|                             null|                  null|                              null|     null|       null|                    null|                  null|              null|                           null|         null|          null|       null|              null|             null|                   null|          null|            null|                     null|                          null|                         null|                               null|                      null|                                 null|                          null|                                      null|           27.78|39835428.0|            54.422|      18.6|        2.581|        1.337|      1803.987|           null|              597.029|               9.59|          null|        null|                37.746|                       0.5|          64.83|                  0.511|                                null|                       null|            null|                                   null|\n",
            "|     AFG|     Asia|Afghanistan|2020-03-13|       11.0|      0.0|             0.857|        null|      null|               null|                  0.276|                  0.0|                         0.022|                    null|                  null|                           null|             null|        null|                    null|         null|                     null|                 null|                             null|                  null|                              null|     null|       null|                    null|                  null|              null|                           null|         null|          null|       null|              null|             null|                   null|          null|            null|                     null|                          null|                         null|                               null|                      null|                                 null|                          null|                                      null|           27.78|39835428.0|            54.422|      18.6|        2.581|        1.337|      1803.987|           null|              597.029|               9.59|          null|        null|                37.746|                       0.5|          64.83|                  0.511|                                null|                       null|            null|                                   null|\n",
            "|     AFG|     Asia|Afghanistan|2020-03-14|       14.0|      3.0|             0.857|        null|      null|               null|                  0.351|                0.075|                         0.022|                    null|                  null|                           null|             null|        null|                    null|         null|                     null|                 null|                             null|                  null|                              null|     null|       null|                    null|                  null|              null|                           null|         null|          null|       null|              null|             null|                   null|          null|            null|                     null|                          null|                         null|                               null|                      null|                                 null|                          null|                                      null|           38.89|39835428.0|            54.422|      18.6|        2.581|        1.337|      1803.987|           null|              597.029|               9.59|          null|        null|                37.746|                       0.5|          64.83|                  0.511|                                null|                       null|            null|                                   null|\n",
            "+--------+---------+-----------+----------+-----------+---------+------------------+------------+----------+-------------------+-----------------------+---------------------+------------------------------+------------------------+----------------------+-------------------------------+-----------------+------------+------------------------+-------------+-------------------------+---------------------+---------------------------------+----------------------+----------------------------------+---------+-----------+------------------------+----------------------+------------------+-------------------------------+-------------+--------------+-----------+------------------+-----------------+-----------------------+--------------+----------------+-------------------------+------------------------------+-----------------------------+-----------------------------------+--------------------------+-------------------------------------+------------------------------+------------------------------------------+----------------+----------+------------------+----------+-------------+-------------+--------------+---------------+---------------------+-------------------+--------------+------------+----------------------+--------------------------+---------------+-----------------------+------------------------------------+---------------------------+----------------+---------------------------------------+\n",
            "only showing top 20 rows\n",
            "\n"
          ]
        }
      ]
    },
    {
      "cell_type": "code",
      "source": [
        "### We noticed that there are some rows where the continent and the location are the same which deters us from\n",
        "### analyzing the correct data. ISO_codes with OWID abbreviations have the data of the entire continent so we cannot use\n",
        "### that\n",
        "\n",
        "### So what we do is clean the data. \n",
        "\n",
        "countries_df = covid_data_df[[\"iso_code\", \"continent\", \"location\", \"date\", \"new_cases\", \"new_deaths\", \"total_cases\", \"total_deaths\", \"reproduction_rate\", \"hosp_patients\", \"new_tests\", \"positive_rate\", \"new_vaccinations\", \"population\", \"median_age\", \"hospital_beds_per_thousand\" ]]\n",
        "countries_df.show()"
      ],
      "metadata": {
        "colab": {
          "base_uri": "https://localhost:8080/"
        },
        "id": "dEKQJ9CVzxxn",
        "outputId": "92012841-b462-4c3e-ed35-29af72057892"
      },
      "execution_count": 8,
      "outputs": [
        {
          "output_type": "stream",
          "name": "stdout",
          "text": [
            "+--------+---------+-----------+----------+---------+----------+-----------+------------+-----------------+-------------+---------+-------------+----------------+----------+----------+--------------------------+\n",
            "|iso_code|continent|   location|      date|new_cases|new_deaths|total_cases|total_deaths|reproduction_rate|hosp_patients|new_tests|positive_rate|new_vaccinations|population|median_age|hospital_beds_per_thousand|\n",
            "+--------+---------+-----------+----------+---------+----------+-----------+------------+-----------------+-------------+---------+-------------+----------------+----------+----------+--------------------------+\n",
            "|     AFG|     Asia|Afghanistan|2020-02-24|      5.0|      null|        5.0|        null|             null|         null|     null|         null|            null|39835428.0|      18.6|                       0.5|\n",
            "|     AFG|     Asia|Afghanistan|2020-02-25|      0.0|      null|        5.0|        null|             null|         null|     null|         null|            null|39835428.0|      18.6|                       0.5|\n",
            "|     AFG|     Asia|Afghanistan|2020-02-26|      0.0|      null|        5.0|        null|             null|         null|     null|         null|            null|39835428.0|      18.6|                       0.5|\n",
            "|     AFG|     Asia|Afghanistan|2020-02-27|      0.0|      null|        5.0|        null|             null|         null|     null|         null|            null|39835428.0|      18.6|                       0.5|\n",
            "|     AFG|     Asia|Afghanistan|2020-02-28|      0.0|      null|        5.0|        null|             null|         null|     null|         null|            null|39835428.0|      18.6|                       0.5|\n",
            "|     AFG|     Asia|Afghanistan|2020-02-29|      0.0|      null|        5.0|        null|             null|         null|     null|         null|            null|39835428.0|      18.6|                       0.5|\n",
            "|     AFG|     Asia|Afghanistan|2020-03-01|      0.0|      null|        5.0|        null|             null|         null|     null|         null|            null|39835428.0|      18.6|                       0.5|\n",
            "|     AFG|     Asia|Afghanistan|2020-03-02|      0.0|      null|        5.0|        null|             null|         null|     null|         null|            null|39835428.0|      18.6|                       0.5|\n",
            "|     AFG|     Asia|Afghanistan|2020-03-03|      0.0|      null|        5.0|        null|             null|         null|     null|         null|            null|39835428.0|      18.6|                       0.5|\n",
            "|     AFG|     Asia|Afghanistan|2020-03-04|      0.0|      null|        5.0|        null|             null|         null|     null|         null|            null|39835428.0|      18.6|                       0.5|\n",
            "|     AFG|     Asia|Afghanistan|2020-03-05|      0.0|      null|        5.0|        null|             null|         null|     null|         null|            null|39835428.0|      18.6|                       0.5|\n",
            "|     AFG|     Asia|Afghanistan|2020-03-06|      0.0|      null|        5.0|        null|             null|         null|     null|         null|            null|39835428.0|      18.6|                       0.5|\n",
            "|     AFG|     Asia|Afghanistan|2020-03-07|      3.0|      null|        8.0|        null|             null|         null|     null|         null|            null|39835428.0|      18.6|                       0.5|\n",
            "|     AFG|     Asia|Afghanistan|2020-03-08|      0.0|      null|        8.0|        null|             null|         null|     null|         null|            null|39835428.0|      18.6|                       0.5|\n",
            "|     AFG|     Asia|Afghanistan|2020-03-09|      0.0|      null|        8.0|        null|             null|         null|     null|         null|            null|39835428.0|      18.6|                       0.5|\n",
            "|     AFG|     Asia|Afghanistan|2020-03-10|      0.0|      null|        8.0|        null|             null|         null|     null|         null|            null|39835428.0|      18.6|                       0.5|\n",
            "|     AFG|     Asia|Afghanistan|2020-03-11|      3.0|      null|       11.0|        null|             null|         null|     null|         null|            null|39835428.0|      18.6|                       0.5|\n",
            "|     AFG|     Asia|Afghanistan|2020-03-12|      0.0|      null|       11.0|        null|             null|         null|     null|         null|            null|39835428.0|      18.6|                       0.5|\n",
            "|     AFG|     Asia|Afghanistan|2020-03-13|      0.0|      null|       11.0|        null|             null|         null|     null|         null|            null|39835428.0|      18.6|                       0.5|\n",
            "|     AFG|     Asia|Afghanistan|2020-03-14|      3.0|      null|       14.0|        null|             null|         null|     null|         null|            null|39835428.0|      18.6|                       0.5|\n",
            "+--------+---------+-----------+----------+---------+----------+-----------+------------+-----------------+-------------+---------+-------------+----------------+----------+----------+--------------------------+\n",
            "only showing top 20 rows\n",
            "\n"
          ]
        }
      ]
    },
    {
      "cell_type": "code",
      "source": [
        "### Selection the continent we want to Analyse (America is divided in North America and South America)\n",
        "continents = [\"Africa\", \"Asia\", \"Europe\",\"North America\", \"Oceania\", \"South America\"]\n",
        "continents_df = countries_df[countries_df['location'].isin(continents)]\n",
        "continents_df.show()"
      ],
      "metadata": {
        "colab": {
          "base_uri": "https://localhost:8080/"
        },
        "id": "CvY926cn1BVK",
        "outputId": "f3ca8e63-9ca6-4ead-d19b-fdb2cc992d00"
      },
      "execution_count": 9,
      "outputs": [
        {
          "output_type": "stream",
          "name": "stdout",
          "text": [
            "+--------+---------+--------+----------+---------+----------+-----------+------------+-----------------+-------------+---------+-------------+----------------+------------+----------+--------------------------+\n",
            "|iso_code|continent|location|      date|new_cases|new_deaths|total_cases|total_deaths|reproduction_rate|hosp_patients|new_tests|positive_rate|new_vaccinations|  population|median_age|hospital_beds_per_thousand|\n",
            "+--------+---------+--------+----------+---------+----------+-----------+------------+-----------------+-------------+---------+-------------+----------------+------------+----------+--------------------------+\n",
            "|OWID_AFR|     null|  Africa|2020-02-13|      0.0|       0.0|       null|        null|             null|         null|     null|         null|            null|1373486472.0|      null|                      null|\n",
            "|OWID_AFR|     null|  Africa|2020-02-14|      1.0|       0.0|        1.0|        null|             null|         null|     null|         null|            null|1373486472.0|      null|                      null|\n",
            "|OWID_AFR|     null|  Africa|2020-02-15|      0.0|       0.0|        1.0|        null|             null|         null|     null|         null|            null|1373486472.0|      null|                      null|\n",
            "|OWID_AFR|     null|  Africa|2020-02-16|      0.0|       0.0|        1.0|        null|             null|         null|     null|         null|            null|1373486472.0|      null|                      null|\n",
            "|OWID_AFR|     null|  Africa|2020-02-17|      0.0|       0.0|        1.0|        null|             null|         null|     null|         null|            null|1373486472.0|      null|                      null|\n",
            "|OWID_AFR|     null|  Africa|2020-02-18|      0.0|       0.0|        1.0|        null|             null|         null|     null|         null|            null|1373486472.0|      null|                      null|\n",
            "|OWID_AFR|     null|  Africa|2020-02-19|      0.0|       0.0|        1.0|        null|             null|         null|     null|         null|            null|1373486472.0|      null|                      null|\n",
            "|OWID_AFR|     null|  Africa|2020-02-20|      0.0|       0.0|        1.0|        null|             null|         null|     null|         null|            null|1373486472.0|      null|                      null|\n",
            "|OWID_AFR|     null|  Africa|2020-02-21|      0.0|       0.0|        1.0|        null|             null|         null|     null|         null|            null|1373486472.0|      null|                      null|\n",
            "|OWID_AFR|     null|  Africa|2020-02-22|      0.0|       0.0|        1.0|        null|             null|         null|     null|         null|            null|1373486472.0|      null|                      null|\n",
            "|OWID_AFR|     null|  Africa|2020-02-23|      0.0|       0.0|        1.0|        null|             null|         null|     null|         null|            null|1373486472.0|      null|                      null|\n",
            "|OWID_AFR|     null|  Africa|2020-02-24|      0.0|       0.0|        1.0|        null|             null|         null|     null|         null|            null|1373486472.0|      null|                      null|\n",
            "|OWID_AFR|     null|  Africa|2020-02-25|      1.0|       0.0|        2.0|        null|             null|         null|     null|         null|            null|1373486472.0|      null|                      null|\n",
            "|OWID_AFR|     null|  Africa|2020-02-26|      0.0|       0.0|        2.0|        null|             null|         null|     null|         null|            null|1373486472.0|      null|                      null|\n",
            "|OWID_AFR|     null|  Africa|2020-02-27|      0.0|       0.0|        2.0|        null|             null|         null|     null|         null|            null|1373486472.0|      null|                      null|\n",
            "|OWID_AFR|     null|  Africa|2020-02-28|      1.0|       0.0|        3.0|        null|             null|         null|     null|         null|            null|1373486472.0|      null|                      null|\n",
            "|OWID_AFR|     null|  Africa|2020-02-29|      0.0|       0.0|        3.0|        null|             null|         null|     null|         null|            null|1373486472.0|      null|                      null|\n",
            "|OWID_AFR|     null|  Africa|2020-03-01|      1.0|       0.0|        4.0|        null|             null|         null|     null|         null|            null|1373486472.0|      null|                      null|\n",
            "|OWID_AFR|     null|  Africa|2020-03-02|      4.0|       0.0|        8.0|        null|             null|         null|     null|         null|            null|1373486472.0|      null|                      null|\n",
            "|OWID_AFR|     null|  Africa|2020-03-03|      3.0|       0.0|       11.0|        null|             null|         null|     null|         null|            null|1373486472.0|      null|                      null|\n",
            "+--------+---------+--------+----------+---------+----------+-----------+------------+-----------------+-------------+---------+-------------+----------------+------------+----------+--------------------------+\n",
            "only showing top 20 rows\n",
            "\n"
          ]
        }
      ]
    },
    {
      "cell_type": "code",
      "source": [
        "import pandas as pd\n",
        "import numpy as np"
      ],
      "metadata": {
        "id": "WtVZeA_UBHo2"
      },
      "execution_count": 10,
      "outputs": []
    },
    {
      "cell_type": "code",
      "source": [
        "# Store environmental variable\n",
        "from getpass import getpass\n",
        "password = 'FinalProject'\n",
        "# Configure settings for RDS\n",
        "mode = \"append\"\n",
        "jdbc_url=\"jdbc:postgresql://finalproject.ccioeicmqb2h.us-east-1.rds.amazonaws.com:5432/finalproject\"\n",
        "config = {\"user\":\"postgres\",\n",
        "          \"password\": password,\n",
        "          \"driver\":\"org.postgresql.Driver\"}"
      ],
      "metadata": {
        "id": "O4lL__fRBC5e"
      },
      "execution_count": 11,
      "outputs": []
    },
    {
      "cell_type": "code",
      "source": [
        "#Based on the Machine learning we divied the dataset in 3 groupes depending on the number of case :\n",
        "# low, medium and High\n",
        "# we randomly selectec 6 countries as below \n",
        "# Low : Cyprus, Dominican Republic\n",
        "# med : jersey, Gambia\n",
        "# high : Palestine, Oman\n",
        "### Selection the continent we want to Analyse (America is divided in North America and South America)\n",
        "countries_hml = [\"Cyprus\", \"Dominican Republic\", \"jersey\", \"Gambia\", \"Palestine\", \"Oman\"]\n",
        "countries_hml = countries_df[countries_df['location'].isin(countries_hml)]\n",
        "countries_hml.show()"
      ],
      "metadata": {
        "colab": {
          "base_uri": "https://localhost:8080/"
        },
        "id": "iOFOabHBqYx0",
        "outputId": "eb275b3a-0516-43e2-c992-795729378762"
      },
      "execution_count": 12,
      "outputs": [
        {
          "output_type": "stream",
          "name": "stdout",
          "text": [
            "+--------+---------+--------+----------+---------+----------+-----------+------------+-----------------+-------------+---------+-------------+----------------+----------+----------+--------------------------+\n",
            "|iso_code|continent|location|      date|new_cases|new_deaths|total_cases|total_deaths|reproduction_rate|hosp_patients|new_tests|positive_rate|new_vaccinations|population|median_age|hospital_beds_per_thousand|\n",
            "+--------+---------+--------+----------+---------+----------+-----------+------------+-----------------+-------------+---------+-------------+----------------+----------+----------+--------------------------+\n",
            "|     CYP|   Europe|  Cyprus|2020-03-08|     null|      null|       null|        null|             null|         null|     null|         null|            null|  896005.0|      37.3|                       3.4|\n",
            "|     CYP|   Europe|  Cyprus|2020-03-09|     null|      null|       null|        null|             null|          0.0|     null|         null|            null|  896005.0|      37.3|                       3.4|\n",
            "|     CYP|   Europe|  Cyprus|2020-03-10|      2.0|      null|        2.0|        null|             null|          0.0|     null|         null|            null|  896005.0|      37.3|                       3.4|\n",
            "|     CYP|   Europe|  Cyprus|2020-03-11|      0.0|      null|        2.0|        null|             null|          0.0|     null|         null|            null|  896005.0|      37.3|                       3.4|\n",
            "|     CYP|   Europe|  Cyprus|2020-03-12|      4.0|      null|        6.0|        null|             null|          0.0|     null|         null|            null|  896005.0|      37.3|                       3.4|\n",
            "|     CYP|   Europe|  Cyprus|2020-03-13|      0.0|      null|        6.0|        null|             null|          0.0|     null|         null|            null|  896005.0|      37.3|                       3.4|\n",
            "|     CYP|   Europe|  Cyprus|2020-03-14|      8.0|      null|       14.0|        null|             null|          0.0|     null|         null|            null|  896005.0|      37.3|                       3.4|\n",
            "|     CYP|   Europe|  Cyprus|2020-03-15|      7.0|      null|       21.0|        null|             null|          0.0|     null|         null|            null|  896005.0|      37.3|                       3.4|\n",
            "|     CYP|   Europe|  Cyprus|2020-03-16|      9.0|      null|       30.0|        null|             null|          0.0|     null|         null|            null|  896005.0|      37.3|                       3.4|\n",
            "|     CYP|   Europe|  Cyprus|2020-03-17|     10.0|      null|       40.0|        null|             null|          0.0|     null|         null|            null|  896005.0|      37.3|                       3.4|\n",
            "|     CYP|   Europe|  Cyprus|2020-03-18|      0.0|      null|       40.0|        null|             null|          0.0|     null|         null|            null|  896005.0|      37.3|                       3.4|\n",
            "|     CYP|   Europe|  Cyprus|2020-03-19|     18.0|      null|       58.0|        null|             null|          0.0|     null|         null|            null|  896005.0|      37.3|                       3.4|\n",
            "|     CYP|   Europe|  Cyprus|2020-03-20|      0.0|      null|       58.0|        null|             null|          0.0|     null|         null|            null|  896005.0|      37.3|                       3.4|\n",
            "|     CYP|   Europe|  Cyprus|2020-03-21|      9.0|      null|       67.0|        null|             null|          0.0|     null|         null|            null|  896005.0|      37.3|                       3.4|\n",
            "|     CYP|   Europe|  Cyprus|2020-03-22|     17.0|      null|       84.0|        null|             null|          0.0|     null|         null|            null|  896005.0|      37.3|                       3.4|\n",
            "|     CYP|   Europe|  Cyprus|2020-03-23|     11.0|      null|       95.0|        null|             null|          0.0|     null|         null|            null|  896005.0|      37.3|                       3.4|\n",
            "|     CYP|   Europe|  Cyprus|2020-03-24|     21.0|      null|      116.0|        null|             null|         24.0|     null|         null|            null|  896005.0|      37.3|                       3.4|\n",
            "|     CYP|   Europe|  Cyprus|2020-03-25|      8.0|       3.0|      124.0|         3.0|             1.18|         23.0|     null|         null|            null|  896005.0|      37.3|                       3.4|\n",
            "|     CYP|   Europe|  Cyprus|2020-03-26|      8.0|       0.0|      132.0|         3.0|             1.18|         21.0|     null|         null|            null|  896005.0|      37.3|                       3.4|\n",
            "|     CYP|   Europe|  Cyprus|2020-03-27|     14.0|       0.0|      146.0|         3.0|             1.21|         29.0|     null|         null|            null|  896005.0|      37.3|                       3.4|\n",
            "+--------+---------+--------+----------+---------+----------+-----------+------------+-----------------+-------------+---------+-------------+----------------+----------+----------+--------------------------+\n",
            "only showing top 20 rows\n",
            "\n"
          ]
        }
      ]
    },
    {
      "cell_type": "code",
      "source": [
        "# Write DataFrame to active_user table in RDS\n",
        "continents_df.write.jdbc(url=jdbc_url, table='Dataset_continents_data', mode=mode, properties=config)"
      ],
      "metadata": {
        "id": "7EPjByE05jWU"
      },
      "execution_count": 13,
      "outputs": []
    },
    {
      "cell_type": "code",
      "source": [
        "# Write DataFrame to active_user table in RDS\n",
        "countries_hml.write.jdbc(url=jdbc_url, table='Dataset_countries_hml_data', mode=mode, properties=config)"
      ],
      "metadata": {
        "id": "YDruphVtrXKu"
      },
      "execution_count": 14,
      "outputs": []
    }
  ]
}