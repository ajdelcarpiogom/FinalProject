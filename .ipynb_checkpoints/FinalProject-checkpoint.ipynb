{
 "cells": [
  {
   "cell_type": "code",
   "execution_count": 1,
   "id": "63384294",
   "metadata": {},
   "outputs": [],
   "source": [
    "import pandas as pd\n",
    "import numpy as np\n",
    "import random as rd\n",
    "import scipy.stats\n",
    "import statsmodels.api as sm\n",
    "import datetime as dt"
   ]
  },
  {
   "cell_type": "code",
   "execution_count": 2,
   "id": "434a71ff",
   "metadata": {},
   "outputs": [],
   "source": [
    "### Loading the data\n",
    "df = pd.read_csv(\"C:/Users/andre/Documents/Analysis_Projects/FinalProject/owid-covid-data.csv\")\n",
    "df.head()\n",
    "\n",
    "### We also want to make sure we fix the date column.\n",
    "df[\"date\"] = pd.to_datetime(df[\"date\"])\n",
    "df.replace(np.nan, 0, inplace = True)\n",
    "countries_df = df[df.continent != 0]\n",
    "countries_df = countries_df.loc[countries_df[\"location\"] != countries_df[\"continent\"]]"
   ]
  },
  {
   "cell_type": "code",
   "execution_count": 3,
   "id": "36fcd74c",
   "metadata": {},
   "outputs": [
    {
     "data": {
      "text/html": [
       "<div>\n",
       "<style scoped>\n",
       "    .dataframe tbody tr th:only-of-type {\n",
       "        vertical-align: middle;\n",
       "    }\n",
       "\n",
       "    .dataframe tbody tr th {\n",
       "        vertical-align: top;\n",
       "    }\n",
       "\n",
       "    .dataframe thead th {\n",
       "        text-align: right;\n",
       "    }\n",
       "</style>\n",
       "<table border=\"1\" class=\"dataframe\">\n",
       "  <thead>\n",
       "    <tr style=\"text-align: right;\">\n",
       "      <th></th>\n",
       "      <th>iso_code</th>\n",
       "      <th>continent</th>\n",
       "      <th>location</th>\n",
       "      <th>date</th>\n",
       "      <th>new_cases</th>\n",
       "      <th>new_deaths</th>\n",
       "      <th>total_cases</th>\n",
       "      <th>total_deaths</th>\n",
       "      <th>reproduction_rate</th>\n",
       "      <th>hosp_patients</th>\n",
       "      <th>new_tests</th>\n",
       "      <th>total_tests</th>\n",
       "      <th>positive_rate</th>\n",
       "      <th>new_vaccinations</th>\n",
       "      <th>population</th>\n",
       "      <th>median_age</th>\n",
       "      <th>hospital_beds_per_thousand</th>\n",
       "    </tr>\n",
       "  </thead>\n",
       "  <tbody>\n",
       "    <tr>\n",
       "      <th>0</th>\n",
       "      <td>AFG</td>\n",
       "      <td>Asia</td>\n",
       "      <td>Afghanistan</td>\n",
       "      <td>2020-02-24</td>\n",
       "      <td>5.0</td>\n",
       "      <td>0.0</td>\n",
       "      <td>5.0</td>\n",
       "      <td>0.0</td>\n",
       "      <td>0.0</td>\n",
       "      <td>0.0</td>\n",
       "      <td>0.0</td>\n",
       "      <td>0.0</td>\n",
       "      <td>0.0</td>\n",
       "      <td>0.0</td>\n",
       "      <td>39835428.0</td>\n",
       "      <td>18.6</td>\n",
       "      <td>0.5</td>\n",
       "    </tr>\n",
       "    <tr>\n",
       "      <th>1</th>\n",
       "      <td>AFG</td>\n",
       "      <td>Asia</td>\n",
       "      <td>Afghanistan</td>\n",
       "      <td>2020-02-25</td>\n",
       "      <td>0.0</td>\n",
       "      <td>0.0</td>\n",
       "      <td>5.0</td>\n",
       "      <td>0.0</td>\n",
       "      <td>0.0</td>\n",
       "      <td>0.0</td>\n",
       "      <td>0.0</td>\n",
       "      <td>0.0</td>\n",
       "      <td>0.0</td>\n",
       "      <td>0.0</td>\n",
       "      <td>39835428.0</td>\n",
       "      <td>18.6</td>\n",
       "      <td>0.5</td>\n",
       "    </tr>\n",
       "    <tr>\n",
       "      <th>2</th>\n",
       "      <td>AFG</td>\n",
       "      <td>Asia</td>\n",
       "      <td>Afghanistan</td>\n",
       "      <td>2020-02-26</td>\n",
       "      <td>0.0</td>\n",
       "      <td>0.0</td>\n",
       "      <td>5.0</td>\n",
       "      <td>0.0</td>\n",
       "      <td>0.0</td>\n",
       "      <td>0.0</td>\n",
       "      <td>0.0</td>\n",
       "      <td>0.0</td>\n",
       "      <td>0.0</td>\n",
       "      <td>0.0</td>\n",
       "      <td>39835428.0</td>\n",
       "      <td>18.6</td>\n",
       "      <td>0.5</td>\n",
       "    </tr>\n",
       "    <tr>\n",
       "      <th>3</th>\n",
       "      <td>AFG</td>\n",
       "      <td>Asia</td>\n",
       "      <td>Afghanistan</td>\n",
       "      <td>2020-02-27</td>\n",
       "      <td>0.0</td>\n",
       "      <td>0.0</td>\n",
       "      <td>5.0</td>\n",
       "      <td>0.0</td>\n",
       "      <td>0.0</td>\n",
       "      <td>0.0</td>\n",
       "      <td>0.0</td>\n",
       "      <td>0.0</td>\n",
       "      <td>0.0</td>\n",
       "      <td>0.0</td>\n",
       "      <td>39835428.0</td>\n",
       "      <td>18.6</td>\n",
       "      <td>0.5</td>\n",
       "    </tr>\n",
       "    <tr>\n",
       "      <th>4</th>\n",
       "      <td>AFG</td>\n",
       "      <td>Asia</td>\n",
       "      <td>Afghanistan</td>\n",
       "      <td>2020-02-28</td>\n",
       "      <td>0.0</td>\n",
       "      <td>0.0</td>\n",
       "      <td>5.0</td>\n",
       "      <td>0.0</td>\n",
       "      <td>0.0</td>\n",
       "      <td>0.0</td>\n",
       "      <td>0.0</td>\n",
       "      <td>0.0</td>\n",
       "      <td>0.0</td>\n",
       "      <td>0.0</td>\n",
       "      <td>39835428.0</td>\n",
       "      <td>18.6</td>\n",
       "      <td>0.5</td>\n",
       "    </tr>\n",
       "  </tbody>\n",
       "</table>\n",
       "</div>"
      ],
      "text/plain": [
       "  iso_code continent     location       date  new_cases  new_deaths  \\\n",
       "0      AFG      Asia  Afghanistan 2020-02-24        5.0         0.0   \n",
       "1      AFG      Asia  Afghanistan 2020-02-25        0.0         0.0   \n",
       "2      AFG      Asia  Afghanistan 2020-02-26        0.0         0.0   \n",
       "3      AFG      Asia  Afghanistan 2020-02-27        0.0         0.0   \n",
       "4      AFG      Asia  Afghanistan 2020-02-28        0.0         0.0   \n",
       "\n",
       "   total_cases  total_deaths  reproduction_rate  hosp_patients  new_tests  \\\n",
       "0          5.0           0.0                0.0            0.0        0.0   \n",
       "1          5.0           0.0                0.0            0.0        0.0   \n",
       "2          5.0           0.0                0.0            0.0        0.0   \n",
       "3          5.0           0.0                0.0            0.0        0.0   \n",
       "4          5.0           0.0                0.0            0.0        0.0   \n",
       "\n",
       "   total_tests  positive_rate  new_vaccinations  population  median_age  \\\n",
       "0          0.0            0.0               0.0  39835428.0        18.6   \n",
       "1          0.0            0.0               0.0  39835428.0        18.6   \n",
       "2          0.0            0.0               0.0  39835428.0        18.6   \n",
       "3          0.0            0.0               0.0  39835428.0        18.6   \n",
       "4          0.0            0.0               0.0  39835428.0        18.6   \n",
       "\n",
       "   hospital_beds_per_thousand  \n",
       "0                         0.5  \n",
       "1                         0.5  \n",
       "2                         0.5  \n",
       "3                         0.5  \n",
       "4                         0.5  "
      ]
     },
     "execution_count": 3,
     "metadata": {},
     "output_type": "execute_result"
    }
   ],
   "source": [
    "### Take only the columns we want\n",
    "\n",
    "countries_df = countries_df[[\"iso_code\", \"continent\", \"location\", \"date\", \"new_cases\", \"new_deaths\", \"total_cases\", \"total_deaths\", \"reproduction_rate\", \"hosp_patients\", \"new_tests\", \"total_tests\", \"positive_rate\", \"new_vaccinations\", \"population\", \"median_age\", \"hospital_beds_per_thousand\" ]]\n",
    "\n",
    "countries_df.head()"
   ]
  },
  {
   "cell_type": "code",
   "execution_count": 4,
   "id": "75ff41a3",
   "metadata": {
    "scrolled": true
   },
   "outputs": [],
   "source": [
    "### In order to clean this data, we didn't want to drop the null so we decided to replace it with zero instead.\n",
    "countries_df.to_csv(\"cleaned_data_andrea.csv\", index = False)"
   ]
  },
  {
   "cell_type": "code",
   "execution_count": 5,
   "id": "9e178a2a",
   "metadata": {},
   "outputs": [],
   "source": [
    "### Grouping the countries in levels of risk of COVID by looking at the total cases.\n",
    "\n",
    "grouped_df = countries_df.groupby(\"location\")\n",
    "grouped_lists = grouped_df[\"total_cases\"].mean()\n",
    "grouped_lists = grouped_lists.reset_index()\n",
    "\n",
    "# grouped_lists.describe()\n",
    "\n",
    "grouped_lists = grouped_lists.sort_values(by=[\"total_cases\"])\n",
    "\n",
    "# Grouping the list by aver  age of total_cases\n",
    "low = grouped_lists[0:75]\n",
    "med = grouped_lists[75:150]\n",
    "high = grouped_lists[150:]"
   ]
  },
  {
   "cell_type": "code",
   "execution_count": 6,
   "id": "e06c3e19",
   "metadata": {},
   "outputs": [],
   "source": [
    "# Creating a new column to determine\n",
    "countries_df['risk_level'] = ['low' if x<=max(low[\"total_cases\"]) else 'med' if min(med[\"total_cases\"])<=x<=max(med[\"total_cases\"]) else 'high' for x in countries_df['total_cases']]"
   ]
  },
  {
   "cell_type": "code",
   "execution_count": 7,
   "id": "c5957a2e",
   "metadata": {},
   "outputs": [
    {
     "data": {
      "text/plain": [
       "array(['Sint Maarten (Dutch part)', 'Niue', 'Tokelau', 'Northern Cyprus',\n",
       "       'Turkmenistan', 'Tuvalu', 'Guernsey', 'Jersey', 'Nauru',\n",
       "       'Pitcairn', 'Tonga', 'Micronesia (country)', 'Cook Islands',\n",
       "       'Kiribati', 'Samoa', 'Vanuatu', 'Saint Helena', 'Marshall Islands',\n",
       "       'Palau', 'Solomon Islands', 'Vatican', 'Montserrat',\n",
       "       'Saint Pierre and Miquelon', 'Falkland Islands', 'Macao',\n",
       "       'Anguilla', 'Wallis and Futuna', 'Greenland',\n",
       "       'Saint Kitts and Nevis', 'British Virgin Islands',\n",
       "       'Bonaire Sint Eustatius and Saba', 'Faeroe Islands', 'Bhutan',\n",
       "       'Dominica', 'Antigua and Barbuda', 'Cayman Islands', 'Grenada',\n",
       "       'Turks and Caicos Islands', 'Saint Vincent and the Grenadines',\n",
       "       'Monaco', 'Sao Tome and Principe', 'Bermuda', 'New Caledonia',\n",
       "       'Liechtenstein', 'Comoros', 'Brunei', 'Liberia', 'Isle of Man',\n",
       "       'Gibraltar', 'Chad', 'Eritrea', 'San Marino', 'New Zealand',\n",
       "       'Guinea-Bissau', 'Sierra Leone', 'Niger', 'Saint Lucia', 'Yemen',\n",
       "       'Mauritius', 'Gambia', 'Tanzania', 'Barbados', 'Taiwan', 'Timor',\n",
       "       'Central African Republic', 'Burundi', 'Equatorial Guinea',\n",
       "       'South Sudan', 'Iceland', 'Nicaragua', 'Hong Kong', 'Curacao',\n",
       "       'Djibouti', 'Aruba', 'Seychelles'], dtype=object)"
      ]
     },
     "execution_count": 7,
     "metadata": {},
     "output_type": "execute_result"
    }
   ],
   "source": [
    "low[\"location\"].unique()"
   ]
  },
  {
   "cell_type": "code",
   "execution_count": 8,
   "id": "c6cd8439",
   "metadata": {},
   "outputs": [
    {
     "data": {
      "text/plain": [
       "array(['Benin', 'Burkina Faso', 'Congo', 'Andorra', 'Mali', 'Lesotho',\n",
       "       'Bahamas', 'Papua New Guinea', 'Somalia', 'Togo', 'Belize',\n",
       "       'Tajikistan', 'Fiji', 'Haiti', 'Laos', 'Guyana', 'Suriname',\n",
       "       'Gabon', 'Guinea', 'Mauritania', 'Syria', 'French Polynesia',\n",
       "       'Cape Verde', 'Eswatini', 'Malta', 'Trinidad and Tobago', 'Sudan',\n",
       "       'Madagascar', 'Angola', 'Democratic Republic of Congo', 'Malawi',\n",
       "       'Cambodia', \"Cote d'Ivoire\", 'Senegal', 'Jamaica', 'Rwanda',\n",
       "       'Maldives', 'Luxembourg', 'Cameroon', 'Uganda', 'Cyprus',\n",
       "       'Zimbabwe', 'Namibia', 'El Salvador', 'Mozambique', 'Botswana',\n",
       "       'Montenegro', 'Finland', 'Ghana', 'Kosovo', 'Afghanistan',\n",
       "       'Australia', 'Estonia', 'Singapore', 'Albania', 'Latvia', 'China',\n",
       "       'Uzbekistan', 'Zambia', 'Kyrgyzstan', 'Mongolia', 'Norway',\n",
       "       'North Macedonia', 'Algeria', 'Nigeria', 'Kenya',\n",
       "       'Bosnia and Herzegovina', 'South Korea', 'Bahrain', 'Libya',\n",
       "       'Armenia', 'Slovenia', 'Qatar', 'Uruguay', 'Oman'], dtype=object)"
      ]
     },
     "execution_count": 8,
     "metadata": {},
     "output_type": "execute_result"
    }
   ],
   "source": [
    "med[\"location\"].unique()"
   ]
  },
  {
   "cell_type": "code",
   "execution_count": 9,
   "id": "f7b5780c",
   "metadata": {},
   "outputs": [
    {
     "data": {
      "text/plain": [
       "array(['Sri Lanka', 'Moldova', 'Egypt', 'Honduras', 'Ethiopia',\n",
       "       'Lithuania', 'Venezuela', 'Myanmar', 'Palestine', 'Denmark',\n",
       "       'Dominican Republic', 'Paraguay', 'Kuwait', 'Ireland', 'Guatemala',\n",
       "       'Croatia', 'Vietnam', 'Azerbaijan', 'Costa Rica', 'Cuba',\n",
       "       'Bolivia', 'Panama', 'Bulgaria', 'Belarus', 'Ecuador', 'Tunisia',\n",
       "       'Georgia', 'Greece', 'Lebanon', 'Nepal', 'United Arab Emirates',\n",
       "       'Saudi Arabia', 'Kazakhstan', 'Morocco', 'Jordan', 'Austria',\n",
       "       'Thailand', 'Hungary', 'Serbia', 'Slovakia', 'Switzerland',\n",
       "       'Japan', 'Portugal', 'Sweden', 'Israel', 'Pakistan', 'Malaysia',\n",
       "       'Bangladesh', 'Belgium', 'Romania', 'Canada', 'Iraq', 'Chile',\n",
       "       'Philippines', 'Czechia', 'Netherlands', 'Peru', 'South Africa',\n",
       "       'Ukraine', 'Indonesia', 'Poland', 'Mexico', 'Iran', 'Germany',\n",
       "       'Argentina', 'Colombia', 'Italy', 'Spain', 'Turkey', 'France',\n",
       "       'United Kingdom', 'Russia', 'Brazil', 'India', 'United States'],\n",
       "      dtype=object)"
      ]
     },
     "execution_count": 9,
     "metadata": {},
     "output_type": "execute_result"
    }
   ],
   "source": [
    "high[\"location\"].unique()"
   ]
  },
  {
   "cell_type": "code",
   "execution_count": 10,
   "id": "62426af0",
   "metadata": {},
   "outputs": [],
   "source": [
    "### Get 3 countries out of each\n",
    "def pick_three():\n",
    "    a = []\n",
    "    \n",
    "    low_cn = low.sample()\n",
    "    low_cn = low_cn[\"location\"].to_string()\n",
    "    \n",
    "    med_cn = med.sample()\n",
    "    med_cn = med_cn[\"location\"].to_string()\n",
    "    \n",
    "    high_cn = high.sample()\n",
    "    high_cn = high_cn[\"location\"].to_string()\n",
    "    \n",
    "    a.append(low_cn)\n",
    "    a.append(med_cn)\n",
    "    a.append(high_cn)\n",
    "    \n",
    "    new = []\n",
    "    for index in a:\n",
    "        for i,x in enumerate(index):\n",
    "            if x.isalpha():      #True if its a letter\n",
    "                pos = i \n",
    "                break\n",
    "        b = index[pos:]\n",
    "        new.append(b)\n",
    "    \n",
    "    return new"
   ]
  },
  {
   "cell_type": "code",
   "execution_count": 11,
   "id": "48f8f8a4",
   "metadata": {},
   "outputs": [
    {
     "data": {
      "text/plain": [
       "['Liechtenstein', 'Sudan', 'Bangladesh']"
      ]
     },
     "execution_count": 11,
     "metadata": {},
     "output_type": "execute_result"
    }
   ],
   "source": [
    "### Testing the function pick_three()\n",
    "a = pick_three()\n",
    "a"
   ]
  },
  {
   "cell_type": "code",
   "execution_count": 12,
   "id": "25387329",
   "metadata": {},
   "outputs": [],
   "source": [
    "### Now we can get to the ML Model"
   ]
  },
  {
   "cell_type": "code",
   "execution_count": 13,
   "id": "c230dc47",
   "metadata": {},
   "outputs": [],
   "source": [
    "def make_df():\n",
    "    countries = pick_three()\n",
    "    new_df = pd.DataFrame(columns = countries_df.columns)\n",
    "    entries = []\n",
    "\n",
    "    for i in countries_df[\"location\"]:\n",
    "        if i in countries:\n",
    "            entry = countries_df.loc[countries_df['location'] == i]\n",
    "            entries.append(entry)\n",
    "\n",
    "    found_df = pd.concat(entries)\n",
    "    result_df = pd.concat([new_df, found_df])\n",
    "    \n",
    "    return result_df"
   ]
  },
  {
   "cell_type": "code",
   "execution_count": 14,
   "id": "4b21a226",
   "metadata": {},
   "outputs": [],
   "source": [
    "### Now, we obviously want to see the correlation\n",
    "def tests_vs_cases():\n",
    "    a = make_df()\n",
    "    data1 = a.loc[a[\"location\"] == a[\"location\"].unique()[0]]\n",
    "    data2 = a.loc[a[\"location\"] == a[\"location\"].unique()[1]]\n",
    "    data3 = a.loc[a[\"location\"] == a[\"location\"].unique()[2]]\n",
    "    \n",
    "    data1_col1 = data1[\"new_tests\"]\n",
    "    data1_col2 = data1[\"new_cases\"]\n",
    "\n",
    "    data2_col1 = data2[\"new_tests\"]\n",
    "    data2_col2 = data2[\"new_cases\"]\n",
    "\n",
    "    data3_col1 = data3[\"new_tests\"]\n",
    "    data3_col2 = data3[\"new_cases\"]\n",
    "\n",
    "    data1_corr = data1_col1.corr(data1_col2, method = \"pearson\")\n",
    "    data2_corr = data2_col1.corr(data2_col2, method = \"pearson\")\n",
    "    data3_corr = data3_col1.corr(data3_col2, method = \"pearson\")\n",
    "        \n",
    "    \n",
    "    ### Now let's see if we can obtain the entire summary statistics for the linear regression model.\n",
    "    total_tests_1 = data1_col1.to_list()\n",
    "    total_cases_1 = data1_col2.to_list()\n",
    "    total_tests_1, total_cases_1 = np.array(total_tests_1), np.array(total_cases_1)\n",
    "    total_tests_1 = sm.add_constant(total_tests_1)\n",
    "    model1 = sm.OLS(total_cases_1, total_tests_1)\n",
    "    results1 = model1.fit()\n",
    "    \n",
    "    print(f\"Low Risk: The correlation coefficient between the new tests administered and the new cases in \" + data1[\"location\"].unique()[0] + \" is \" + str(data1_corr))\n",
    "    print(\"------------------------------------------------------------------------------------------------\")\n",
    "   # print(f\"Model summary for: \" + data1[\"location\"].unique()[0] + \".\")\n",
    "   # print(results1.summary())\n",
    "   # print(\"------------------------------------------------------------------------------------------------\")\n",
    "\n",
    "    \n",
    "    total_tests_2 = data2_col1.to_list()\n",
    "    total_cases_2 = data2_col2.to_list()\n",
    "    total_tests_2, total_cases_2 = np.array(total_tests_2), np.array(total_cases_2)\n",
    "    total_tests_2 = sm.add_constant(total_tests_2)\n",
    "    model2 = sm.OLS(total_cases_2, total_tests_2)\n",
    "    results2 = model2.fit()\n",
    "    \n",
    "    print(f\"Med Risk: The correlation coefficient between the new tests administered and the new cases in \" + data2[\"location\"].unique()[0] + \" is \" + str(data2_corr))\n",
    "    print(\"------------------------------------------------------------------------------------------------\")\n",
    "   # print(f\"Model summary for: \" + data2[\"location\"].unique()[0] + \".\")\n",
    "   # print(results2.summary())\n",
    "  #  print(\"------------------------------------------------------------------------------------------------\")\n",
    "\n",
    "    total_tests_3 = data3_col1.to_list()\n",
    "    total_cases_3 = data3_col2.to_list()\n",
    "    total_tests_3, total_cases_3 = np.array(total_tests_3), np.array(total_cases_3)\n",
    "    total_tests_3 = sm.add_constant(total_tests_3)\n",
    "    model3 = sm.OLS(total_cases_3, total_tests_3)\n",
    "    results3 = model3.fit()\n",
    "    \n",
    "    print(f\"High Risk: The correlation coefficient between the new tests administered and the new cases in \" + data3[\"location\"].unique()[0] + \" is \" + str(data3_corr))\n",
    "    print(\"------------------------------------------------------------------------------------------------\")    \n",
    "  #  print(f\"Model summary for: \" + data3[\"location\"].unique()[0] + \".\")\n",
    "   # print(results3.summary())\n",
    "    #print(\"------------------------------------------------------------------------------------------------\")\n",
    "\n",
    "    return a"
   ]
  },
  {
   "cell_type": "code",
   "execution_count": 15,
   "id": "67b0bfe6",
   "metadata": {},
   "outputs": [
    {
     "name": "stdout",
     "output_type": "stream",
     "text": [
      "Low Risk: The correlation coefficient between the new tests administered and the new cases in Cayman Islands is nan\n",
      "------------------------------------------------------------------------------------------------\n",
      "Med Risk: The correlation coefficient between the new tests administered and the new cases in Congo is nan\n",
      "------------------------------------------------------------------------------------------------\n",
      "High Risk: The correlation coefficient between the new tests administered and the new cases in Paraguay is 0.4468857333652721\n",
      "------------------------------------------------------------------------------------------------\n"
     ]
    }
   ],
   "source": [
    "test = tests_vs_cases()"
   ]
  },
  {
   "cell_type": "markdown",
   "id": "2fcdfa79",
   "metadata": {},
   "source": [
    "# Now we will move on to seeing whether the tests and deaths"
   ]
  },
  {
   "cell_type": "code",
   "execution_count": 16,
   "id": "b4d3dbb1",
   "metadata": {},
   "outputs": [],
   "source": [
    "def tests_vs_deaths():\n",
    "    a = make_df()\n",
    "    data1 = a.loc[a[\"location\"] == a[\"location\"].unique()[0]]\n",
    "    data2 = a.loc[a[\"location\"] == a[\"location\"].unique()[1]]\n",
    "    data3 = a.loc[a[\"location\"] == a[\"location\"].unique()[2]]\n",
    "    \n",
    "    data1_col1 = data1[\"new_tests\"]\n",
    "    data1_col2 = data1[\"new_deaths\"]\n",
    "\n",
    "    data2_col1 = data2[\"new_tests\"]\n",
    "    data2_col2 = data2[\"new_deaths\"]\n",
    "\n",
    "    data3_col1 = data3[\"new_tests\"]\n",
    "    data3_col2 = data3[\"new_deaths\"]\n",
    "\n",
    "    data1_corr = data1_col1.corr(data1_col2, method = \"pearson\")\n",
    "    data2_corr = data2_col1.corr(data2_col2, method = \"pearson\")\n",
    "    data3_corr = data3_col1.corr(data3_col2, method = \"pearson\")\n",
    "        \n",
    "    \n",
    "    ### Now let's see if we can obtain the entire summary statistics for the linear regression model.\n",
    "    total_tests_1 = data1_col1.to_list()\n",
    "    total_deaths_1 = data1_col2.to_list()\n",
    "    total_tests_1, total_deaths_1 = np.array(total_tests_1), np.array(total_deaths_1)\n",
    "    total_tests_1 = sm.add_constant(total_tests_1)\n",
    "    model1 = sm.OLS(total_deaths_1, total_tests_1)\n",
    "    results1 = model1.fit()\n",
    "    \n",
    "    print(f\"Low Risk: The correlation coefficient between the new tests administered and the new deaths in \" + data1[\"location\"].unique()[0] + \" is \" + str(data1_corr))\n",
    "    print(\"------------------------------------------------------------------------------------------------\")\n",
    "#    print(f\"Model summary for: \" + data1[\"location\"].unique()[0] + \".\")\n",
    " #   print(results1.summary())\n",
    "  #  print(\"------------------------------------------------------------------------------------------------\")\n",
    "\n",
    "    \n",
    "    total_tests_2 = data2_col1.to_list()\n",
    "    total_deaths_2 = data2_col2.to_list()\n",
    "    total_tests_2, total_deaths_2 = np.array(total_tests_2), np.array(total_deaths_2)\n",
    "    total_tests_2 = sm.add_constant(total_tests_2)\n",
    "    model2 = sm.OLS(total_deaths_2, total_tests_2)\n",
    "    results2 = model2.fit()\n",
    "    \n",
    "    print(f\"Med Risk: The correlation coefficient between the new tests administered and the new deaths in \" + data2[\"location\"].unique()[0] + \" is \" + str(data2_corr))\n",
    "    print(\"------------------------------------------------------------------------------------------------\")\n",
    " #   print(f\"Model summary for: \" + data2[\"location\"].unique()[0] + \".\")\n",
    "  #  print(results2.summary())\n",
    "   # print(\"------------------------------------------------------------------------------------------------\")\n",
    "\n",
    "    total_tests_3 = data3_col1.to_list()\n",
    "    total_deaths_3 = data3_col2.to_list()\n",
    "    total_tests_3, total_deaths_3 = np.array(total_tests_3), np.array(total_deaths_3)\n",
    "    total_tests_3 = sm.add_constant(total_tests_3)\n",
    "    model3 = sm.OLS(total_deaths_3, total_tests_3)\n",
    "    results3 = model3.fit()\n",
    "    \n",
    "    print(f\"High Risk: The correlation coefficient between the new tests administered and the new deaths in \" + data3[\"location\"].unique()[0] + \" is \" + str(data3_corr))\n",
    "    print(\"------------------------------------------------------------------------------------------------\")    \n",
    "#    print(f\"Model summary for: \" + data3[\"location\"].unique()[0] + \".\")\n",
    " #   print(results3.summary())\n",
    "  #  print(\"------------------------------------------------------------------------------------------------\")\n",
    "\n",
    "    return a"
   ]
  },
  {
   "cell_type": "code",
   "execution_count": 17,
   "id": "cf0a9e89",
   "metadata": {},
   "outputs": [
    {
     "name": "stdout",
     "output_type": "stream",
     "text": [
      "Low Risk: The correlation coefficient between the new tests administered and the new deaths in Guinea-Bissau is nan\n",
      "------------------------------------------------------------------------------------------------\n",
      "Med Risk: The correlation coefficient between the new tests administered and the new deaths in Lithuania is 0.47148260309654233\n",
      "------------------------------------------------------------------------------------------------\n",
      "High Risk: The correlation coefficient between the new tests administered and the new deaths in South Korea is 0.6497487124277705\n",
      "------------------------------------------------------------------------------------------------\n"
     ]
    }
   ],
   "source": [
    "deaths = tests_vs_deaths()"
   ]
  },
  {
   "cell_type": "code",
   "execution_count": 18,
   "id": "913e2e8d",
   "metadata": {},
   "outputs": [],
   "source": [
    "def vacs_vs_cases():\n",
    "    a = make_df()\n",
    "    data1 = a.loc[a[\"location\"] == a[\"location\"].unique()[0]]\n",
    "    data2 = a.loc[a[\"location\"] == a[\"location\"].unique()[1]]\n",
    "    data3 = a.loc[a[\"location\"] == a[\"location\"].unique()[2]]\n",
    "    \n",
    "    data1_col1 = data1[\"new_vaccinations\"]\n",
    "    data1_col2 = data1[\"total_cases\"]\n",
    "\n",
    "    data2_col1 = data2[\"new_vaccinations\"]\n",
    "    data2_col2 = data2[\"total_cases\"]\n",
    "\n",
    "    data3_col1 = data3[\"new_vaccinations\"]\n",
    "    data3_col2 = data3[\"total_cases\"]\n",
    "\n",
    "    data1_corr = data1_col1.corr(data1_col2)\n",
    "    data2_corr = data2_col1.corr(data2_col2)\n",
    "    data3_corr = data3_col1.corr(data3_col2)\n",
    "        \n",
    "    \n",
    "    ### Now let's see if we can obtain the entire summary statistics for the linear regression model.\n",
    "    new_vacs_1 = data1_col1.to_list()\n",
    "    total_cases_1 = data1_col2.to_list()\n",
    "    new_vacs_1, total_cases_1 = np.array(new_vacs_1), np.array(total_cases_1)\n",
    "    new_vacs_1 = sm.add_constant(new_vacs_1)\n",
    "    model1 = sm.OLS(total_cases_1, new_vacs_1)\n",
    "    results1 = model1.fit()\n",
    "    \n",
    "    print(f\"Low Risk: The correlation coefficient between the new vaccines administered and the new cases in \" + data1[\"location\"].unique()[0] + \" is \" + str(data1_corr))\n",
    "    print(\"------------------------------------------------------------------------------------------------\")\n",
    "#    print(f\"Model summary for: \" + data1[\"location\"].unique()[0] + \".\")\n",
    " #   print(results1.summary())\n",
    "  #  print(\"------------------------------------------------------------------------------------------------\")\n",
    "\n",
    "    \n",
    "    total_tests_2 = data2_col1.to_list()\n",
    "    total_deaths_2 = data2_col2.to_list()\n",
    "    total_tests_2, total_deaths_2 = np.array(total_tests_2), np.array(total_deaths_2)\n",
    "    total_tests_2 = sm.add_constant(total_tests_2)\n",
    "    model2 = sm.OLS(total_deaths_2, total_tests_2)\n",
    "    results2 = model2.fit()\n",
    "    \n",
    "    print(f\"Med Risk: The correlation coefficient between the new vaccines administered and the new cases in \" + data2[\"location\"].unique()[0] + \" is \" + str(data2_corr))\n",
    "    print(\"------------------------------------------------------------------------------------------------\")\n",
    "#    print(f\"Model summary for: \" + data2[\"location\"].unique()[0] + \".\")\n",
    " #   print(results2.summary())\n",
    "  #  print(\"------------------------------------------------------------------------------------------------\")\n",
    "\n",
    "    total_tests_3 = data3_col1.to_list()\n",
    "    total_deaths_3 = data3_col2.to_list()\n",
    "    total_tests_3, total_deaths_3 = np.array(total_tests_3), np.array(total_deaths_3)\n",
    "    total_tests_3 = sm.add_constant(total_tests_3)\n",
    "    model3 = sm.OLS(total_deaths_3, total_tests_3)\n",
    "    results3 = model3.fit()\n",
    "    \n",
    "    print(f\"High Risk: The correlation coefficient between the new vaccines administered and the new cases in \" + data3[\"location\"].unique()[0] + \" is \" + str(data3_corr))\n",
    "    print(\"------------------------------------------------------------------------------------------------\")    \n",
    "#    print(f\"Model summary for: \" + data3[\"location\"].unique()[0] + \".\")\n",
    " #   print(results3.summary())\n",
    "  #  print(\"------------------------------------------------------------------------------------------------\")\n",
    "\n",
    "    return a"
   ]
  },
  {
   "cell_type": "code",
   "execution_count": 19,
   "id": "07e17d71",
   "metadata": {},
   "outputs": [
    {
     "name": "stdout",
     "output_type": "stream",
     "text": [
      "Low Risk: The correlation coefficient between the new vaccines administered and the new cases in Belize is 0.07206313003822566\n",
      "------------------------------------------------------------------------------------------------\n",
      "Med Risk: The correlation coefficient between the new vaccines administered and the new cases in Jordan is 0.36252059504326833\n",
      "------------------------------------------------------------------------------------------------\n",
      "High Risk: The correlation coefficient between the new vaccines administered and the new cases in Nicaragua is nan\n",
      "------------------------------------------------------------------------------------------------\n"
     ]
    }
   ],
   "source": [
    "vacscases = vacs_vs_cases()"
   ]
  },
  {
   "cell_type": "code",
   "execution_count": 20,
   "id": "2c5f934f",
   "metadata": {},
   "outputs": [],
   "source": [
    "def vacs_vs_deaths():\n",
    "    a = make_df()\n",
    "    data1 = a.loc[a[\"location\"] == a[\"location\"].unique()[0]]\n",
    "    data2 = a.loc[a[\"location\"] == a[\"location\"].unique()[1]]\n",
    "    data3 = a.loc[a[\"location\"] == a[\"location\"].unique()[2]]\n",
    "    \n",
    "    data1_col1 = data1[\"new_vaccinations\"]\n",
    "    data1_col2 = data1[\"new_deaths\"]\n",
    "\n",
    "    data2_col1 = data2[\"new_vaccinations\"]\n",
    "    data2_col2 = data2[\"new_deaths\"]\n",
    "\n",
    "    data3_col1 = data3[\"new_vaccinations\"]\n",
    "    data3_col2 = data3[\"new_deaths\"]\n",
    "\n",
    "    data1_corr = data1_col1.corr(data1_col2)\n",
    "    data2_corr = data2_col1.corr(data2_col2)\n",
    "    data3_corr = data3_col1.corr(data3_col2)\n",
    "        \n",
    "    \n",
    "    ### Now let's see if we can obtain the entire summary statistics for the linear regression model.\n",
    "    new_vacs_1 = data1_col1.to_list()\n",
    "    total_deaths_1 = data1_col2.to_list()\n",
    "    new_vacs_1, total_deaths_1 = np.array(new_vacs_1), np.array(total_deaths_1)\n",
    "    new_vacs_1 = sm.add_constant(new_vacs_1)\n",
    "    model1 = sm.OLS(total_deaths_1, new_vacs_1)\n",
    "    results1 = model1.fit()\n",
    "    \n",
    "    print(f\"Low Risk: The correlation coefficient between the new vaccinations administered and the new deaths in \" + data1[\"location\"].unique()[0] + \" is \" + str(data1_corr))\n",
    "    print(\"------------------------------------------------------------------------------------------------\")\n",
    "#    print(f\"Model summary for: \" + data1[\"location\"].unique()[0] + \".\")\n",
    " #   print(results1.summary())\n",
    "  #  print(\"------------------------------------------------------------------------------------------------\")\n",
    "\n",
    "    \n",
    "    new_vacs_2 = data2_col1.to_list()\n",
    "    total_deaths_2 = data2_col2.to_list()\n",
    "    new_vacs_2, total_deaths_2 = np.array(new_vacs_2), np.array(total_deaths_2)\n",
    "    new_vacs_2 = sm.add_constant(new_vacs_2)\n",
    "    model2 = sm.OLS(total_deaths_2, new_vacs_2)\n",
    "    results2 = model2.fit()\n",
    "    \n",
    "    print(f\"Med Risk: The correlation coefficient between the new vaccinations administered and the new deaths in \" + data2[\"location\"].unique()[0] + \" is \" + str(data2_corr))\n",
    "    print(\"------------------------------------------------------------------------------------------------\")\n",
    "#    print(f\"Model summary for: \" + data2[\"location\"].unique()[0] + \".\")\n",
    " #   print(results2.summary())\n",
    "  #  print(\"------------------------------------------------------------------------------------------------\")\n",
    "\n",
    "    total_tests_3 = data3_col1.to_list()\n",
    "    total_deaths_3 = data3_col2.to_list()\n",
    "    total_tests_3, total_deaths_3 = np.array(total_tests_3), np.array(total_deaths_3)\n",
    "    total_tests_3 = sm.add_constant(total_tests_3)\n",
    "    model3 = sm.OLS(total_deaths_3, total_tests_3)\n",
    "    results3 = model3.fit()\n",
    "    \n",
    "    print(f\"High Risk: The correlation coefficient between the new vaccinations administered and the new deaths in \" + data3[\"location\"].unique()[0] + \" is \" + str(data3_corr))\n",
    "    print(\"------------------------------------------------------------------------------------------------\")    \n",
    " #   print(f\"Model summary for: \" + data3[\"location\"].unique()[0] + \".\")\n",
    "  #  print(results3.summary())\n",
    "   # print(\"------------------------------------------------------------------------------------------------\")\n",
    "\n",
    "    return a"
   ]
  },
  {
   "cell_type": "code",
   "execution_count": 21,
   "id": "f3eb8c0b",
   "metadata": {},
   "outputs": [
    {
     "name": "stdout",
     "output_type": "stream",
     "text": [
      "Low Risk: The correlation coefficient between the new vaccinations administered and the new deaths in Bahamas is -0.011248606170009452\n",
      "------------------------------------------------------------------------------------------------\n",
      "Med Risk: The correlation coefficient between the new vaccinations administered and the new deaths in Israel is 0.6198639375784082\n",
      "------------------------------------------------------------------------------------------------\n",
      "High Risk: The correlation coefficient between the new vaccinations administered and the new deaths in Tanzania is nan\n",
      "------------------------------------------------------------------------------------------------\n"
     ]
    }
   ],
   "source": [
    "vacsdeaths = vacs_vs_deaths()"
   ]
  },
  {
   "cell_type": "code",
   "execution_count": 26,
   "id": "51973f0d",
   "metadata": {},
   "outputs": [],
   "source": [
    "### These would be used for Tableau\n",
    "\n",
    "asia_df = countries_df[countries_df[\"continent\"] == \"Asia\"]\n",
    "europe_df = countries_df[countries_df[\"continent\"] == \"Europe\"]\n",
    "na_df = countries_df[countries_df[\"continent\"] == \"North America\"]\n",
    "sa_df = countries_df[countries_df[\"continent\"] == \"South America\"]\n",
    "oceania_df = countries_df[countries_df[\"continent\"] == \"Oceania\"]\n",
    "africa_df = countries_df[countries_df[\"continent\"] == \"Africa\"]\n",
    "\n",
    "asia_df.to_csv(\"asia_df.csv\", index = False)\n",
    "europe_df.to_csv(\"europe_df.csv\", index = False)\n",
    "na_df.to_csv(\"northamerica_df.csv\", index = False)\n",
    "sa_df.to_csv(\"southamerica_df.csv\", index = False)\n",
    "oceania_df.to_csv(\"oceania_df.csv\", index = False)\n",
    "africa_df.to_csv(\"africa_df.csv\", index = False)"
   ]
  },
  {
   "cell_type": "code",
   "execution_count": null,
   "id": "503d9de2",
   "metadata": {},
   "outputs": [],
   "source": []
  },
  {
   "cell_type": "code",
   "execution_count": 27,
   "id": "c9842333",
   "metadata": {},
   "outputs": [],
   "source": [
    "import matplotlib.pyplot as plt\n",
    "from statsmodels.graphics.regressionplots import abline_plot\n",
    "import seaborn as sns"
   ]
  },
  {
   "cell_type": "markdown",
   "id": "b92546be",
   "metadata": {},
   "source": [
    "### Tests vs Cases"
   ]
  },
  {
   "cell_type": "code",
   "execution_count": 28,
   "id": "9d13e992",
   "metadata": {},
   "outputs": [
    {
     "data": {
      "text/plain": [
       "array(['Marshall Islands', 'Slovenia', 'Venezuela'], dtype=object)"
      ]
     },
     "execution_count": 28,
     "metadata": {},
     "output_type": "execute_result"
    }
   ],
   "source": [
    "### Tests vs Cases\n",
    "t_vs_c = make_df()\n",
    "\n",
    "t_vs_c[\"location\"].unique()"
   ]
  },
  {
   "cell_type": "code",
   "execution_count": 29,
   "id": "cbe875b4",
   "metadata": {},
   "outputs": [],
   "source": [
    "first = t_vs_c.loc[t_vs_c[\"location\"] == t_vs_c[\"location\"].unique()[0]]\n",
    "second = t_vs_c.loc[t_vs_c[\"location\"] == t_vs_c[\"location\"].unique()[1]]\n",
    "third = t_vs_c.loc[t_vs_c[\"location\"] == t_vs_c[\"location\"].unique()[2]]\n",
    "dates = t_vs_c[\"date\"]"
   ]
  },
  {
   "cell_type": "code",
   "execution_count": null,
   "id": "99d05657",
   "metadata": {},
   "outputs": [],
   "source": []
  },
  {
   "cell_type": "code",
   "execution_count": 30,
   "id": "3d45dbe4",
   "metadata": {
    "scrolled": true
   },
   "outputs": [
    {
     "name": "stdout",
     "output_type": "stream",
     "text": [
      "nan\n"
     ]
    },
    {
     "data": {
      "text/plain": [
       "<matplotlib.legend.Legend at 0x158c1c4bf88>"
      ]
     },
     "execution_count": 30,
     "metadata": {},
     "output_type": "execute_result"
    },
    {
     "data": {
      "image/png": "[encoded data removed]",
      "text/plain": [
       "<Figure size 432x288 with 1 Axes>"
      ]
     },
     "metadata": {
      "needs_background": "light"
     },
     "output_type": "display_data"
    }
   ],
   "source": [
    "tests1 = first[\"total_tests\"]\n",
    "cases1 = first[\"total_cases\"]\n",
    "corr1 = tests1.corr(cases1, method = \"pearson\")\n",
    "print(corr1)\n",
    "\n",
    "tests1, cases1 = np.array(tests1), np.array(cases1)\n",
    "tests1 = sm.add_constant(tests1)\n",
    "model1 = sm.OLS(cases1, tests1)\n",
    "results1 = model1.fit()\n",
    "\n",
    "fc = pd.DataFrame(first, columns = ['date', 'total_cases'])\n",
    "ft = pd.DataFrame(first, columns = ['date', 'total_tests'])\n",
    "fc = plt.scatter(fc['date'], fc['total_cases'], label = 'Total Cases')\n",
    "ft = plt.scatter(ft['date'], ft['total_tests'], label = 'Total Tests')\n",
    "plt.title(f'Tests vs Cases in ' + first['location'].unique())\n",
    "plt.xticks(rotation = 45)\n",
    "plt.ylabel('Cases/Tests in')\n",
    "plt.xlabel('Date')\n",
    "#plt.scatter(first['date'], results1.fittedvalues, label = 'OLS')\n",
    "plt.legend()"
   ]
  },
  {
   "cell_type": "code",
   "execution_count": null,
   "id": "ba5387c4",
   "metadata": {},
   "outputs": [],
   "source": []
  },
  {
   "cell_type": "code",
   "execution_count": 31,
   "id": "5f20ef94",
   "metadata": {},
   "outputs": [
    {
     "data": {
      "text/plain": [
       "0.9719325293192326"
      ]
     },
     "execution_count": 31,
     "metadata": {},
     "output_type": "execute_result"
    }
   ],
   "source": [
    "tests2 = second[\"total_tests\"]\n",
    "cases2 = second[\"total_cases\"]\n",
    "corr2 = tests2.corr(cases2, method = \"pearson\")\n",
    "corr2"
   ]
  },
  {
   "cell_type": "code",
   "execution_count": 32,
   "id": "b7518ad5",
   "metadata": {},
   "outputs": [
    {
     "data": {
      "text/plain": [
       "nan"
      ]
     },
     "execution_count": 32,
     "metadata": {},
     "output_type": "execute_result"
    }
   ],
   "source": [
    "tests3 = third[\"total_tests\"]\n",
    "cases3 = third[\"total_cases\"]\n",
    "corr3 = tests3.corr(cases3, method = \"pearson\")\n",
    "corr3"
   ]
  },
  {
   "cell_type": "code",
   "execution_count": null,
   "id": "e60a780e",
   "metadata": {},
   "outputs": [],
   "source": []
  },
  {
   "cell_type": "code",
   "execution_count": null,
   "id": "06021097",
   "metadata": {},
   "outputs": [],
   "source": []
  }
 ],
 "metadata": {
  "kernelspec": {
   "display_name": "mlenv",
   "language": "python",
   "name": "mlenv"
  },
  "language_info": {
   "codemirror_mode": {
    "name": "ipython",
    "version": 3
   },
   "file_extension": ".py",
   "mimetype": "text/x-python",
   "name": "python",
   "nbconvert_exporter": "python",
   "pygments_lexer": "ipython3",
   "version": "3.7.11"
  }
 },
 "nbformat": 4,
 "nbformat_minor": 5
}
