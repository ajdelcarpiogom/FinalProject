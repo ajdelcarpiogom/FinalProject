{
 "cells": [
  {
   "cell_type": "code",
   "execution_count": 408,
   "id": "63384294",
   "metadata": {},
   "outputs": [],
   "source": [
    "import pandas as pd\n",
    "import numpy as np\n",
    "import random as rd\n",
    "import scipy.stats\n",
    "import statsmodels.api as sm\n",
    "import datetime as dt\n",
    "import matplotlib.pyplot as plt\n",
    "from statsmodels.formula.api import ols\n",
    "import seaborn as sns"
   ]
  },
  {
   "cell_type": "code",
   "execution_count": 397,
   "id": "434a71ff",
   "metadata": {},
   "outputs": [],
   "source": [
    "### Loading the data\n",
    "df = pd.read_csv(\"C:/Users/andre/Documents/Analysis_Projects/FinalProject/owid-covid-data.csv\")\n",
    "df.head()\n",
    "\n",
    "### We also want to make sure we fix the date column.\n",
    "df[\"date\"] = pd.to_datetime(df[\"date\"])\n",
    "df.replace(np.nan, 0, inplace = True)\n",
    "countries_df = df[df.continent != 0]\n",
    "countries_df = countries_df.loc[countries_df[\"location\"] != countries_df[\"continent\"]]"
   ]
  },
  {
   "cell_type": "code",
   "execution_count": 398,
   "id": "36fcd74c",
   "metadata": {},
   "outputs": [
    {
     "data": {
      "text/html": [
       "<div>\n",
       "<style scoped>\n",
       "    .dataframe tbody tr th:only-of-type {\n",
       "        vertical-align: middle;\n",
       "    }\n",
       "\n",
       "    .dataframe tbody tr th {\n",
       "        vertical-align: top;\n",
       "    }\n",
       "\n",
       "    .dataframe thead th {\n",
       "        text-align: right;\n",
       "    }\n",
       "</style>\n",
       "<table border=\"1\" class=\"dataframe\">\n",
       "  <thead>\n",
       "    <tr style=\"text-align: right;\">\n",
       "      <th></th>\n",
       "      <th>iso_code</th>\n",
       "      <th>continent</th>\n",
       "      <th>location</th>\n",
       "      <th>date</th>\n",
       "      <th>new_cases</th>\n",
       "      <th>new_deaths</th>\n",
       "      <th>total_cases</th>\n",
       "      <th>total_deaths</th>\n",
       "      <th>reproduction_rate</th>\n",
       "      <th>hosp_patients</th>\n",
       "      <th>new_tests</th>\n",
       "      <th>total_tests</th>\n",
       "      <th>positive_rate</th>\n",
       "      <th>new_vaccinations</th>\n",
       "      <th>population</th>\n",
       "      <th>median_age</th>\n",
       "      <th>hospital_beds_per_thousand</th>\n",
       "    </tr>\n",
       "  </thead>\n",
       "  <tbody>\n",
       "    <tr>\n",
       "      <th>0</th>\n",
       "      <td>AFG</td>\n",
       "      <td>Asia</td>\n",
       "      <td>Afghanistan</td>\n",
       "      <td>2020-02-24</td>\n",
       "      <td>5.0</td>\n",
       "      <td>0.0</td>\n",
       "      <td>5.0</td>\n",
       "      <td>0.0</td>\n",
       "      <td>0.0</td>\n",
       "      <td>0.0</td>\n",
       "      <td>0.0</td>\n",
       "      <td>0.0</td>\n",
       "      <td>0.0</td>\n",
       "      <td>0.0</td>\n",
       "      <td>39835428.0</td>\n",
       "      <td>18.6</td>\n",
       "      <td>0.5</td>\n",
       "    </tr>\n",
       "    <tr>\n",
       "      <th>1</th>\n",
       "      <td>AFG</td>\n",
       "      <td>Asia</td>\n",
       "      <td>Afghanistan</td>\n",
       "      <td>2020-02-25</td>\n",
       "      <td>0.0</td>\n",
       "      <td>0.0</td>\n",
       "      <td>5.0</td>\n",
       "      <td>0.0</td>\n",
       "      <td>0.0</td>\n",
       "      <td>0.0</td>\n",
       "      <td>0.0</td>\n",
       "      <td>0.0</td>\n",
       "      <td>0.0</td>\n",
       "      <td>0.0</td>\n",
       "      <td>39835428.0</td>\n",
       "      <td>18.6</td>\n",
       "      <td>0.5</td>\n",
       "    </tr>\n",
       "    <tr>\n",
       "      <th>2</th>\n",
       "      <td>AFG</td>\n",
       "      <td>Asia</td>\n",
       "      <td>Afghanistan</td>\n",
       "      <td>2020-02-26</td>\n",
       "      <td>0.0</td>\n",
       "      <td>0.0</td>\n",
       "      <td>5.0</td>\n",
       "      <td>0.0</td>\n",
       "      <td>0.0</td>\n",
       "      <td>0.0</td>\n",
       "      <td>0.0</td>\n",
       "      <td>0.0</td>\n",
       "      <td>0.0</td>\n",
       "      <td>0.0</td>\n",
       "      <td>39835428.0</td>\n",
       "      <td>18.6</td>\n",
       "      <td>0.5</td>\n",
       "    </tr>\n",
       "    <tr>\n",
       "      <th>3</th>\n",
       "      <td>AFG</td>\n",
       "      <td>Asia</td>\n",
       "      <td>Afghanistan</td>\n",
       "      <td>2020-02-27</td>\n",
       "      <td>0.0</td>\n",
       "      <td>0.0</td>\n",
       "      <td>5.0</td>\n",
       "      <td>0.0</td>\n",
       "      <td>0.0</td>\n",
       "      <td>0.0</td>\n",
       "      <td>0.0</td>\n",
       "      <td>0.0</td>\n",
       "      <td>0.0</td>\n",
       "      <td>0.0</td>\n",
       "      <td>39835428.0</td>\n",
       "      <td>18.6</td>\n",
       "      <td>0.5</td>\n",
       "    </tr>\n",
       "    <tr>\n",
       "      <th>4</th>\n",
       "      <td>AFG</td>\n",
       "      <td>Asia</td>\n",
       "      <td>Afghanistan</td>\n",
       "      <td>2020-02-28</td>\n",
       "      <td>0.0</td>\n",
       "      <td>0.0</td>\n",
       "      <td>5.0</td>\n",
       "      <td>0.0</td>\n",
       "      <td>0.0</td>\n",
       "      <td>0.0</td>\n",
       "      <td>0.0</td>\n",
       "      <td>0.0</td>\n",
       "      <td>0.0</td>\n",
       "      <td>0.0</td>\n",
       "      <td>39835428.0</td>\n",
       "      <td>18.6</td>\n",
       "      <td>0.5</td>\n",
       "    </tr>\n",
       "  </tbody>\n",
       "</table>\n",
       "</div>"
      ],
      "text/plain": [
       "  iso_code continent     location       date  new_cases  new_deaths  \\\n",
       "0      AFG      Asia  Afghanistan 2020-02-24        5.0         0.0   \n",
       "1      AFG      Asia  Afghanistan 2020-02-25        0.0         0.0   \n",
       "2      AFG      Asia  Afghanistan 2020-02-26        0.0         0.0   \n",
       "3      AFG      Asia  Afghanistan 2020-02-27        0.0         0.0   \n",
       "4      AFG      Asia  Afghanistan 2020-02-28        0.0         0.0   \n",
       "\n",
       "   total_cases  total_deaths  reproduction_rate  hosp_patients  new_tests  \\\n",
       "0          5.0           0.0                0.0            0.0        0.0   \n",
       "1          5.0           0.0                0.0            0.0        0.0   \n",
       "2          5.0           0.0                0.0            0.0        0.0   \n",
       "3          5.0           0.0                0.0            0.0        0.0   \n",
       "4          5.0           0.0                0.0            0.0        0.0   \n",
       "\n",
       "   total_tests  positive_rate  new_vaccinations  population  median_age  \\\n",
       "0          0.0            0.0               0.0  39835428.0        18.6   \n",
       "1          0.0            0.0               0.0  39835428.0        18.6   \n",
       "2          0.0            0.0               0.0  39835428.0        18.6   \n",
       "3          0.0            0.0               0.0  39835428.0        18.6   \n",
       "4          0.0            0.0               0.0  39835428.0        18.6   \n",
       "\n",
       "   hospital_beds_per_thousand  \n",
       "0                         0.5  \n",
       "1                         0.5  \n",
       "2                         0.5  \n",
       "3                         0.5  \n",
       "4                         0.5  "
      ]
     },
     "execution_count": 398,
     "metadata": {},
     "output_type": "execute_result"
    }
   ],
   "source": [
    "### Take only the columns we want\n",
    "\n",
    "countries_df = countries_df[[\"iso_code\", \"continent\", \"location\", \"date\", \"new_cases\", \"new_deaths\", \"total_cases\", \"total_deaths\", \"reproduction_rate\", \"hosp_patients\", \"new_tests\", \"total_tests\", \"positive_rate\", \"new_vaccinations\", \"population\", \"median_age\", \"hospital_beds_per_thousand\" ]]\n",
    "\n",
    "countries_df.head()"
   ]
  },
  {
   "cell_type": "code",
   "execution_count": 4,
   "id": "75ff41a3",
   "metadata": {
    "scrolled": true
   },
   "outputs": [],
   "source": [
    "### In order to clean this data, we didn't want to drop the null so we decided to replace it with zero instead.\n",
    "countries_df.to_csv(\"cleaned_data_andrea.csv\", index = False)"
   ]
  },
  {
   "cell_type": "code",
   "execution_count": 5,
   "id": "9e178a2a",
   "metadata": {},
   "outputs": [],
   "source": [
    "### Grouping the countries in levels of risk of COVID by looking at the total cases.\n",
    "\n",
    "grouped_df = countries_df.groupby(\"location\")\n",
    "grouped_lists = grouped_df[\"total_cases\"].mean()\n",
    "grouped_lists = grouped_lists.reset_index()\n",
    "\n",
    "# grouped_lists.describe()\n",
    "\n",
    "grouped_lists = grouped_lists.sort_values(by=[\"total_cases\"])\n",
    "\n",
    "# Grouping the list by aver  age of total_cases\n",
    "low = grouped_lists[0:75]\n",
    "med = grouped_lists[75:150]\n",
    "high = grouped_lists[150:]"
   ]
  },
  {
   "cell_type": "code",
   "execution_count": 6,
   "id": "e06c3e19",
   "metadata": {},
   "outputs": [],
   "source": [
    "# Creating a new column to determine\n",
    "countries_df['risk_level'] = ['low' if x<=max(low[\"total_cases\"]) else 'med' if min(med[\"total_cases\"])<=x<=max(med[\"total_cases\"]) else 'high' for x in countries_df['total_cases']]"
   ]
  },
  {
   "cell_type": "code",
   "execution_count": 7,
   "id": "de3dba98",
   "metadata": {},
   "outputs": [
    {
     "data": {
      "text/plain": [
       "array(['Sint Maarten (Dutch part)', 'Niue', 'Tokelau', 'Northern Cyprus',\n",
       "       'Turkmenistan', 'Tuvalu', 'Guernsey', 'Jersey', 'Nauru',\n",
       "       'Pitcairn', 'Tonga', 'Micronesia (country)', 'Cook Islands',\n",
       "       'Kiribati', 'Samoa', 'Vanuatu', 'Saint Helena', 'Marshall Islands',\n",
       "       'Palau', 'Solomon Islands', 'Vatican', 'Montserrat',\n",
       "       'Saint Pierre and Miquelon', 'Falkland Islands', 'Macao',\n",
       "       'Anguilla', 'Wallis and Futuna', 'Greenland',\n",
       "       'Saint Kitts and Nevis', 'British Virgin Islands',\n",
       "       'Bonaire Sint Eustatius and Saba', 'Faeroe Islands', 'Bhutan',\n",
       "       'Dominica', 'Antigua and Barbuda', 'Cayman Islands', 'Grenada',\n",
       "       'Turks and Caicos Islands', 'Saint Vincent and the Grenadines',\n",
       "       'Monaco', 'Sao Tome and Principe', 'Bermuda', 'New Caledonia',\n",
       "       'Liechtenstein', 'Comoros', 'Brunei', 'Liberia', 'Isle of Man',\n",
       "       'Gibraltar', 'Chad', 'Eritrea', 'San Marino', 'New Zealand',\n",
       "       'Guinea-Bissau', 'Sierra Leone', 'Niger', 'Saint Lucia', 'Yemen',\n",
       "       'Mauritius', 'Gambia', 'Tanzania', 'Barbados', 'Taiwan', 'Timor',\n",
       "       'Central African Republic', 'Burundi', 'Equatorial Guinea',\n",
       "       'South Sudan', 'Iceland', 'Nicaragua', 'Hong Kong', 'Curacao',\n",
       "       'Djibouti', 'Aruba', 'Seychelles'], dtype=object)"
      ]
     },
     "execution_count": 7,
     "metadata": {},
     "output_type": "execute_result"
    }
   ],
   "source": [
    "low[\"location\"].unique()"
   ]
  },
  {
   "cell_type": "code",
   "execution_count": 8,
   "id": "1bafd2b7",
   "metadata": {},
   "outputs": [
    {
     "data": {
      "text/plain": [
       "array(['Benin', 'Burkina Faso', 'Congo', 'Andorra', 'Mali', 'Lesotho',\n",
       "       'Bahamas', 'Papua New Guinea', 'Somalia', 'Togo', 'Belize',\n",
       "       'Tajikistan', 'Fiji', 'Haiti', 'Laos', 'Guyana', 'Suriname',\n",
       "       'Gabon', 'Guinea', 'Mauritania', 'Syria', 'French Polynesia',\n",
       "       'Cape Verde', 'Eswatini', 'Malta', 'Trinidad and Tobago', 'Sudan',\n",
       "       'Madagascar', 'Angola', 'Democratic Republic of Congo', 'Malawi',\n",
       "       'Cambodia', \"Cote d'Ivoire\", 'Senegal', 'Jamaica', 'Rwanda',\n",
       "       'Maldives', 'Luxembourg', 'Cameroon', 'Uganda', 'Cyprus',\n",
       "       'Zimbabwe', 'Namibia', 'El Salvador', 'Mozambique', 'Botswana',\n",
       "       'Montenegro', 'Finland', 'Ghana', 'Kosovo', 'Afghanistan',\n",
       "       'Australia', 'Estonia', 'Singapore', 'Albania', 'Latvia', 'China',\n",
       "       'Uzbekistan', 'Zambia', 'Kyrgyzstan', 'Mongolia', 'Norway',\n",
       "       'North Macedonia', 'Algeria', 'Nigeria', 'Kenya',\n",
       "       'Bosnia and Herzegovina', 'South Korea', 'Bahrain', 'Libya',\n",
       "       'Armenia', 'Slovenia', 'Qatar', 'Uruguay', 'Oman'], dtype=object)"
      ]
     },
     "execution_count": 8,
     "metadata": {},
     "output_type": "execute_result"
    }
   ],
   "source": [
    "med[\"location\"].unique()"
   ]
  },
  {
   "cell_type": "code",
   "execution_count": 9,
   "id": "c18f73bd",
   "metadata": {},
   "outputs": [
    {
     "data": {
      "text/plain": [
       "array(['Sri Lanka', 'Moldova', 'Egypt', 'Honduras', 'Ethiopia',\n",
       "       'Lithuania', 'Venezuela', 'Myanmar', 'Palestine', 'Denmark',\n",
       "       'Dominican Republic', 'Paraguay', 'Kuwait', 'Ireland', 'Guatemala',\n",
       "       'Croatia', 'Vietnam', 'Azerbaijan', 'Costa Rica', 'Cuba',\n",
       "       'Bolivia', 'Panama', 'Bulgaria', 'Belarus', 'Ecuador', 'Tunisia',\n",
       "       'Georgia', 'Greece', 'Lebanon', 'Nepal', 'United Arab Emirates',\n",
       "       'Saudi Arabia', 'Kazakhstan', 'Morocco', 'Jordan', 'Austria',\n",
       "       'Thailand', 'Hungary', 'Serbia', 'Slovakia', 'Switzerland',\n",
       "       'Japan', 'Portugal', 'Sweden', 'Israel', 'Pakistan', 'Malaysia',\n",
       "       'Bangladesh', 'Belgium', 'Romania', 'Canada', 'Iraq', 'Chile',\n",
       "       'Philippines', 'Czechia', 'Netherlands', 'Peru', 'South Africa',\n",
       "       'Ukraine', 'Indonesia', 'Poland', 'Mexico', 'Iran', 'Germany',\n",
       "       'Argentina', 'Colombia', 'Italy', 'Spain', 'Turkey', 'France',\n",
       "       'United Kingdom', 'Russia', 'Brazil', 'India', 'United States'],\n",
       "      dtype=object)"
      ]
     },
     "execution_count": 9,
     "metadata": {},
     "output_type": "execute_result"
    }
   ],
   "source": [
    "high[\"location\"].unique()"
   ]
  },
  {
   "cell_type": "code",
   "execution_count": 10,
   "id": "62426af0",
   "metadata": {},
   "outputs": [],
   "source": [
    "### Get 3 countries out of each\n",
    "def pick_three():\n",
    "    a = []\n",
    "    \n",
    "    low_cn = low.sample()\n",
    "    low_cn = low_cn[\"location\"].to_string()\n",
    "    \n",
    "    med_cn = med.sample()\n",
    "    med_cn = med_cn[\"location\"].to_string()\n",
    "    \n",
    "    high_cn = high.sample()\n",
    "    high_cn = high_cn[\"location\"].to_string()\n",
    "    \n",
    "    a.append(low_cn)\n",
    "    a.append(med_cn)\n",
    "    a.append(high_cn)\n",
    "    \n",
    "    new = []\n",
    "    for index in a:\n",
    "        for i,x in enumerate(index):\n",
    "            if x.isalpha():      #True if its a letter\n",
    "                pos = i \n",
    "                break\n",
    "        b = index[pos:]\n",
    "        new.append(b)\n",
    "    \n",
    "    return new"
   ]
  },
  {
   "cell_type": "code",
   "execution_count": 196,
   "id": "48f8f8a4",
   "metadata": {},
   "outputs": [
    {
     "data": {
      "text/plain": [
       "['Iceland', 'Montenegro', 'Sweden']"
      ]
     },
     "execution_count": 196,
     "metadata": {},
     "output_type": "execute_result"
    }
   ],
   "source": [
    "### Testing the function pick_three()\n",
    "a = pick_three()\n",
    "a"
   ]
  },
  {
   "cell_type": "code",
   "execution_count": 100,
   "id": "25387329",
   "metadata": {},
   "outputs": [],
   "source": [
    "### Now we can get to the ML Model"
   ]
  },
  {
   "cell_type": "code",
   "execution_count": 13,
   "id": "c230dc47",
   "metadata": {},
   "outputs": [],
   "source": [
    "def make_df():\n",
    "    countries = pick_three()\n",
    "    new_df = pd.DataFrame(columns = countries_df.columns)\n",
    "    entries = []\n",
    "\n",
    "    for i in countries_df[\"location\"]:\n",
    "        if i in countries:\n",
    "            entry = countries_df.loc[countries_df['location'] == i]\n",
    "            entries.append(entry)\n",
    "\n",
    "    found_df = pd.concat(entries)\n",
    "    result_df = pd.concat([new_df, found_df])\n",
    "    \n",
    "    return result_df"
   ]
  },
  {
   "cell_type": "code",
   "execution_count": 14,
   "id": "4b21a226",
   "metadata": {},
   "outputs": [],
   "source": [
    "### Now, we obviously want to see the correlation\n",
    "def tests_vs_cases():\n",
    "    a = make_df()\n",
    "    data1 = a.loc[a[\"location\"] == a[\"location\"].unique()[0]]\n",
    "    data2 = a.loc[a[\"location\"] == a[\"location\"].unique()[1]]\n",
    "    data3 = a.loc[a[\"location\"] == a[\"location\"].unique()[2]]\n",
    "    \n",
    "    data1_col1 = data1[\"new_tests\"]\n",
    "    data1_col2 = data1[\"new_cases\"]\n",
    "\n",
    "    data2_col1 = data2[\"new_tests\"]\n",
    "    data2_col2 = data2[\"new_cases\"]\n",
    "\n",
    "    data3_col1 = data3[\"new_tests\"]\n",
    "    data3_col2 = data3[\"new_cases\"]\n",
    "\n",
    "    data1_corr = data1_col1.corr(data1_col2, method = \"pearson\")\n",
    "    data2_corr = data2_col1.corr(data2_col2, method = \"pearson\")\n",
    "    data3_corr = data3_col1.corr(data3_col2, method = \"pearson\")\n",
    "        \n",
    "    \n",
    "    ### Now let's see if we can obtain the entire summary statistics for the linear regression model.\n",
    "    total_tests_1 = data1_col1.to_list()\n",
    "    total_cases_1 = data1_col2.to_list()\n",
    "    total_tests_1, total_cases_1 = np.array(total_tests_1), np.array(total_cases_1)\n",
    "    total_tests_1 = sm.add_constant(total_tests_1)\n",
    "    model1 = sm.OLS(total_cases_1, total_tests_1)\n",
    "    results1 = model1.fit()\n",
    "    \n",
    "    \n",
    "    print(f\"Low Risk: The correlation coefficient between the new tests administered and the new cases in \" + data1[\"location\"].unique()[0] + \" is \" + str(data1_corr))\n",
    "    print(\"------------------------------------------------------------------------------------------------\")\n",
    "   # print(f\"Model summary for: \" + data1[\"location\"].unique()[0] + \".\")\n",
    "   # print(results1.summary())\n",
    "   # print(\"------------------------------------------------------------------------------------------------\")\n",
    "\n",
    "    \n",
    "    total_tests_2 = data2_col1.to_list()\n",
    "    total_cases_2 = data2_col2.to_list()\n",
    "    total_tests_2, total_cases_2 = np.array(total_tests_2), np.array(total_cases_2)\n",
    "    total_tests_2 = sm.add_constant(total_tests_2)\n",
    "    model2 = sm.OLS(total_cases_2, total_tests_2)\n",
    "    results2 = model2.fit()\n",
    "    \n",
    "    print(f\"Med Risk: The correlation coefficient between the new tests administered and the new cases in \" + data2[\"location\"].unique()[0] + \" is \" + str(data2_corr))\n",
    "    print(\"------------------------------------------------------------------------------------------------\")\n",
    "   # print(f\"Model summary for: \" + data2[\"location\"].unique()[0] + \".\")\n",
    "   # print(results2.summary())\n",
    "  #  print(\"------------------------------------------------------------------------------------------------\")\n",
    "\n",
    "    total_tests_3 = data3_col1.to_list()\n",
    "    total_cases_3 = data3_col2.to_list()\n",
    "    total_tests_3, total_cases_3 = np.array(total_tests_3), np.array(total_cases_3)\n",
    "    total_tests_3 = sm.add_constant(total_tests_3)\n",
    "    model3 = sm.OLS(total_cases_3, total_tests_3)\n",
    "    results3 = model3.fit()\n",
    "    \n",
    "    print(f\"High Risk: The correlation coefficient between the new tests administered and the new cases in \" + data3[\"location\"].unique()[0] + \" is \" + str(data3_corr))\n",
    "    print(\"------------------------------------------------------------------------------------------------\")    \n",
    "  #  print(f\"Model summary for: \" + data3[\"location\"].unique()[0] + \".\")\n",
    "   # print(results3.summary())\n",
    "    #print(\"------------------------------------------------------------------------------------------------\")\n",
    "\n",
    "    return a"
   ]
  },
  {
   "cell_type": "code",
   "execution_count": 15,
   "id": "67b0bfe6",
   "metadata": {},
   "outputs": [
    {
     "name": "stdout",
     "output_type": "stream",
     "text": [
      "Low Risk: The correlation coefficient between the new tests administered and the new cases in Botswana is -0.05862765992879092\n",
      "------------------------------------------------------------------------------------------------\n",
      "Med Risk: The correlation coefficient between the new tests administered and the new cases in Costa Rica is 0.3174707541737924\n",
      "------------------------------------------------------------------------------------------------\n",
      "High Risk: The correlation coefficient between the new tests administered and the new cases in New Caledonia is nan\n",
      "------------------------------------------------------------------------------------------------\n"
     ]
    }
   ],
   "source": [
    "test = tests_vs_cases()"
   ]
  },
  {
   "cell_type": "markdown",
   "id": "2fcdfa79",
   "metadata": {},
   "source": [
    "# Now we will move on to seeing whether the tests and deaths"
   ]
  },
  {
   "cell_type": "code",
   "execution_count": 277,
   "id": "b4d3dbb1",
   "metadata": {},
   "outputs": [],
   "source": [
    "def tests_vs_deaths():\n",
    "    a = make_df()\n",
    "    data1 = a.loc[a[\"location\"] == a[\"location\"].unique()[0]]\n",
    "    data2 = a.loc[a[\"location\"] == a[\"location\"].unique()[1]]\n",
    "    data3 = a.loc[a[\"location\"] == a[\"location\"].unique()[2]]\n",
    "    \n",
    "    data1_col1 = data1[\"new_tests\"]\n",
    "    data1_col2 = data1[\"new_deaths\"]\n",
    "\n",
    "    data2_col1 = data2[\"new_tests\"]\n",
    "    data2_col2 = data2[\"new_deaths\"]\n",
    "\n",
    "    data3_col1 = data3[\"new_tests\"]\n",
    "    data3_col2 = data3[\"new_deaths\"]\n",
    "\n",
    "    data1_corr = data1_col1.corr(data1_col2, method = \"pearson\")\n",
    "    data2_corr = data2_col1.corr(data2_col2, method = \"pearson\")\n",
    "    data3_corr = data3_col1.corr(data3_col2, method = \"pearson\")\n",
    "        \n",
    "    \n",
    "    ### Now let's see if we can obtain the entire summary statistics for the linear regression model.\n",
    "    total_tests_1 = data1_col1.to_list()\n",
    "    total_deaths_1 = data1_col2.to_list()\n",
    "    total_tests_1, total_deaths_1 = np.array(total_tests_1), np.array(total_deaths_1)\n",
    "    total_tests_1 = sm.add_constant(total_tests_1)\n",
    "    model1 = sm.OLS(total_deaths_1, total_tests_1)\n",
    "    results1 = model1.fit()\n",
    "    \n",
    "    print(f\"Low Risk: The correlation coefficient between the new tests administered and the new deaths in \" + data1[\"location\"].unique()[0] + \" is \" + str(data1_corr))\n",
    "    print(\"------------------------------------------------------------------------------------------------\")\n",
    "#    print(f\"Model summary for: \" + data1[\"location\"].unique()[0] + \".\")\n",
    " #   print(results1.summary())\n",
    "  #  print(\"------------------------------------------------------------------------------------------------\")\n",
    "\n",
    "    \n",
    "    total_tests_2 = data2_col1.to_list()\n",
    "    total_deaths_2 = data2_col2.to_list()\n",
    "    total_tests_2, total_deaths_2 = np.array(total_tests_2), np.array(total_deaths_2)\n",
    "    total_tests_2 = sm.add_constant(total_tests_2)\n",
    "    model2 = sm.OLS(total_deaths_2, total_tests_2)\n",
    "    results2 = model2.fit()\n",
    "    \n",
    "    print(f\"Med Risk: The correlation coefficient between the new tests administered and the new deaths in \" + data2[\"location\"].unique()[0] + \" is \" + str(data2_corr))\n",
    "    print(\"------------------------------------------------------------------------------------------------\")\n",
    " #   print(f\"Model summary for: \" + data2[\"location\"].unique()[0] + \".\")\n",
    "  #  print(results2.summary())\n",
    "   # print(\"------------------------------------------------------------------------------------------------\")\n",
    "\n",
    "    total_tests_3 = data3_col1.to_list()\n",
    "    total_deaths_3 = data3_col2.to_list()\n",
    "    total_tests_3, total_deaths_3 = np.array(total_tests_3), np.array(total_deaths_3)\n",
    "    total_tests_3 = sm.add_constant(total_tests_3)\n",
    "    model3 = sm.OLS(total_deaths_3, total_tests_3)\n",
    "    results3 = model3.fit()\n",
    "    \n",
    "    print(f\"High Risk: The correlation coefficient between the new tests administered and the new deaths in \" + data3[\"location\"].unique()[0] + \" is \" + str(data3_corr))\n",
    "    print(\"------------------------------------------------------------------------------------------------\")    \n",
    "#    print(f\"Model summary for: \" + data3[\"location\"].unique()[0] + \".\")\n",
    " #   print(results3.summary())\n",
    "  #  print(\"------------------------------------------------------------------------------------------------\")\n",
    "\n",
    "    return a"
   ]
  },
  {
   "cell_type": "code",
   "execution_count": 285,
   "id": "cf0a9e89",
   "metadata": {},
   "outputs": [
    {
     "name": "stdout",
     "output_type": "stream",
     "text": [
      "Low Risk: The correlation coefficient between the new tests administered and the new deaths in Cambodia is 0.3452398733395195\n",
      "------------------------------------------------------------------------------------------------\n",
      "Med Risk: The correlation coefficient between the new tests administered and the new deaths in Hong Kong is nan\n",
      "------------------------------------------------------------------------------------------------\n",
      "High Risk: The correlation coefficient between the new tests administered and the new deaths in Hungary is 0.7650439575544457\n",
      "------------------------------------------------------------------------------------------------\n"
     ]
    }
   ],
   "source": [
    "deaths = tests_vs_deaths()"
   ]
  },
  {
   "cell_type": "code",
   "execution_count": 18,
   "id": "913e2e8d",
   "metadata": {},
   "outputs": [],
   "source": [
    "def vacs_vs_cases():\n",
    "    a = make_df()\n",
    "    data1 = a.loc[a[\"location\"] == a[\"location\"].unique()[0]]\n",
    "    data2 = a.loc[a[\"location\"] == a[\"location\"].unique()[1]]\n",
    "    data3 = a.loc[a[\"location\"] == a[\"location\"].unique()[2]]\n",
    "    \n",
    "    data1_col1 = data1[\"new_vaccinations\"]\n",
    "    data1_col2 = data1[\"total_cases\"]\n",
    "\n",
    "    data2_col1 = data2[\"new_vaccinations\"]\n",
    "    data2_col2 = data2[\"total_cases\"]\n",
    "\n",
    "    data3_col1 = data3[\"new_vaccinations\"]\n",
    "    data3_col2 = data3[\"total_cases\"]\n",
    "\n",
    "    data1_corr = data1_col1.corr(data1_col2)\n",
    "    data2_corr = data2_col1.corr(data2_col2)\n",
    "    data3_corr = data3_col1.corr(data3_col2)\n",
    "        \n",
    "    \n",
    "    ### Now let's see if we can obtain the entire summary statistics for the linear regression model.\n",
    "    new_vacs_1 = data1_col1.to_list()\n",
    "    total_cases_1 = data1_col2.to_list()\n",
    "    new_vacs_1, total_cases_1 = np.array(new_vacs_1), np.array(total_cases_1)\n",
    "    new_vacs_1 = sm.add_constant(new_vacs_1)\n",
    "    model1 = sm.OLS(total_cases_1, new_vacs_1)\n",
    "    results1 = model1.fit()\n",
    "    \n",
    "    print(f\"Low Risk: The correlation coefficient between the new vaccines administered and the new cases in \" + data1[\"location\"].unique()[0] + \" is \" + str(data1_corr))\n",
    "    print(\"------------------------------------------------------------------------------------------------\")\n",
    "#    print(f\"Model summary for: \" + data1[\"location\"].unique()[0] + \".\")\n",
    " #   print(results1.summary())\n",
    "  #  print(\"------------------------------------------------------------------------------------------------\")\n",
    "\n",
    "    \n",
    "    total_tests_2 = data2_col1.to_list()\n",
    "    total_deaths_2 = data2_col2.to_list()\n",
    "    total_tests_2, total_deaths_2 = np.array(total_tests_2), np.array(total_deaths_2)\n",
    "    total_tests_2 = sm.add_constant(total_tests_2)\n",
    "    model2 = sm.OLS(total_deaths_2, total_tests_2)\n",
    "    results2 = model2.fit()\n",
    "    \n",
    "    print(f\"Med Risk: The correlation coefficient between the new vaccines administered and the new cases in \" + data2[\"location\"].unique()[0] + \" is \" + str(data2_corr))\n",
    "    print(\"------------------------------------------------------------------------------------------------\")\n",
    "#    print(f\"Model summary for: \" + data2[\"location\"].unique()[0] + \".\")\n",
    " #   print(results2.summary())\n",
    "  #  print(\"------------------------------------------------------------------------------------------------\")\n",
    "\n",
    "    total_tests_3 = data3_col1.to_list()\n",
    "    total_deaths_3 = data3_col2.to_list()\n",
    "    total_tests_3, total_deaths_3 = np.array(total_tests_3), np.array(total_deaths_3)\n",
    "    total_tests_3 = sm.add_constant(total_tests_3)\n",
    "    model3 = sm.OLS(total_deaths_3, total_tests_3)\n",
    "    results3 = model3.fit()\n",
    "    \n",
    "    print(f\"High Risk: The correlation coefficient between the new vaccines administered and the new cases in \" + data3[\"location\"].unique()[0] + \" is \" + str(data3_corr))\n",
    "    print(\"------------------------------------------------------------------------------------------------\")    \n",
    "#    print(f\"Model summary for: \" + data3[\"location\"].unique()[0] + \".\")\n",
    " #   print(results3.summary())\n",
    "  #  print(\"------------------------------------------------------------------------------------------------\")\n",
    "\n",
    "    return a"
   ]
  },
  {
   "cell_type": "code",
   "execution_count": 309,
   "id": "07e17d71",
   "metadata": {},
   "outputs": [
    {
     "name": "stdout",
     "output_type": "stream",
     "text": [
      "Low Risk: The correlation coefficient between the new vaccines administered and the new cases in Jamaica is 0.42384152919170526\n",
      "------------------------------------------------------------------------------------------------\n",
      "Med Risk: The correlation coefficient between the new vaccines administered and the new cases in Morocco is 0.2049232657148981\n",
      "------------------------------------------------------------------------------------------------\n",
      "High Risk: The correlation coefficient between the new vaccines administered and the new cases in Saint Lucia is 0.2383328364959425\n",
      "------------------------------------------------------------------------------------------------\n"
     ]
    }
   ],
   "source": [
    "vacscases = vacs_vs_cases()"
   ]
  },
  {
   "cell_type": "code",
   "execution_count": 20,
   "id": "2c5f934f",
   "metadata": {},
   "outputs": [],
   "source": [
    "def vacs_vs_deaths():\n",
    "    a = make_df()\n",
    "    data1 = a.loc[a[\"location\"] == a[\"location\"].unique()[0]]\n",
    "    data2 = a.loc[a[\"location\"] == a[\"location\"].unique()[1]]\n",
    "    data3 = a.loc[a[\"location\"] == a[\"location\"].unique()[2]]\n",
    "    \n",
    "    data1_col1 = data1[\"new_vaccinations\"]\n",
    "    data1_col2 = data1[\"new_deaths\"]\n",
    "\n",
    "    data2_col1 = data2[\"new_vaccinations\"]\n",
    "    data2_col2 = data2[\"new_deaths\"]\n",
    "\n",
    "    data3_col1 = data3[\"new_vaccinations\"]\n",
    "    data3_col2 = data3[\"new_deaths\"]\n",
    "\n",
    "    data1_corr = data1_col1.corr(data1_col2)\n",
    "    data2_corr = data2_col1.corr(data2_col2)\n",
    "    data3_corr = data3_col1.corr(data3_col2)\n",
    "        \n",
    "    \n",
    "    ### Now let's see if we can obtain the entire summary statistics for the linear regression model.\n",
    "    new_vacs_1 = data1_col1.to_list()\n",
    "    total_deaths_1 = data1_col2.to_list()\n",
    "    new_vacs_1, total_deaths_1 = np.array(new_vacs_1), np.array(total_deaths_1)\n",
    "    new_vacs_1 = sm.add_constant(new_vacs_1)\n",
    "    model1 = sm.OLS(total_deaths_1, new_vacs_1)\n",
    "    results1 = model1.fit()\n",
    "    \n",
    "    print(f\"Low Risk: The correlation coefficient between the new vaccinations administered and the new deaths in \" + data1[\"location\"].unique()[0] + \" is \" + str(data1_corr))\n",
    "    print(\"------------------------------------------------------------------------------------------------\")\n",
    "#    print(f\"Model summary for: \" + data1[\"location\"].unique()[0] + \".\")\n",
    " #   print(results1.summary())\n",
    "  #  print(\"------------------------------------------------------------------------------------------------\")\n",
    "\n",
    "    \n",
    "    new_vacs_2 = data2_col1.to_list()\n",
    "    total_deaths_2 = data2_col2.to_list()\n",
    "    new_vacs_2, total_deaths_2 = np.array(new_vacs_2), np.array(total_deaths_2)\n",
    "    new_vacs_2 = sm.add_constant(new_vacs_2)\n",
    "    model2 = sm.OLS(total_deaths_2, new_vacs_2)\n",
    "    results2 = model2.fit()\n",
    "    \n",
    "    print(f\"Med Risk: The correlation coefficient between the new vaccinations administered and the new deaths in \" + data2[\"location\"].unique()[0] + \" is \" + str(data2_corr))\n",
    "    print(\"------------------------------------------------------------------------------------------------\")\n",
    "#    print(f\"Model summary for: \" + data2[\"location\"].unique()[0] + \".\")\n",
    " #   print(results2.summary())\n",
    "  #  print(\"------------------------------------------------------------------------------------------------\")\n",
    "\n",
    "    total_tests_3 = data3_col1.to_list()\n",
    "    total_deaths_3 = data3_col2.to_list()\n",
    "    total_tests_3, total_deaths_3 = np.array(total_tests_3), np.array(total_deaths_3)\n",
    "    total_tests_3 = sm.add_constant(total_tests_3)\n",
    "    model3 = sm.OLS(total_deaths_3, total_tests_3)\n",
    "    results3 = model3.fit()\n",
    "    \n",
    "    print(f\"High Risk: The correlation coefficient between the new vaccinations administered and the new deaths in \" + data3[\"location\"].unique()[0] + \" is \" + str(data3_corr))\n",
    "    print(\"------------------------------------------------------------------------------------------------\")    \n",
    " #   print(f\"Model summary for: \" + data3[\"location\"].unique()[0] + \".\")\n",
    "  #  print(results3.summary())\n",
    "   # print(\"------------------------------------------------------------------------------------------------\")\n",
    "\n",
    "    return a"
   ]
  },
  {
   "cell_type": "code",
   "execution_count": 21,
   "id": "f3eb8c0b",
   "metadata": {},
   "outputs": [
    {
     "name": "stdout",
     "output_type": "stream",
     "text": [
      "Low Risk: The correlation coefficient between the new vaccinations administered and the new deaths in Aruba is 0.04396852175507497\n",
      "------------------------------------------------------------------------------------------------\n",
      "Med Risk: The correlation coefficient between the new vaccinations administered and the new deaths in Honduras is 0.03478497413218472\n",
      "------------------------------------------------------------------------------------------------\n",
      "High Risk: The correlation coefficient between the new vaccinations administered and the new deaths in South Korea is 0.4038961339853458\n",
      "------------------------------------------------------------------------------------------------\n"
     ]
    }
   ],
   "source": [
    "vacsdeaths = vacs_vs_deaths()"
   ]
  },
  {
   "cell_type": "code",
   "execution_count": 22,
   "id": "51973f0d",
   "metadata": {},
   "outputs": [],
   "source": [
    "### These would be used for Tableau\n",
    "\n",
    "asia_df = countries_df[countries_df[\"continent\"] == \"Asia\"]\n",
    "europe_df = countries_df[countries_df[\"continent\"] == \"Europe\"]\n",
    "na_df = countries_df[countries_df[\"continent\"] == \"North America\"]\n",
    "sa_df = countries_df[countries_df[\"continent\"] == \"South America\"]\n",
    "oceania_df = countries_df[countries_df[\"continent\"] == \"Oceania\"]\n",
    "africa_df = countries_df[countries_df[\"continent\"] == \"Africa\"]\n",
    "\n",
    "#asia_df.to_csv(\"asia_df.csv\", index = False)\n",
    "#europe_df.to_csv(\"europe_df.csv\", index = False)\n",
    "#na_df.to_csv(\"northamerica_df.csv\", index = False)\n",
    "#sa_df.to_csv(\"southamerica_df.csv\", index = False)\n",
    "#oceania_df.to_csv(\"oceania_df.csv\", index = False)\n",
    "#africa_df.to_csv(\"africa_df.csv\", index = False)"
   ]
  },
  {
   "cell_type": "code",
   "execution_count": null,
   "id": "503d9de2",
   "metadata": {},
   "outputs": [],
   "source": []
  },
  {
   "cell_type": "code",
   "execution_count": null,
   "id": "c9842333",
   "metadata": {},
   "outputs": [],
   "source": []
  },
  {
   "cell_type": "markdown",
   "id": "5463395e",
   "metadata": {},
   "source": [
    "## Tests vs Cases"
   ]
  },
  {
   "cell_type": "code",
   "execution_count": 223,
   "id": "160493b4",
   "metadata": {},
   "outputs": [],
   "source": [
    "Cyprus = countries_df.loc[countries_df[\"location\"] == \"Cyprus\"]"
   ]
  },
  {
   "cell_type": "code",
   "execution_count": 343,
   "id": "770a9406",
   "metadata": {},
   "outputs": [
    {
     "name": "stdout",
     "output_type": "stream",
     "text": [
      "                            OLS Regression Results                            \n",
      "==============================================================================\n",
      "Dep. Variable:              new_cases   R-squared:                       0.370\n",
      "Model:                            OLS   Adj. R-squared:                  0.369\n",
      "Method:                 Least Squares   F-statistic:                     399.5\n",
      "Date:                Tue, 08 Feb 2022   Prob (F-statistic):           2.86e-70\n",
      "Time:                        19:35:11   Log-Likelihood:                -5254.2\n",
      "No. Observations:                 682   AIC:                         1.051e+04\n",
      "Df Residuals:                     680   BIC:                         1.052e+04\n",
      "Df Model:                           1                                         \n",
      "Covariance Type:            nonrobust                                         \n",
      "==============================================================================\n",
      "                 coef    std err          t      P>|t|      [0.025      0.975]\n",
      "------------------------------------------------------------------------------\n",
      "Intercept    -65.7109     28.851     -2.278      0.023    -122.358      -9.064\n",
      "new_tests      0.0132      0.001     19.988      0.000       0.012       0.014\n",
      "==============================================================================\n",
      "Omnibus:                      552.092   Durbin-Watson:                   0.192\n",
      "Prob(Omnibus):                  0.000   Jarque-Bera (JB):            11050.152\n",
      "Skew:                           3.568   Prob(JB):                         0.00\n",
      "Kurtosis:                      21.383   Cond. No.                     6.14e+04\n",
      "==============================================================================\n",
      "\n",
      "Notes:\n",
      "[1] Standard Errors assume that the covariance matrix of the errors is correctly specified.\n",
      "[2] The condition number is large, 6.14e+04. This might indicate that there are\n",
      "strong multicollinearity or other numerical problems.\n"
     ]
    }
   ],
   "source": [
    "c_model = ols(\"new_cases ~ new_tests\", data = Cyprus).fit()\n",
    "print(c_model.summary())"
   ]
  },
  {
   "cell_type": "code",
   "execution_count": 266,
   "id": "08044ad1",
   "metadata": {},
   "outputs": [
    {
     "data": {
      "text/plain": [
       "<function matplotlib.pyplot.show(close=None, block=None)>"
      ]
     },
     "execution_count": 266,
     "metadata": {},
     "output_type": "execute_result"
    },
    {
     "data": {
      "image/png": "[encoded data removed]",
      "text/plain": [
       "<Figure size 432x288 with 1 Axes>"
      ]
     },
     "metadata": {
      "needs_background": "light"
     },
     "output_type": "display_data"
    }
   ],
   "source": [
    "fig1, ax1 = plt.subplots()\n",
    "fig1 = sm.graphics.plot_fit(c_model,1, vlines= False, ax = ax1)\n",
    "ax1.set_ylabel(\"New Cases\")\n",
    "ax1.set_xlabel(\"New Tests\")\n",
    "ax1.set_title(\"New Cases vs New Tests in Cyprus (LOW)\")\n",
    "plt.show"
   ]
  },
  {
   "cell_type": "code",
   "execution_count": 268,
   "id": "9533e994",
   "metadata": {},
   "outputs": [],
   "source": [
    "US = countries_df.loc[countries_df[\"location\"] == \"United States\"]"
   ]
  },
  {
   "cell_type": "code",
   "execution_count": 344,
   "id": "f6616c7a",
   "metadata": {},
   "outputs": [
    {
     "name": "stdout",
     "output_type": "stream",
     "text": [
      "                            OLS Regression Results                            \n",
      "==============================================================================\n",
      "Dep. Variable:              new_cases   R-squared:                       0.218\n",
      "Model:                            OLS   Adj. R-squared:                  0.217\n",
      "Method:                 Least Squares   F-statistic:                     202.7\n",
      "Date:                Tue, 08 Feb 2022   Prob (F-statistic):           9.56e-41\n",
      "Time:                        19:35:21   Log-Likelihood:                -9535.9\n",
      "No. Observations:                 728   AIC:                         1.908e+04\n",
      "Df Residuals:                     726   BIC:                         1.909e+04\n",
      "Df Model:                           1                                         \n",
      "Covariance Type:            nonrobust                                         \n",
      "==============================================================================\n",
      "                 coef    std err          t      P>|t|      [0.025      0.975]\n",
      "------------------------------------------------------------------------------\n",
      "Intercept  -8398.6613   8354.673     -1.005      0.315   -2.48e+04    8003.540\n",
      "new_tests      0.0986      0.007     14.237      0.000       0.085       0.112\n",
      "==============================================================================\n",
      "Omnibus:                      880.232   Durbin-Watson:                   0.423\n",
      "Prob(Omnibus):                  0.000   Jarque-Bera (JB):            67816.298\n",
      "Skew:                           6.152   Prob(JB):                         0.00\n",
      "Kurtosis:                      48.655   Cond. No.                     2.30e+06\n",
      "==============================================================================\n",
      "\n",
      "Notes:\n",
      "[1] Standard Errors assume that the covariance matrix of the errors is correctly specified.\n",
      "[2] The condition number is large, 2.3e+06. This might indicate that there are\n",
      "strong multicollinearity or other numerical problems.\n"
     ]
    }
   ],
   "source": [
    "usa_model = ols('new_cases ~ new_tests', data = US).fit()\n",
    "print(usa_model.summary())"
   ]
  },
  {
   "cell_type": "code",
   "execution_count": 271,
   "id": "37c88a49",
   "metadata": {},
   "outputs": [
    {
     "data": {
      "text/plain": [
       "<function matplotlib.pyplot.show(close=None, block=None)>"
      ]
     },
     "execution_count": 271,
     "metadata": {},
     "output_type": "execute_result"
    },
    {
     "data": {
      "image/png": "[encoded data removed]",
      "text/plain": [
       "<Figure size 432x288 with 1 Axes>"
      ]
     },
     "metadata": {
      "needs_background": "light"
     },
     "output_type": "display_data"
    }
   ],
   "source": [
    "fig2, ax2 = plt.subplots()\n",
    "fig2 = sm.graphics.plot_fit(usa_model,1, vlines= False, ax = ax2)\n",
    "ax2.set_ylabel(\"New Cases\")\n",
    "ax2.set_xlabel(\"New Tests\")\n",
    "ax2.set_title(\"New Cases vs New Tests in the United States (HIGH)\")\n",
    "plt.show"
   ]
  },
  {
   "cell_type": "markdown",
   "id": "f262848e",
   "metadata": {},
   "source": [
    "## Tests vs Deaths"
   ]
  },
  {
   "cell_type": "code",
   "execution_count": 273,
   "id": "42b35df7",
   "metadata": {},
   "outputs": [],
   "source": [
    "Zim = countries_df.loc[countries_df[\"location\"] == \"Zimbabwe\"]"
   ]
  },
  {
   "cell_type": "code",
   "execution_count": 341,
   "id": "6f5f55cc",
   "metadata": {},
   "outputs": [
    {
     "name": "stdout",
     "output_type": "stream",
     "text": [
      "                            OLS Regression Results                            \n",
      "==============================================================================\n",
      "Dep. Variable:              new_tests   R-squared:                       0.410\n",
      "Model:                            OLS   Adj. R-squared:                  0.409\n",
      "Method:                 Least Squares   F-statistic:                     463.7\n",
      "Date:                Tue, 08 Feb 2022   Prob (F-statistic):           1.61e-78\n",
      "Time:                        19:33:30   Log-Likelihood:                -6129.8\n",
      "No. Observations:                 670   AIC:                         1.226e+04\n",
      "Df Residuals:                     668   BIC:                         1.227e+04\n",
      "Df Model:                           1                                         \n",
      "Covariance Type:            nonrobust                                         \n",
      "==============================================================================\n",
      "                 coef    std err          t      P>|t|      [0.025      0.975]\n",
      "------------------------------------------------------------------------------\n",
      "Intercept   1725.4079     98.332     17.547      0.000    1532.332    1918.484\n",
      "new_deaths   120.1671      5.580     21.535      0.000     109.210     131.124\n",
      "==============================================================================\n",
      "Omnibus:                      347.405   Durbin-Watson:                   0.643\n",
      "Prob(Omnibus):                  0.000   Jarque-Bera (JB):             2541.013\n",
      "Skew:                           2.226   Prob(JB):                         0.00\n",
      "Kurtosis:                      11.438   Cond. No.                         19.7\n",
      "==============================================================================\n",
      "\n",
      "Notes:\n",
      "[1] Standard Errors assume that the covariance matrix of the errors is correctly specified.\n"
     ]
    }
   ],
   "source": [
    "z_model = ols('new_tests ~ new_deaths', data = Zim).fit()\n",
    "print(z_model.summary())"
   ]
  },
  {
   "cell_type": "code",
   "execution_count": 275,
   "id": "d1ed8533",
   "metadata": {},
   "outputs": [
    {
     "data": {
      "image/png": "[encoded data removed]",
      "text/plain": [
       "<Figure size 432x288 with 1 Axes>"
      ]
     },
     "metadata": {
      "needs_background": "light"
     },
     "output_type": "display_data"
    }
   ],
   "source": [
    "fig3, ax3 = plt.subplots()\n",
    "fig3 = sm.graphics.plot_fit(z_model,1, vlines= False, ax = ax3)\n",
    "ax3.set_ylabel(\"New Deaths\")\n",
    "ax3.set_xlabel(\"New Tests\")\n",
    "ax3.set_title(\"New Deaths vs New Tests in Zimbabwe (HIGH)\")\n",
    "plt.show()"
   ]
  },
  {
   "cell_type": "code",
   "execution_count": 286,
   "id": "a5f0a5ef",
   "metadata": {},
   "outputs": [],
   "source": [
    "hun = countries_df.loc[countries_df[\"location\"] == \"Hungary\"]"
   ]
  },
  {
   "cell_type": "code",
   "execution_count": 342,
   "id": "9501bcb5",
   "metadata": {},
   "outputs": [
    {
     "name": "stdout",
     "output_type": "stream",
     "text": [
      "                            OLS Regression Results                            \n",
      "==============================================================================\n",
      "Dep. Variable:              new_tests   R-squared:                       0.585\n",
      "Model:                            OLS   Adj. R-squared:                  0.585\n",
      "Method:                 Least Squares   F-statistic:                     966.8\n",
      "Date:                Tue, 08 Feb 2022   Prob (F-statistic):          4.75e-133\n",
      "Time:                        19:33:46   Log-Likelihood:                -7284.3\n",
      "No. Observations:                 687   AIC:                         1.457e+04\n",
      "Df Residuals:                     685   BIC:                         1.458e+04\n",
      "Df Model:                           1                                         \n",
      "Covariance Type:            nonrobust                                         \n",
      "==============================================================================\n",
      "                 coef    std err          t      P>|t|      [0.025      0.975]\n",
      "------------------------------------------------------------------------------\n",
      "Intercept   4843.9868    459.390     10.544      0.000    3942.006    5745.968\n",
      "new_deaths   141.6638      4.556     31.093      0.000     132.718     150.609\n",
      "==============================================================================\n",
      "Omnibus:                      357.153   Durbin-Watson:                   1.684\n",
      "Prob(Omnibus):                  0.000   Jarque-Bera (JB):             3893.071\n",
      "Skew:                           2.076   Prob(JB):                         0.00\n",
      "Kurtosis:                      13.898   Cond. No.                         124.\n",
      "==============================================================================\n",
      "\n",
      "Notes:\n",
      "[1] Standard Errors assume that the covariance matrix of the errors is correctly specified.\n"
     ]
    }
   ],
   "source": [
    "hun_model = ols('new_tests ~ new_deaths', data = hun).fit()\n",
    "print(hun_model.summary())"
   ]
  },
  {
   "cell_type": "code",
   "execution_count": 291,
   "id": "91d35cf9",
   "metadata": {},
   "outputs": [
    {
     "data": {
      "image/png": "[encoded data removed]",
      "text/plain": [
       "<Figure size 432x288 with 1 Axes>"
      ]
     },
     "metadata": {
      "needs_background": "light"
     },
     "output_type": "display_data"
    }
   ],
   "source": [
    "fig5, ax5 = plt.subplots()\n",
    "fig5 = sm.graphics.plot_fit(hun_model,1, vlines = False, ax = ax5)\n",
    "ax5.set_ylabel(\"New Tests\")\n",
    "ax5.set_xlabel(\"New Deaths\")\n",
    "ax5.set_title(\"New Tests vs New Deaths in Hungary (HIGH)\")\n",
    "plt.show()"
   ]
  },
  {
   "cell_type": "markdown",
   "id": "28e3d481",
   "metadata": {},
   "source": [
    "## Vaccinations vs Cases"
   ]
  },
  {
   "cell_type": "code",
   "execution_count": 302,
   "id": "050b66b9",
   "metadata": {},
   "outputs": [],
   "source": [
    "brazil = countries_df.loc[countries_df[\"location\"] == \"Brazil\"]"
   ]
  },
  {
   "cell_type": "code",
   "execution_count": 345,
   "id": "338eabae",
   "metadata": {},
   "outputs": [
    {
     "name": "stdout",
     "output_type": "stream",
     "text": [
      "                            OLS Regression Results                            \n",
      "==============================================================================\n",
      "Dep. Variable:       new_vaccinations   R-squared:                       0.019\n",
      "Model:                            OLS   Adj. R-squared:                  0.017\n",
      "Method:                 Least Squares   F-statistic:                     13.16\n",
      "Date:                Tue, 08 Feb 2022   Prob (F-statistic):           0.000307\n",
      "Time:                        19:36:15   Log-Likelihood:                -10280.\n",
      "No. Observations:                 693   AIC:                         2.056e+04\n",
      "Df Residuals:                     691   BIC:                         2.057e+04\n",
      "Df Model:                           1                                         \n",
      "Covariance Type:            nonrobust                                         \n",
      "==============================================================================\n",
      "                 coef    std err          t      P>|t|      [0.025      0.975]\n",
      "------------------------------------------------------------------------------\n",
      "Intercept   3.767e+05   4.22e+04      8.933      0.000    2.94e+05    4.59e+05\n",
      "new_cases      3.6563      1.008      3.628      0.000       1.678       5.635\n",
      "==============================================================================\n",
      "Omnibus:                      162.174   Durbin-Watson:                   0.367\n",
      "Prob(Omnibus):                  0.000   Jarque-Bera (JB):              290.943\n",
      "Skew:                           1.416   Prob(JB):                     6.64e-64\n",
      "Kurtosis:                       4.434   Cond. No.                     6.93e+04\n",
      "==============================================================================\n",
      "\n",
      "Notes:\n",
      "[1] Standard Errors assume that the covariance matrix of the errors is correctly specified.\n",
      "[2] The condition number is large, 6.93e+04. This might indicate that there are\n",
      "strong multicollinearity or other numerical problems.\n"
     ]
    }
   ],
   "source": [
    "b_model = ols('new_vaccinations ~ new_cases', data = brazil).fit()\n",
    "print(b_model.summary())"
   ]
  },
  {
   "cell_type": "code",
   "execution_count": 304,
   "id": "45232211",
   "metadata": {},
   "outputs": [
    {
     "data": {
      "image/png": "[encoded data removed]",
      "text/plain": [
       "<Figure size 432x288 with 1 Axes>"
      ]
     },
     "metadata": {
      "needs_background": "light"
     },
     "output_type": "display_data"
    }
   ],
   "source": [
    "fig4, ax4 = plt.subplots()\n",
    "fig4 = sm.graphics.plot_fit(b_model,1, vlines= False, ax = ax4)\n",
    "ax4.set_ylabel(\"New Vaccinations\")\n",
    "ax4.set_xlabel(\"New Cases\")\n",
    "ax4.set_title(\"New Deaths vs New Tests in Brazil (HIGH)\")\n",
    "plt.show()"
   ]
  },
  {
   "cell_type": "code",
   "execution_count": 310,
   "id": "71c220cc",
   "metadata": {},
   "outputs": [],
   "source": [
    "jam = countries_df[countries_df[\"location\"] == \"Jamaica\"]"
   ]
  },
  {
   "cell_type": "code",
   "execution_count": 346,
   "id": "932af8f5",
   "metadata": {},
   "outputs": [
    {
     "name": "stdout",
     "output_type": "stream",
     "text": [
      "                            OLS Regression Results                            \n",
      "==============================================================================\n",
      "Dep. Variable:       new_vaccinations   R-squared:                       0.010\n",
      "Model:                            OLS   Adj. R-squared:                  0.009\n",
      "Method:                 Least Squares   F-statistic:                     6.885\n",
      "Date:                Tue, 08 Feb 2022   Prob (F-statistic):            0.00889\n",
      "Time:                        19:36:26   Log-Likelihood:                -6218.4\n",
      "No. Observations:                 679   AIC:                         1.244e+04\n",
      "Df Residuals:                     677   BIC:                         1.245e+04\n",
      "Df Model:                           1                                         \n",
      "Covariance Type:            nonrobust                                         \n",
      "==============================================================================\n",
      "                 coef    std err          t      P>|t|      [0.025      0.975]\n",
      "------------------------------------------------------------------------------\n",
      "Intercept    470.8781    105.630      4.458      0.000     263.476     678.280\n",
      "new_cases      0.8989      0.343      2.624      0.009       0.226       1.572\n",
      "==============================================================================\n",
      "Omnibus:                      865.112   Durbin-Watson:                   1.259\n",
      "Prob(Omnibus):                  0.000   Jarque-Bera (JB):           109406.651\n",
      "Skew:                           6.464   Prob(JB):                         0.00\n",
      "Kurtosis:                      63.827   Cond. No.                         369.\n",
      "==============================================================================\n",
      "\n",
      "Notes:\n",
      "[1] Standard Errors assume that the covariance matrix of the errors is correctly specified.\n"
     ]
    }
   ],
   "source": [
    "j_model = ols('new_vaccinations ~ new_cases', data = jam).fit()\n",
    "print(j_model.summary())"
   ]
  },
  {
   "cell_type": "code",
   "execution_count": 313,
   "id": "8aefcf01",
   "metadata": {},
   "outputs": [
    {
     "data": {
      "image/png": "[encoded data removed]",
      "text/plain": [
       "<Figure size 432x288 with 1 Axes>"
      ]
     },
     "metadata": {
      "needs_background": "light"
     },
     "output_type": "display_data"
    }
   ],
   "source": [
    "fig6, ax6 = plt.subplots()\n",
    "fig6 = sm.graphics.plot_fit(j_model, 1, vlines = False, ax = ax6)\n",
    "ax6.set_ylabel(\"New Vaccinations\")\n",
    "ax6.set_xlabel(\"New Cases\")\n",
    "ax6.set_title(\"New Vaccinations vs New Cases in Jamaica (LOW)\")\n",
    "plt.show()"
   ]
  },
  {
   "cell_type": "markdown",
   "id": "e34d6517",
   "metadata": {},
   "source": [
    "## Vaccinations vs Deaths"
   ]
  },
  {
   "cell_type": "code",
   "execution_count": 321,
   "id": "a4869a72",
   "metadata": {},
   "outputs": [],
   "source": [
    "cyp = countries_df.loc[countries_df[\"location\"] == \"Cyprus\"]"
   ]
  },
  {
   "cell_type": "code",
   "execution_count": 347,
   "id": "6c14326f",
   "metadata": {},
   "outputs": [
    {
     "name": "stdout",
     "output_type": "stream",
     "text": [
      "                            OLS Regression Results                            \n",
      "==============================================================================\n",
      "Dep. Variable:             new_deaths   R-squared:                       0.007\n",
      "Model:                            OLS   Adj. R-squared:                  0.005\n",
      "Method:                 Least Squares   F-statistic:                     4.615\n",
      "Date:                Tue, 08 Feb 2022   Prob (F-statistic):             0.0321\n",
      "Time:                        19:37:20   Log-Likelihood:                -1232.6\n",
      "No. Observations:                 682   AIC:                             2469.\n",
      "Df Residuals:                     680   BIC:                             2478.\n",
      "Df Model:                           1                                         \n",
      "Covariance Type:            nonrobust                                         \n",
      "====================================================================================\n",
      "                       coef    std err          t      P>|t|      [0.025      0.975]\n",
      "------------------------------------------------------------------------------------\n",
      "Intercept            0.9770      0.059     16.666      0.000       0.862       1.092\n",
      "new_vaccinations  5.521e-05   2.57e-05      2.148      0.032    4.75e-06       0.000\n",
      "==============================================================================\n",
      "Omnibus:                      259.637   Durbin-Watson:                   1.168\n",
      "Prob(Omnibus):                  0.000   Jarque-Bera (JB):              847.564\n",
      "Skew:                           1.854   Prob(JB):                    8.99e-185\n",
      "Kurtosis:                       7.010   Cond. No.                     2.36e+03\n",
      "==============================================================================\n",
      "\n",
      "Notes:\n",
      "[1] Standard Errors assume that the covariance matrix of the errors is correctly specified.\n",
      "[2] The condition number is large, 2.36e+03. This might indicate that there are\n",
      "strong multicollinearity or other numerical problems.\n"
     ]
    }
   ],
   "source": [
    "c_model = ols(\"new_deaths ~ new_vaccinations\", data = cyp).fit()\n",
    "print(c_model.summary())"
   ]
  },
  {
   "cell_type": "code",
   "execution_count": 326,
   "id": "cba62696",
   "metadata": {},
   "outputs": [
    {
     "data": {
      "image/png": "[encoded data removed]",
      "text/plain": [
       "<Figure size 432x288 with 1 Axes>"
      ]
     },
     "metadata": {
      "needs_background": "light"
     },
     "output_type": "display_data"
    }
   ],
   "source": [
    "fig7, ax7 = plt.subplots()\n",
    "fig7 = sm.graphics.plot_fit(c_model,1, vlines = False, ax = ax7)\n",
    "ax7.set_ylabel(\"New Deaths\")\n",
    "ax7.set_xlabel(\"New Vaccines\")\n",
    "ax7.set_title(\"New Vaccinations vs New Deaths in Cyprus (LOW)\")\n",
    "plt.show()"
   ]
  },
  {
   "cell_type": "code",
   "execution_count": 328,
   "id": "e817c891",
   "metadata": {},
   "outputs": [],
   "source": [
    "usa = countries_df.loc[countries_df[\"location\"] == \"United States\"]"
   ]
  },
  {
   "cell_type": "code",
   "execution_count": 348,
   "id": "a166d7f0",
   "metadata": {},
   "outputs": [
    {
     "name": "stdout",
     "output_type": "stream",
     "text": [
      "                            OLS Regression Results                            \n",
      "==============================================================================\n",
      "Dep. Variable:             new_deaths   R-squared:                       0.053\n",
      "Model:                            OLS   Adj. R-squared:                  0.052\n",
      "Method:                 Least Squares   F-statistic:                     40.85\n",
      "Date:                Tue, 08 Feb 2022   Prob (F-statistic):           2.93e-10\n",
      "Time:                        19:37:31   Log-Likelihood:                -6008.2\n",
      "No. Observations:                 728   AIC:                         1.202e+04\n",
      "Df Residuals:                     726   BIC:                         1.203e+04\n",
      "Df Model:                           1                                         \n",
      "Covariance Type:            nonrobust                                         \n",
      "====================================================================================\n",
      "                       coef    std err          t      P>|t|      [0.025      0.975]\n",
      "------------------------------------------------------------------------------------\n",
      "Intercept         1005.4922     43.307     23.218      0.000     920.470    1090.515\n",
      "new_vaccinations     0.0002   3.61e-05      6.392      0.000       0.000       0.000\n",
      "==============================================================================\n",
      "Omnibus:                      100.494   Durbin-Watson:                   0.335\n",
      "Prob(Omnibus):                  0.000   Jarque-Bera (JB):              140.391\n",
      "Skew:                           1.041   Prob(JB):                     3.27e-31\n",
      "Kurtosis:                       3.539   Cond. No.                     1.51e+06\n",
      "==============================================================================\n",
      "\n",
      "Notes:\n",
      "[1] Standard Errors assume that the covariance matrix of the errors is correctly specified.\n",
      "[2] The condition number is large, 1.51e+06. This might indicate that there are\n",
      "strong multicollinearity or other numerical problems.\n"
     ]
    }
   ],
   "source": [
    "usa_model = ols(\"new_deaths ~ new_vaccinations\", data = usa).fit()\n",
    "print(usa_model.summary())"
   ]
  },
  {
   "cell_type": "code",
   "execution_count": 332,
   "id": "e494e89f",
   "metadata": {},
   "outputs": [
    {
     "data": {
      "image/png": "[encoded data removed]",
      "text/plain": [
       "<Figure size 432x288 with 1 Axes>"
      ]
     },
     "metadata": {
      "needs_background": "light"
     },
     "output_type": "display_data"
    }
   ],
   "source": [
    "fig8, ax8 = plt.subplots()\n",
    "fig8 = sm.graphics.plot_fit(usa_model, 1, vlines = False, ax = ax8)\n",
    "ax8.set_ylabel(\"New Deaths\")\n",
    "ax8.set_xlabel(\"New Vaccines\")\n",
    "ax8.set_title(\"New Vaccinations vs New Deaths in the United States (HIGH)\")\n",
    "plt.show()"
   ]
  },
  {
   "cell_type": "code",
   "execution_count": null,
   "id": "b129c60e",
   "metadata": {},
   "outputs": [],
   "source": []
  },
  {
   "cell_type": "code",
   "execution_count": null,
   "id": "c5421f67",
   "metadata": {},
   "outputs": [],
   "source": []
  },
  {
   "cell_type": "markdown",
   "id": "585d9ad1",
   "metadata": {},
   "source": [
    "## Late Multilinear Regression"
   ]
  },
  {
   "cell_type": "code",
   "execution_count": 378,
   "id": "7e5c782e",
   "metadata": {},
   "outputs": [],
   "source": [
    "asia = countries_df.loc[countries_df[\"continent\"] == \"Asia\"]"
   ]
  },
  {
   "cell_type": "code",
   "execution_count": 379,
   "id": "42612aeb",
   "metadata": {},
   "outputs": [
    {
     "name": "stdout",
     "output_type": "stream",
     "text": [
      "                            OLS Regression Results                            \n",
      "==============================================================================\n",
      "Dep. Variable:              new_cases   R-squared:                       0.669\n",
      "Model:                            OLS   Adj. R-squared:                  0.669\n",
      "Method:                 Least Squares   F-statistic:                 1.713e+04\n",
      "Date:                Tue, 08 Feb 2022   Prob (F-statistic):               0.00\n",
      "Time:                        22:00:44   Log-Likelihood:            -3.5499e+05\n",
      "No. Observations:               33965   AIC:                         7.100e+05\n",
      "Df Residuals:                   33960   BIC:                         7.100e+05\n",
      "Df Model:                           4                                         \n",
      "Covariance Type:            nonrobust                                         \n",
      "====================================================================================\n",
      "                       coef    std err          t      P>|t|      [0.025      0.975]\n",
      "------------------------------------------------------------------------------------\n",
      "Intercept          -50.3128    188.418     -0.267      0.789    -419.618     318.992\n",
      "new_vaccinations -8.195e-06   4.47e-05     -0.183      0.854   -9.58e-05    7.94e-05\n",
      "population        2.726e-06   1.99e-07     13.725      0.000    2.34e-06    3.12e-06\n",
      "median_age           1.3494      6.007      0.225      0.822     -10.424      13.123\n",
      "new_deaths          64.3368      0.272    236.301      0.000      63.803      64.870\n",
      "==============================================================================\n",
      "Omnibus:                    65825.216   Durbin-Watson:                   0.557\n",
      "Prob(Omnibus):                  0.000   Jarque-Bera (JB):        705077210.923\n",
      "Skew:                          14.623   Prob(JB):                         0.00\n",
      "Kurtosis:                     708.237   Cond. No.                     1.25e+09\n",
      "==============================================================================\n",
      "\n",
      "Notes:\n",
      "[1] Standard Errors assume that the covariance matrix of the errors is correctly specified.\n",
      "[2] The condition number is large, 1.25e+09. This might indicate that there are\n",
      "strong multicollinearity or other numerical problems.\n"
     ]
    }
   ],
   "source": [
    "asia_model = ols('new_cases ~ new_vaccinations + population + median_age + new_deaths', data = asia).fit()\n",
    "print(asia_model.summary())"
   ]
  },
  {
   "cell_type": "code",
   "execution_count": 387,
   "id": "92226969",
   "metadata": {},
   "outputs": [
    {
     "data": {
      "image/png": "[encoded data removed]",
      "text/plain": [
       "<Figure size 432x288 with 1 Axes>"
      ]
     },
     "metadata": {
      "needs_background": "light"
     },
     "output_type": "display_data"
    }
   ],
   "source": [
    "fig8, ax8 = plt.subplots()\n",
    "fig8 = sm.graphics.plot_fit(asia_model, 1, vlines = False, ax = ax8)"
   ]
  },
  {
   "cell_type": "code",
   "execution_count": 382,
   "id": "032b8c97",
   "metadata": {},
   "outputs": [],
   "source": [
    "na = countries_df.loc[countries_df[\"continent\"] == \"North America\"]"
   ]
  },
  {
   "cell_type": "code",
   "execution_count": 383,
   "id": "8e69e6b0",
   "metadata": {},
   "outputs": [
    {
     "name": "stdout",
     "output_type": "stream",
     "text": [
      "                            OLS Regression Results                            \n",
      "==============================================================================\n",
      "Dep. Variable:              new_cases   R-squared:                       0.407\n",
      "Model:                            OLS   Adj. R-squared:                  0.407\n",
      "Method:                 Least Squares   F-statistic:                     3999.\n",
      "Date:                Tue, 08 Feb 2022   Prob (F-statistic):               0.00\n",
      "Time:                        22:02:13   Log-Likelihood:            -2.6635e+05\n",
      "No. Observations:               23322   AIC:                         5.327e+05\n",
      "Df Residuals:                   23317   BIC:                         5.327e+05\n",
      "Df Model:                           4                                         \n",
      "Covariance Type:            nonrobust                                         \n",
      "====================================================================================\n",
      "                       coef    std err          t      P>|t|      [0.025      0.975]\n",
      "------------------------------------------------------------------------------------\n",
      "Intercept         -437.3830    245.153     -1.784      0.074    -917.899      43.133\n",
      "new_vaccinations     0.0073      0.001      9.444      0.000       0.006       0.009\n",
      "population        5.216e-05   3.83e-06     13.628      0.000    4.47e-05    5.97e-05\n",
      "median_age          -9.4923      9.304     -1.020      0.308     -27.728       8.744\n",
      "new_deaths          52.8269      0.804     65.734      0.000      51.252      54.402\n",
      "==============================================================================\n",
      "Omnibus:                    59725.889   Durbin-Watson:                   0.345\n",
      "Prob(Omnibus):                  0.000   Jarque-Bera (JB):       1390308550.574\n",
      "Skew:                          29.035   Prob(JB):                         0.00\n",
      "Kurtosis:                    1197.719   Cond. No.                     1.08e+08\n",
      "==============================================================================\n",
      "\n",
      "Notes:\n",
      "[1] Standard Errors assume that the covariance matrix of the errors is correctly specified.\n",
      "[2] The condition number is large, 1.08e+08. This might indicate that there are\n",
      "strong multicollinearity or other numerical problems.\n"
     ]
    }
   ],
   "source": [
    "na_model = ols('new_cases ~ new_vaccinations + population + median_age + new_deaths', data = na).fit()\n",
    "print(na_model.summary())"
   ]
  },
  {
   "cell_type": "code",
   "execution_count": 389,
   "id": "ee9f2c72",
   "metadata": {},
   "outputs": [
    {
     "data": {
      "image/png": "[encoded data removed]",
      "text/plain": [
       "<Figure size 432x288 with 1 Axes>"
      ]
     },
     "metadata": {
      "needs_background": "light"
     },
     "output_type": "display_data"
    }
   ],
   "source": [
    "fig9, ax9 = plt.subplots()\n",
    "fig9 = sm.graphics.plot_fit(na_model, 1, vlines = False, ax = ax9)"
   ]
  },
  {
   "cell_type": "code",
   "execution_count": 390,
   "id": "eb47a7b5",
   "metadata": {},
   "outputs": [],
   "source": [
    "europe = countries_df.loc[countries_df[\"continent\"] == \"Europe\"]"
   ]
  },
  {
   "cell_type": "code",
   "execution_count": 391,
   "id": "334315ba",
   "metadata": {},
   "outputs": [
    {
     "name": "stdout",
     "output_type": "stream",
     "text": [
      "                            OLS Regression Results                            \n",
      "==============================================================================\n",
      "Dep. Variable:              new_cases   R-squared:                       0.236\n",
      "Model:                            OLS   Adj. R-squared:                  0.236\n",
      "Method:                 Least Squares   F-statistic:                     2682.\n",
      "Date:                Tue, 08 Feb 2022   Prob (F-statistic):               0.00\n",
      "Time:                        22:06:10   Log-Likelihood:            -3.7052e+05\n",
      "No. Observations:               34746   AIC:                         7.411e+05\n",
      "Df Residuals:                   34741   BIC:                         7.411e+05\n",
      "Df Model:                           4                                         \n",
      "Covariance Type:            nonrobust                                         \n",
      "====================================================================================\n",
      "                       coef    std err          t      P>|t|      [0.025      0.975]\n",
      "------------------------------------------------------------------------------------\n",
      "Intercept          -35.7768    124.420     -0.288      0.774    -279.643     208.090\n",
      "new_vaccinations     0.0277      0.001     48.432      0.000       0.027       0.029\n",
      "population        4.379e-05   2.72e-06     16.111      0.000    3.85e-05    4.91e-05\n",
      "median_age          21.5859      3.438      6.279      0.000      14.847      28.324\n",
      "new_deaths          20.5988      0.530     38.892      0.000      19.561      21.637\n",
      "==============================================================================\n",
      "Omnibus:                    69586.638   Durbin-Watson:                   0.482\n",
      "Prob(Omnibus):                  0.000   Jarque-Bera (JB):        234029146.959\n",
      "Skew:                          16.432   Prob(JB):                         0.00\n",
      "Kurtosis:                     403.712   Cond. No.                     7.09e+07\n",
      "==============================================================================\n",
      "\n",
      "Notes:\n",
      "[1] Standard Errors assume that the covariance matrix of the errors is correctly specified.\n",
      "[2] The condition number is large, 7.09e+07. This might indicate that there are\n",
      "strong multicollinearity or other numerical problems.\n"
     ]
    }
   ],
   "source": [
    "euro_model = ols('new_cases ~ new_vaccinations + population + median_age + new_deaths', data = europe).fit()\n",
    "print(euro_model.summary())"
   ]
  },
  {
   "cell_type": "code",
   "execution_count": 392,
   "id": "e61304b4",
   "metadata": {},
   "outputs": [
    {
     "data": {
      "image/png": "[encoded data removed]",
      "text/plain": [
       "<Figure size 432x288 with 1 Axes>"
      ]
     },
     "metadata": {
      "needs_background": "light"
     },
     "output_type": "display_data"
    }
   ],
   "source": [
    "fig10, ax10 = plt.subplots()\n",
    "fig10 = sm.graphics.plot_fit(euro_model, 1, vlines = False, ax = ax10)"
   ]
  },
  {
   "cell_type": "code",
   "execution_count": null,
   "id": "6b8b5f3b",
   "metadata": {},
   "outputs": [],
   "source": []
  },
  {
   "cell_type": "code",
   "execution_count": null,
   "id": "b52b4b18",
   "metadata": {},
   "outputs": [],
   "source": []
  },
  {
   "cell_type": "code",
   "execution_count": 405,
   "id": "5fe8263a",
   "metadata": {},
   "outputs": [],
   "source": [
    "c_df = countries_df[['new_cases', 'new_deaths', 'total_cases', 'total_deaths', 'new_tests', 'positive_rate', 'new_vaccinations', 'population', 'median_age']]\n",
    "corr = c_df.corr(method='spearman')"
   ]
  },
  {
   "cell_type": "code",
   "execution_count": 406,
   "id": "3e8a54fe",
   "metadata": {},
   "outputs": [
    {
     "name": "stderr",
     "output_type": "stream",
     "text": [
      "C:\\Users\\andre\\anaconda3\\envs\\mlenv\\lib\\site-packages\\ipykernel_launcher.py:1: DeprecationWarning: `np.bool` is a deprecated alias for the builtin `bool`. To silence this warning, use `bool` by itself. Doing this will not modify any behavior and is safe. If you specifically wanted the numpy scalar type, use `np.bool_` here.\n",
      "Deprecated in NumPy 1.20; for more details and guidance: https://numpy.org/devdocs/release/1.20.0-notes.html#deprecations\n",
      "  \"\"\"Entry point for launching an IPython kernel.\n"
     ]
    }
   ],
   "source": [
    "mask = np.zeros_like(corr, dtype=np.bool)\n",
    "mask[np.triu_indices_from(mask)] = True"
   ]
  },
  {
   "cell_type": "code",
   "execution_count": 409,
   "id": "df600228",
   "metadata": {},
   "outputs": [
    {
     "data": {
      "image/png": "[encoded data removed]",
      "text/plain": [
       "<Figure size 432x360 with 2 Axes>"
      ]
     },
     "metadata": {
      "needs_background": "light"
     },
     "output_type": "display_data"
    }
   ],
   "source": [
    "fig, ax = plt.subplots(figsize=(6, 5))\n",
    "cmap = sns.diverging_palette(220, 10, as_cmap=True, sep=100)\n",
    "sns.heatmap(corr, mask=mask, cmap=cmap, vmin=-1, vmax=1, center=0, linewidths=.5)\n",
    "fig.suptitle('Correlation matrix of features', fontsize=15)\n",
    "ax.text(0.77, 0.2, 'aegis4048.github.io', fontsize=13, ha='center', va='center',\n",
    "         transform=ax.transAxes, color='grey', alpha=0.5)\n",
    "\n",
    "fig.tight_layout()"
   ]
  },
  {
   "cell_type": "code",
   "execution_count": null,
   "id": "9d7040e4",
   "metadata": {},
   "outputs": [],
   "source": []
  }
 ],
 "metadata": {
  "kernelspec": {
   "display_name": "mlenv",
   "language": "python",
   "name": "mlenv"
  },
  "language_info": {
   "codemirror_mode": {
    "name": "ipython",
    "version": 3
   },
   "file_extension": ".py",
   "mimetype": "text/x-python",
   "name": "python",
   "nbconvert_exporter": "python",
   "pygments_lexer": "ipython3",
   "version": "3.7.11"
  }
 },
 "nbformat": 4,
 "nbformat_minor": 5
}
