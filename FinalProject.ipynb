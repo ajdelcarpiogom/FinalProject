{
 "cells": [
  {
   "cell_type": "code",
   "execution_count": 226,
   "id": "63384294",
   "metadata": {},
   "outputs": [],
   "source": [
    "import pandas as pd\n",
    "import numpy as np\n",
    "import random as rd\n",
    "import scipy.stats\n",
    "import statsmodels.api as sm\n",
    "import datetime as dt\n",
    "import matplotlib.pyplot as plt\n",
    "from statsmodels.formula.api import ols"
   ]
  },
  {
   "cell_type": "code",
   "execution_count": 2,
   "id": "434a71ff",
   "metadata": {},
   "outputs": [],
   "source": [
    "### Loading the data\n",
    "df = pd.read_csv(\"C:/Users/andre/Documents/Analysis_Projects/FinalProject/owid-covid-data.csv\")\n",
    "df.head()\n",
    "\n",
    "### We also want to make sure we fix the date column.\n",
    "df[\"date\"] = pd.to_datetime(df[\"date\"])\n",
    "df.replace(np.nan, 0, inplace = True)\n",
    "countries_df = df[df.continent != 0]\n",
    "countries_df = countries_df.loc[countries_df[\"location\"] != countries_df[\"continent\"]]"
   ]
  },
  {
   "cell_type": "code",
   "execution_count": 3,
   "id": "36fcd74c",
   "metadata": {},
   "outputs": [
    {
     "data": {
      "text/html": [
       "<div>\n",
       "<style scoped>\n",
       "    .dataframe tbody tr th:only-of-type {\n",
       "        vertical-align: middle;\n",
       "    }\n",
       "\n",
       "    .dataframe tbody tr th {\n",
       "        vertical-align: top;\n",
       "    }\n",
       "\n",
       "    .dataframe thead th {\n",
       "        text-align: right;\n",
       "    }\n",
       "</style>\n",
       "<table border=\"1\" class=\"dataframe\">\n",
       "  <thead>\n",
       "    <tr style=\"text-align: right;\">\n",
       "      <th></th>\n",
       "      <th>iso_code</th>\n",
       "      <th>continent</th>\n",
       "      <th>location</th>\n",
       "      <th>date</th>\n",
       "      <th>new_cases</th>\n",
       "      <th>new_deaths</th>\n",
       "      <th>total_cases</th>\n",
       "      <th>total_deaths</th>\n",
       "      <th>reproduction_rate</th>\n",
       "      <th>hosp_patients</th>\n",
       "      <th>new_tests</th>\n",
       "      <th>total_tests</th>\n",
       "      <th>positive_rate</th>\n",
       "      <th>new_vaccinations</th>\n",
       "      <th>population</th>\n",
       "      <th>median_age</th>\n",
       "      <th>hospital_beds_per_thousand</th>\n",
       "    </tr>\n",
       "  </thead>\n",
       "  <tbody>\n",
       "    <tr>\n",
       "      <th>0</th>\n",
       "      <td>AFG</td>\n",
       "      <td>Asia</td>\n",
       "      <td>Afghanistan</td>\n",
       "      <td>2020-02-24</td>\n",
       "      <td>5.0</td>\n",
       "      <td>0.0</td>\n",
       "      <td>5.0</td>\n",
       "      <td>0.0</td>\n",
       "      <td>0.0</td>\n",
       "      <td>0.0</td>\n",
       "      <td>0.0</td>\n",
       "      <td>0.0</td>\n",
       "      <td>0.0</td>\n",
       "      <td>0.0</td>\n",
       "      <td>39835428.0</td>\n",
       "      <td>18.6</td>\n",
       "      <td>0.5</td>\n",
       "    </tr>\n",
       "    <tr>\n",
       "      <th>1</th>\n",
       "      <td>AFG</td>\n",
       "      <td>Asia</td>\n",
       "      <td>Afghanistan</td>\n",
       "      <td>2020-02-25</td>\n",
       "      <td>0.0</td>\n",
       "      <td>0.0</td>\n",
       "      <td>5.0</td>\n",
       "      <td>0.0</td>\n",
       "      <td>0.0</td>\n",
       "      <td>0.0</td>\n",
       "      <td>0.0</td>\n",
       "      <td>0.0</td>\n",
       "      <td>0.0</td>\n",
       "      <td>0.0</td>\n",
       "      <td>39835428.0</td>\n",
       "      <td>18.6</td>\n",
       "      <td>0.5</td>\n",
       "    </tr>\n",
       "    <tr>\n",
       "      <th>2</th>\n",
       "      <td>AFG</td>\n",
       "      <td>Asia</td>\n",
       "      <td>Afghanistan</td>\n",
       "      <td>2020-02-26</td>\n",
       "      <td>0.0</td>\n",
       "      <td>0.0</td>\n",
       "      <td>5.0</td>\n",
       "      <td>0.0</td>\n",
       "      <td>0.0</td>\n",
       "      <td>0.0</td>\n",
       "      <td>0.0</td>\n",
       "      <td>0.0</td>\n",
       "      <td>0.0</td>\n",
       "      <td>0.0</td>\n",
       "      <td>39835428.0</td>\n",
       "      <td>18.6</td>\n",
       "      <td>0.5</td>\n",
       "    </tr>\n",
       "    <tr>\n",
       "      <th>3</th>\n",
       "      <td>AFG</td>\n",
       "      <td>Asia</td>\n",
       "      <td>Afghanistan</td>\n",
       "      <td>2020-02-27</td>\n",
       "      <td>0.0</td>\n",
       "      <td>0.0</td>\n",
       "      <td>5.0</td>\n",
       "      <td>0.0</td>\n",
       "      <td>0.0</td>\n",
       "      <td>0.0</td>\n",
       "      <td>0.0</td>\n",
       "      <td>0.0</td>\n",
       "      <td>0.0</td>\n",
       "      <td>0.0</td>\n",
       "      <td>39835428.0</td>\n",
       "      <td>18.6</td>\n",
       "      <td>0.5</td>\n",
       "    </tr>\n",
       "    <tr>\n",
       "      <th>4</th>\n",
       "      <td>AFG</td>\n",
       "      <td>Asia</td>\n",
       "      <td>Afghanistan</td>\n",
       "      <td>2020-02-28</td>\n",
       "      <td>0.0</td>\n",
       "      <td>0.0</td>\n",
       "      <td>5.0</td>\n",
       "      <td>0.0</td>\n",
       "      <td>0.0</td>\n",
       "      <td>0.0</td>\n",
       "      <td>0.0</td>\n",
       "      <td>0.0</td>\n",
       "      <td>0.0</td>\n",
       "      <td>0.0</td>\n",
       "      <td>39835428.0</td>\n",
       "      <td>18.6</td>\n",
       "      <td>0.5</td>\n",
       "    </tr>\n",
       "  </tbody>\n",
       "</table>\n",
       "</div>"
      ],
      "text/plain": [
       "  iso_code continent     location       date  new_cases  new_deaths  \\\n",
       "0      AFG      Asia  Afghanistan 2020-02-24        5.0         0.0   \n",
       "1      AFG      Asia  Afghanistan 2020-02-25        0.0         0.0   \n",
       "2      AFG      Asia  Afghanistan 2020-02-26        0.0         0.0   \n",
       "3      AFG      Asia  Afghanistan 2020-02-27        0.0         0.0   \n",
       "4      AFG      Asia  Afghanistan 2020-02-28        0.0         0.0   \n",
       "\n",
       "   total_cases  total_deaths  reproduction_rate  hosp_patients  new_tests  \\\n",
       "0          5.0           0.0                0.0            0.0        0.0   \n",
       "1          5.0           0.0                0.0            0.0        0.0   \n",
       "2          5.0           0.0                0.0            0.0        0.0   \n",
       "3          5.0           0.0                0.0            0.0        0.0   \n",
       "4          5.0           0.0                0.0            0.0        0.0   \n",
       "\n",
       "   total_tests  positive_rate  new_vaccinations  population  median_age  \\\n",
       "0          0.0            0.0               0.0  39835428.0        18.6   \n",
       "1          0.0            0.0               0.0  39835428.0        18.6   \n",
       "2          0.0            0.0               0.0  39835428.0        18.6   \n",
       "3          0.0            0.0               0.0  39835428.0        18.6   \n",
       "4          0.0            0.0               0.0  39835428.0        18.6   \n",
       "\n",
       "   hospital_beds_per_thousand  \n",
       "0                         0.5  \n",
       "1                         0.5  \n",
       "2                         0.5  \n",
       "3                         0.5  \n",
       "4                         0.5  "
      ]
     },
     "execution_count": 3,
     "metadata": {},
     "output_type": "execute_result"
    }
   ],
   "source": [
    "### Take only the columns we want\n",
    "\n",
    "countries_df = countries_df[[\"iso_code\", \"continent\", \"location\", \"date\", \"new_cases\", \"new_deaths\", \"total_cases\", \"total_deaths\", \"reproduction_rate\", \"hosp_patients\", \"new_tests\", \"total_tests\", \"positive_rate\", \"new_vaccinations\", \"population\", \"median_age\", \"hospital_beds_per_thousand\" ]]\n",
    "\n",
    "countries_df.head()"
   ]
  },
  {
   "cell_type": "code",
   "execution_count": 4,
   "id": "75ff41a3",
   "metadata": {
    "scrolled": true
   },
   "outputs": [],
   "source": [
    "### In order to clean this data, we didn't want to drop the null so we decided to replace it with zero instead.\n",
    "countries_df.to_csv(\"cleaned_data_andrea.csv\", index = False)"
   ]
  },
  {
   "cell_type": "code",
   "execution_count": 5,
   "id": "9e178a2a",
   "metadata": {},
   "outputs": [],
   "source": [
    "### Grouping the countries in levels of risk of COVID by looking at the total cases.\n",
    "\n",
    "grouped_df = countries_df.groupby(\"location\")\n",
    "grouped_lists = grouped_df[\"total_cases\"].mean()\n",
    "grouped_lists = grouped_lists.reset_index()\n",
    "\n",
    "# grouped_lists.describe()\n",
    "\n",
    "grouped_lists = grouped_lists.sort_values(by=[\"total_cases\"])\n",
    "\n",
    "# Grouping the list by aver  age of total_cases\n",
    "low = grouped_lists[0:75]\n",
    "med = grouped_lists[75:150]\n",
    "high = grouped_lists[150:]"
   ]
  },
  {
   "cell_type": "code",
   "execution_count": 6,
   "id": "e06c3e19",
   "metadata": {},
   "outputs": [],
   "source": [
    "# Creating a new column to determine\n",
    "countries_df['risk_level'] = ['low' if x<=max(low[\"total_cases\"]) else 'med' if min(med[\"total_cases\"])<=x<=max(med[\"total_cases\"]) else 'high' for x in countries_df['total_cases']]"
   ]
  },
  {
   "cell_type": "code",
   "execution_count": 7,
   "id": "36b1b773",
   "metadata": {},
   "outputs": [
    {
     "data": {
      "text/plain": [
       "array(['Sint Maarten (Dutch part)', 'Niue', 'Tokelau', 'Northern Cyprus',\n",
       "       'Turkmenistan', 'Tuvalu', 'Guernsey', 'Jersey', 'Nauru',\n",
       "       'Pitcairn', 'Tonga', 'Micronesia (country)', 'Cook Islands',\n",
       "       'Kiribati', 'Samoa', 'Vanuatu', 'Saint Helena', 'Marshall Islands',\n",
       "       'Palau', 'Solomon Islands', 'Vatican', 'Montserrat',\n",
       "       'Saint Pierre and Miquelon', 'Falkland Islands', 'Macao',\n",
       "       'Anguilla', 'Wallis and Futuna', 'Greenland',\n",
       "       'Saint Kitts and Nevis', 'British Virgin Islands',\n",
       "       'Bonaire Sint Eustatius and Saba', 'Faeroe Islands', 'Bhutan',\n",
       "       'Dominica', 'Antigua and Barbuda', 'Cayman Islands', 'Grenada',\n",
       "       'Turks and Caicos Islands', 'Saint Vincent and the Grenadines',\n",
       "       'Monaco', 'Sao Tome and Principe', 'Bermuda', 'New Caledonia',\n",
       "       'Liechtenstein', 'Comoros', 'Brunei', 'Liberia', 'Isle of Man',\n",
       "       'Gibraltar', 'Chad', 'Eritrea', 'San Marino', 'New Zealand',\n",
       "       'Guinea-Bissau', 'Sierra Leone', 'Niger', 'Saint Lucia', 'Yemen',\n",
       "       'Mauritius', 'Gambia', 'Tanzania', 'Barbados', 'Taiwan', 'Timor',\n",
       "       'Central African Republic', 'Burundi', 'Equatorial Guinea',\n",
       "       'South Sudan', 'Iceland', 'Nicaragua', 'Hong Kong', 'Curacao',\n",
       "       'Djibouti', 'Aruba', 'Seychelles'], dtype=object)"
      ]
     },
     "execution_count": 7,
     "metadata": {},
     "output_type": "execute_result"
    }
   ],
   "source": [
    "low[\"location\"].unique()"
   ]
  },
  {
   "cell_type": "code",
   "execution_count": 8,
   "id": "5e344bdd",
   "metadata": {},
   "outputs": [
    {
     "data": {
      "text/plain": [
       "array(['Benin', 'Burkina Faso', 'Congo', 'Andorra', 'Mali', 'Lesotho',\n",
       "       'Bahamas', 'Papua New Guinea', 'Somalia', 'Togo', 'Belize',\n",
       "       'Tajikistan', 'Fiji', 'Haiti', 'Laos', 'Guyana', 'Suriname',\n",
       "       'Gabon', 'Guinea', 'Mauritania', 'Syria', 'French Polynesia',\n",
       "       'Cape Verde', 'Eswatini', 'Malta', 'Trinidad and Tobago', 'Sudan',\n",
       "       'Madagascar', 'Angola', 'Democratic Republic of Congo', 'Malawi',\n",
       "       'Cambodia', \"Cote d'Ivoire\", 'Senegal', 'Jamaica', 'Rwanda',\n",
       "       'Maldives', 'Luxembourg', 'Cameroon', 'Uganda', 'Cyprus',\n",
       "       'Zimbabwe', 'Namibia', 'El Salvador', 'Mozambique', 'Botswana',\n",
       "       'Montenegro', 'Finland', 'Ghana', 'Kosovo', 'Afghanistan',\n",
       "       'Australia', 'Estonia', 'Singapore', 'Albania', 'Latvia', 'China',\n",
       "       'Uzbekistan', 'Zambia', 'Kyrgyzstan', 'Mongolia', 'Norway',\n",
       "       'North Macedonia', 'Algeria', 'Nigeria', 'Kenya',\n",
       "       'Bosnia and Herzegovina', 'South Korea', 'Bahrain', 'Libya',\n",
       "       'Armenia', 'Slovenia', 'Qatar', 'Uruguay', 'Oman'], dtype=object)"
      ]
     },
     "execution_count": 8,
     "metadata": {},
     "output_type": "execute_result"
    }
   ],
   "source": [
    "med[\"location\"].unique()"
   ]
  },
  {
   "cell_type": "code",
   "execution_count": 9,
   "id": "571baa6a",
   "metadata": {},
   "outputs": [
    {
     "data": {
      "text/plain": [
       "array(['Sri Lanka', 'Moldova', 'Egypt', 'Honduras', 'Ethiopia',\n",
       "       'Lithuania', 'Venezuela', 'Myanmar', 'Palestine', 'Denmark',\n",
       "       'Dominican Republic', 'Paraguay', 'Kuwait', 'Ireland', 'Guatemala',\n",
       "       'Croatia', 'Vietnam', 'Azerbaijan', 'Costa Rica', 'Cuba',\n",
       "       'Bolivia', 'Panama', 'Bulgaria', 'Belarus', 'Ecuador', 'Tunisia',\n",
       "       'Georgia', 'Greece', 'Lebanon', 'Nepal', 'United Arab Emirates',\n",
       "       'Saudi Arabia', 'Kazakhstan', 'Morocco', 'Jordan', 'Austria',\n",
       "       'Thailand', 'Hungary', 'Serbia', 'Slovakia', 'Switzerland',\n",
       "       'Japan', 'Portugal', 'Sweden', 'Israel', 'Pakistan', 'Malaysia',\n",
       "       'Bangladesh', 'Belgium', 'Romania', 'Canada', 'Iraq', 'Chile',\n",
       "       'Philippines', 'Czechia', 'Netherlands', 'Peru', 'South Africa',\n",
       "       'Ukraine', 'Indonesia', 'Poland', 'Mexico', 'Iran', 'Germany',\n",
       "       'Argentina', 'Colombia', 'Italy', 'Spain', 'Turkey', 'France',\n",
       "       'United Kingdom', 'Russia', 'Brazil', 'India', 'United States'],\n",
       "      dtype=object)"
      ]
     },
     "execution_count": 9,
     "metadata": {},
     "output_type": "execute_result"
    }
   ],
   "source": [
    "high[\"location\"].unique()"
   ]
  },
  {
   "cell_type": "code",
   "execution_count": 10,
   "id": "62426af0",
   "metadata": {},
   "outputs": [],
   "source": [
    "### Get 3 countries out of each\n",
    "def pick_three():\n",
    "    a = []\n",
    "    \n",
    "    low_cn = low.sample()\n",
    "    low_cn = low_cn[\"location\"].to_string()\n",
    "    \n",
    "    med_cn = med.sample()\n",
    "    med_cn = med_cn[\"location\"].to_string()\n",
    "    \n",
    "    high_cn = high.sample()\n",
    "    high_cn = high_cn[\"location\"].to_string()\n",
    "    \n",
    "    a.append(low_cn)\n",
    "    a.append(med_cn)\n",
    "    a.append(high_cn)\n",
    "    \n",
    "    new = []\n",
    "    for index in a:\n",
    "        for i,x in enumerate(index):\n",
    "            if x.isalpha():      #True if its a letter\n",
    "                pos = i \n",
    "                break\n",
    "        b = index[pos:]\n",
    "        new.append(b)\n",
    "    \n",
    "    return new"
   ]
  },
  {
   "cell_type": "code",
   "execution_count": 196,
   "id": "48f8f8a4",
   "metadata": {},
   "outputs": [
    {
     "data": {
      "text/plain": [
       "['Iceland', 'Montenegro', 'Sweden']"
      ]
     },
     "execution_count": 196,
     "metadata": {},
     "output_type": "execute_result"
    }
   ],
   "source": [
    "### Testing the function pick_three()\n",
    "a = pick_three()\n",
    "a"
   ]
  },
  {
   "cell_type": "code",
   "execution_count": 100,
   "id": "25387329",
   "metadata": {},
   "outputs": [],
   "source": [
    "### Now we can get to the ML Model"
   ]
  },
  {
   "cell_type": "code",
   "execution_count": 13,
   "id": "c230dc47",
   "metadata": {},
   "outputs": [],
   "source": [
    "def make_df():\n",
    "    countries = pick_three()\n",
    "    new_df = pd.DataFrame(columns = countries_df.columns)\n",
    "    entries = []\n",
    "\n",
    "    for i in countries_df[\"location\"]:\n",
    "        if i in countries:\n",
    "            entry = countries_df.loc[countries_df['location'] == i]\n",
    "            entries.append(entry)\n",
    "\n",
    "    found_df = pd.concat(entries)\n",
    "    result_df = pd.concat([new_df, found_df])\n",
    "    \n",
    "    return result_df"
   ]
  },
  {
   "cell_type": "code",
   "execution_count": 14,
   "id": "4b21a226",
   "metadata": {},
   "outputs": [],
   "source": [
    "### Now, we obviously want to see the correlation\n",
    "def tests_vs_cases():\n",
    "    a = make_df()\n",
    "    data1 = a.loc[a[\"location\"] == a[\"location\"].unique()[0]]\n",
    "    data2 = a.loc[a[\"location\"] == a[\"location\"].unique()[1]]\n",
    "    data3 = a.loc[a[\"location\"] == a[\"location\"].unique()[2]]\n",
    "    \n",
    "    data1_col1 = data1[\"new_tests\"]\n",
    "    data1_col2 = data1[\"new_cases\"]\n",
    "\n",
    "    data2_col1 = data2[\"new_tests\"]\n",
    "    data2_col2 = data2[\"new_cases\"]\n",
    "\n",
    "    data3_col1 = data3[\"new_tests\"]\n",
    "    data3_col2 = data3[\"new_cases\"]\n",
    "\n",
    "    data1_corr = data1_col1.corr(data1_col2, method = \"pearson\")\n",
    "    data2_corr = data2_col1.corr(data2_col2, method = \"pearson\")\n",
    "    data3_corr = data3_col1.corr(data3_col2, method = \"pearson\")\n",
    "        \n",
    "    \n",
    "    ### Now let's see if we can obtain the entire summary statistics for the linear regression model.\n",
    "    total_tests_1 = data1_col1.to_list()\n",
    "    total_cases_1 = data1_col2.to_list()\n",
    "    total_tests_1, total_cases_1 = np.array(total_tests_1), np.array(total_cases_1)\n",
    "    total_tests_1 = sm.add_constant(total_tests_1)\n",
    "    model1 = sm.OLS(total_cases_1, total_tests_1)\n",
    "    results1 = model1.fit()\n",
    "    \n",
    "    \n",
    "    print(f\"Low Risk: The correlation coefficient between the new tests administered and the new cases in \" + data1[\"location\"].unique()[0] + \" is \" + str(data1_corr))\n",
    "    print(\"------------------------------------------------------------------------------------------------\")\n",
    "   # print(f\"Model summary for: \" + data1[\"location\"].unique()[0] + \".\")\n",
    "   # print(results1.summary())\n",
    "   # print(\"------------------------------------------------------------------------------------------------\")\n",
    "\n",
    "    \n",
    "    total_tests_2 = data2_col1.to_list()\n",
    "    total_cases_2 = data2_col2.to_list()\n",
    "    total_tests_2, total_cases_2 = np.array(total_tests_2), np.array(total_cases_2)\n",
    "    total_tests_2 = sm.add_constant(total_tests_2)\n",
    "    model2 = sm.OLS(total_cases_2, total_tests_2)\n",
    "    results2 = model2.fit()\n",
    "    \n",
    "    print(f\"Med Risk: The correlation coefficient between the new tests administered and the new cases in \" + data2[\"location\"].unique()[0] + \" is \" + str(data2_corr))\n",
    "    print(\"------------------------------------------------------------------------------------------------\")\n",
    "   # print(f\"Model summary for: \" + data2[\"location\"].unique()[0] + \".\")\n",
    "   # print(results2.summary())\n",
    "  #  print(\"------------------------------------------------------------------------------------------------\")\n",
    "\n",
    "    total_tests_3 = data3_col1.to_list()\n",
    "    total_cases_3 = data3_col2.to_list()\n",
    "    total_tests_3, total_cases_3 = np.array(total_tests_3), np.array(total_cases_3)\n",
    "    total_tests_3 = sm.add_constant(total_tests_3)\n",
    "    model3 = sm.OLS(total_cases_3, total_tests_3)\n",
    "    results3 = model3.fit()\n",
    "    \n",
    "    print(f\"High Risk: The correlation coefficient between the new tests administered and the new cases in \" + data3[\"location\"].unique()[0] + \" is \" + str(data3_corr))\n",
    "    print(\"------------------------------------------------------------------------------------------------\")    \n",
    "  #  print(f\"Model summary for: \" + data3[\"location\"].unique()[0] + \".\")\n",
    "   # print(results3.summary())\n",
    "    #print(\"------------------------------------------------------------------------------------------------\")\n",
    "\n",
    "    return a"
   ]
  },
  {
   "cell_type": "code",
   "execution_count": 15,
   "id": "67b0bfe6",
   "metadata": {},
   "outputs": [
    {
     "name": "stdout",
     "output_type": "stream",
     "text": [
      "Low Risk: The correlation coefficient between the new tests administered and the new cases in Botswana is -0.05862765992879092\n",
      "------------------------------------------------------------------------------------------------\n",
      "Med Risk: The correlation coefficient between the new tests administered and the new cases in Costa Rica is 0.3174707541737924\n",
      "------------------------------------------------------------------------------------------------\n",
      "High Risk: The correlation coefficient between the new tests administered and the new cases in New Caledonia is nan\n",
      "------------------------------------------------------------------------------------------------\n"
     ]
    }
   ],
   "source": [
    "test = tests_vs_cases()"
   ]
  },
  {
   "cell_type": "markdown",
   "id": "2fcdfa79",
   "metadata": {},
   "source": [
    "# Now we will move on to seeing whether the tests and deaths"
   ]
  },
  {
   "cell_type": "code",
   "execution_count": 277,
   "id": "b4d3dbb1",
   "metadata": {},
   "outputs": [],
   "source": [
    "def tests_vs_deaths():\n",
    "    a = make_df()\n",
    "    data1 = a.loc[a[\"location\"] == a[\"location\"].unique()[0]]\n",
    "    data2 = a.loc[a[\"location\"] == a[\"location\"].unique()[1]]\n",
    "    data3 = a.loc[a[\"location\"] == a[\"location\"].unique()[2]]\n",
    "    \n",
    "    data1_col1 = data1[\"new_tests\"]\n",
    "    data1_col2 = data1[\"new_deaths\"]\n",
    "\n",
    "    data2_col1 = data2[\"new_tests\"]\n",
    "    data2_col2 = data2[\"new_deaths\"]\n",
    "\n",
    "    data3_col1 = data3[\"new_tests\"]\n",
    "    data3_col2 = data3[\"new_deaths\"]\n",
    "\n",
    "    data1_corr = data1_col1.corr(data1_col2, method = \"pearson\")\n",
    "    data2_corr = data2_col1.corr(data2_col2, method = \"pearson\")\n",
    "    data3_corr = data3_col1.corr(data3_col2, method = \"pearson\")\n",
    "        \n",
    "    \n",
    "    ### Now let's see if we can obtain the entire summary statistics for the linear regression model.\n",
    "    total_tests_1 = data1_col1.to_list()\n",
    "    total_deaths_1 = data1_col2.to_list()\n",
    "    total_tests_1, total_deaths_1 = np.array(total_tests_1), np.array(total_deaths_1)\n",
    "    total_tests_1 = sm.add_constant(total_tests_1)\n",
    "    model1 = sm.OLS(total_deaths_1, total_tests_1)\n",
    "    results1 = model1.fit()\n",
    "    \n",
    "    print(f\"Low Risk: The correlation coefficient between the new tests administered and the new deaths in \" + data1[\"location\"].unique()[0] + \" is \" + str(data1_corr))\n",
    "    print(\"------------------------------------------------------------------------------------------------\")\n",
    "#    print(f\"Model summary for: \" + data1[\"location\"].unique()[0] + \".\")\n",
    " #   print(results1.summary())\n",
    "  #  print(\"------------------------------------------------------------------------------------------------\")\n",
    "\n",
    "    \n",
    "    total_tests_2 = data2_col1.to_list()\n",
    "    total_deaths_2 = data2_col2.to_list()\n",
    "    total_tests_2, total_deaths_2 = np.array(total_tests_2), np.array(total_deaths_2)\n",
    "    total_tests_2 = sm.add_constant(total_tests_2)\n",
    "    model2 = sm.OLS(total_deaths_2, total_tests_2)\n",
    "    results2 = model2.fit()\n",
    "    \n",
    "    print(f\"Med Risk: The correlation coefficient between the new tests administered and the new deaths in \" + data2[\"location\"].unique()[0] + \" is \" + str(data2_corr))\n",
    "    print(\"------------------------------------------------------------------------------------------------\")\n",
    " #   print(f\"Model summary for: \" + data2[\"location\"].unique()[0] + \".\")\n",
    "  #  print(results2.summary())\n",
    "   # print(\"------------------------------------------------------------------------------------------------\")\n",
    "\n",
    "    total_tests_3 = data3_col1.to_list()\n",
    "    total_deaths_3 = data3_col2.to_list()\n",
    "    total_tests_3, total_deaths_3 = np.array(total_tests_3), np.array(total_deaths_3)\n",
    "    total_tests_3 = sm.add_constant(total_tests_3)\n",
    "    model3 = sm.OLS(total_deaths_3, total_tests_3)\n",
    "    results3 = model3.fit()\n",
    "    \n",
    "    print(f\"High Risk: The correlation coefficient between the new tests administered and the new deaths in \" + data3[\"location\"].unique()[0] + \" is \" + str(data3_corr))\n",
    "    print(\"------------------------------------------------------------------------------------------------\")    \n",
    "#    print(f\"Model summary for: \" + data3[\"location\"].unique()[0] + \".\")\n",
    " #   print(results3.summary())\n",
    "  #  print(\"------------------------------------------------------------------------------------------------\")\n",
    "\n",
    "    return a"
   ]
  },
  {
   "cell_type": "code",
   "execution_count": 285,
   "id": "cf0a9e89",
   "metadata": {},
   "outputs": [
    {
     "name": "stdout",
     "output_type": "stream",
     "text": [
      "Low Risk: The correlation coefficient between the new tests administered and the new deaths in Cambodia is 0.3452398733395195\n",
      "------------------------------------------------------------------------------------------------\n",
      "Med Risk: The correlation coefficient between the new tests administered and the new deaths in Hong Kong is nan\n",
      "------------------------------------------------------------------------------------------------\n",
      "High Risk: The correlation coefficient between the new tests administered and the new deaths in Hungary is 0.7650439575544457\n",
      "------------------------------------------------------------------------------------------------\n"
     ]
    }
   ],
   "source": [
    "deaths = tests_vs_deaths()"
   ]
  },
  {
   "cell_type": "code",
   "execution_count": 18,
   "id": "913e2e8d",
   "metadata": {},
   "outputs": [],
   "source": [
    "def vacs_vs_cases():\n",
    "    a = make_df()\n",
    "    data1 = a.loc[a[\"location\"] == a[\"location\"].unique()[0]]\n",
    "    data2 = a.loc[a[\"location\"] == a[\"location\"].unique()[1]]\n",
    "    data3 = a.loc[a[\"location\"] == a[\"location\"].unique()[2]]\n",
    "    \n",
    "    data1_col1 = data1[\"new_vaccinations\"]\n",
    "    data1_col2 = data1[\"total_cases\"]\n",
    "\n",
    "    data2_col1 = data2[\"new_vaccinations\"]\n",
    "    data2_col2 = data2[\"total_cases\"]\n",
    "\n",
    "    data3_col1 = data3[\"new_vaccinations\"]\n",
    "    data3_col2 = data3[\"total_cases\"]\n",
    "\n",
    "    data1_corr = data1_col1.corr(data1_col2)\n",
    "    data2_corr = data2_col1.corr(data2_col2)\n",
    "    data3_corr = data3_col1.corr(data3_col2)\n",
    "        \n",
    "    \n",
    "    ### Now let's see if we can obtain the entire summary statistics for the linear regression model.\n",
    "    new_vacs_1 = data1_col1.to_list()\n",
    "    total_cases_1 = data1_col2.to_list()\n",
    "    new_vacs_1, total_cases_1 = np.array(new_vacs_1), np.array(total_cases_1)\n",
    "    new_vacs_1 = sm.add_constant(new_vacs_1)\n",
    "    model1 = sm.OLS(total_cases_1, new_vacs_1)\n",
    "    results1 = model1.fit()\n",
    "    \n",
    "    print(f\"Low Risk: The correlation coefficient between the new vaccines administered and the new cases in \" + data1[\"location\"].unique()[0] + \" is \" + str(data1_corr))\n",
    "    print(\"------------------------------------------------------------------------------------------------\")\n",
    "#    print(f\"Model summary for: \" + data1[\"location\"].unique()[0] + \".\")\n",
    " #   print(results1.summary())\n",
    "  #  print(\"------------------------------------------------------------------------------------------------\")\n",
    "\n",
    "    \n",
    "    total_tests_2 = data2_col1.to_list()\n",
    "    total_deaths_2 = data2_col2.to_list()\n",
    "    total_tests_2, total_deaths_2 = np.array(total_tests_2), np.array(total_deaths_2)\n",
    "    total_tests_2 = sm.add_constant(total_tests_2)\n",
    "    model2 = sm.OLS(total_deaths_2, total_tests_2)\n",
    "    results2 = model2.fit()\n",
    "    \n",
    "    print(f\"Med Risk: The correlation coefficient between the new vaccines administered and the new cases in \" + data2[\"location\"].unique()[0] + \" is \" + str(data2_corr))\n",
    "    print(\"------------------------------------------------------------------------------------------------\")\n",
    "#    print(f\"Model summary for: \" + data2[\"location\"].unique()[0] + \".\")\n",
    " #   print(results2.summary())\n",
    "  #  print(\"------------------------------------------------------------------------------------------------\")\n",
    "\n",
    "    total_tests_3 = data3_col1.to_list()\n",
    "    total_deaths_3 = data3_col2.to_list()\n",
    "    total_tests_3, total_deaths_3 = np.array(total_tests_3), np.array(total_deaths_3)\n",
    "    total_tests_3 = sm.add_constant(total_tests_3)\n",
    "    model3 = sm.OLS(total_deaths_3, total_tests_3)\n",
    "    results3 = model3.fit()\n",
    "    \n",
    "    print(f\"High Risk: The correlation coefficient between the new vaccines administered and the new cases in \" + data3[\"location\"].unique()[0] + \" is \" + str(data3_corr))\n",
    "    print(\"------------------------------------------------------------------------------------------------\")    \n",
    "#    print(f\"Model summary for: \" + data3[\"location\"].unique()[0] + \".\")\n",
    " #   print(results3.summary())\n",
    "  #  print(\"------------------------------------------------------------------------------------------------\")\n",
    "\n",
    "    return a"
   ]
  },
  {
   "cell_type": "code",
   "execution_count": 309,
   "id": "07e17d71",
   "metadata": {},
   "outputs": [
    {
     "name": "stdout",
     "output_type": "stream",
     "text": [
      "Low Risk: The correlation coefficient between the new vaccines administered and the new cases in Jamaica is 0.42384152919170526\n",
      "------------------------------------------------------------------------------------------------\n",
      "Med Risk: The correlation coefficient between the new vaccines administered and the new cases in Morocco is 0.2049232657148981\n",
      "------------------------------------------------------------------------------------------------\n",
      "High Risk: The correlation coefficient between the new vaccines administered and the new cases in Saint Lucia is 0.2383328364959425\n",
      "------------------------------------------------------------------------------------------------\n"
     ]
    }
   ],
   "source": [
    "vacscases = vacs_vs_cases()"
   ]
  },
  {
   "cell_type": "code",
   "execution_count": 20,
   "id": "2c5f934f",
   "metadata": {},
   "outputs": [],
   "source": [
    "def vacs_vs_deaths():\n",
    "    a = make_df()\n",
    "    data1 = a.loc[a[\"location\"] == a[\"location\"].unique()[0]]\n",
    "    data2 = a.loc[a[\"location\"] == a[\"location\"].unique()[1]]\n",
    "    data3 = a.loc[a[\"location\"] == a[\"location\"].unique()[2]]\n",
    "    \n",
    "    data1_col1 = data1[\"new_vaccinations\"]\n",
    "    data1_col2 = data1[\"new_deaths\"]\n",
    "\n",
    "    data2_col1 = data2[\"new_vaccinations\"]\n",
    "    data2_col2 = data2[\"new_deaths\"]\n",
    "\n",
    "    data3_col1 = data3[\"new_vaccinations\"]\n",
    "    data3_col2 = data3[\"new_deaths\"]\n",
    "\n",
    "    data1_corr = data1_col1.corr(data1_col2)\n",
    "    data2_corr = data2_col1.corr(data2_col2)\n",
    "    data3_corr = data3_col1.corr(data3_col2)\n",
    "        \n",
    "    \n",
    "    ### Now let's see if we can obtain the entire summary statistics for the linear regression model.\n",
    "    new_vacs_1 = data1_col1.to_list()\n",
    "    total_deaths_1 = data1_col2.to_list()\n",
    "    new_vacs_1, total_deaths_1 = np.array(new_vacs_1), np.array(total_deaths_1)\n",
    "    new_vacs_1 = sm.add_constant(new_vacs_1)\n",
    "    model1 = sm.OLS(total_deaths_1, new_vacs_1)\n",
    "    results1 = model1.fit()\n",
    "    \n",
    "    print(f\"Low Risk: The correlation coefficient between the new vaccinations administered and the new deaths in \" + data1[\"location\"].unique()[0] + \" is \" + str(data1_corr))\n",
    "    print(\"------------------------------------------------------------------------------------------------\")\n",
    "#    print(f\"Model summary for: \" + data1[\"location\"].unique()[0] + \".\")\n",
    " #   print(results1.summary())\n",
    "  #  print(\"------------------------------------------------------------------------------------------------\")\n",
    "\n",
    "    \n",
    "    new_vacs_2 = data2_col1.to_list()\n",
    "    total_deaths_2 = data2_col2.to_list()\n",
    "    new_vacs_2, total_deaths_2 = np.array(new_vacs_2), np.array(total_deaths_2)\n",
    "    new_vacs_2 = sm.add_constant(new_vacs_2)\n",
    "    model2 = sm.OLS(total_deaths_2, new_vacs_2)\n",
    "    results2 = model2.fit()\n",
    "    \n",
    "    print(f\"Med Risk: The correlation coefficient between the new vaccinations administered and the new deaths in \" + data2[\"location\"].unique()[0] + \" is \" + str(data2_corr))\n",
    "    print(\"------------------------------------------------------------------------------------------------\")\n",
    "#    print(f\"Model summary for: \" + data2[\"location\"].unique()[0] + \".\")\n",
    " #   print(results2.summary())\n",
    "  #  print(\"------------------------------------------------------------------------------------------------\")\n",
    "\n",
    "    total_tests_3 = data3_col1.to_list()\n",
    "    total_deaths_3 = data3_col2.to_list()\n",
    "    total_tests_3, total_deaths_3 = np.array(total_tests_3), np.array(total_deaths_3)\n",
    "    total_tests_3 = sm.add_constant(total_tests_3)\n",
    "    model3 = sm.OLS(total_deaths_3, total_tests_3)\n",
    "    results3 = model3.fit()\n",
    "    \n",
    "    print(f\"High Risk: The correlation coefficient between the new vaccinations administered and the new deaths in \" + data3[\"location\"].unique()[0] + \" is \" + str(data3_corr))\n",
    "    print(\"------------------------------------------------------------------------------------------------\")    \n",
    " #   print(f\"Model summary for: \" + data3[\"location\"].unique()[0] + \".\")\n",
    "  #  print(results3.summary())\n",
    "   # print(\"------------------------------------------------------------------------------------------------\")\n",
    "\n",
    "    return a"
   ]
  },
  {
   "cell_type": "code",
   "execution_count": 21,
   "id": "f3eb8c0b",
   "metadata": {},
   "outputs": [
    {
     "name": "stdout",
     "output_type": "stream",
     "text": [
      "Low Risk: The correlation coefficient between the new vaccinations administered and the new deaths in Aruba is 0.04396852175507497\n",
      "------------------------------------------------------------------------------------------------\n",
      "Med Risk: The correlation coefficient between the new vaccinations administered and the new deaths in Honduras is 0.03478497413218472\n",
      "------------------------------------------------------------------------------------------------\n",
      "High Risk: The correlation coefficient between the new vaccinations administered and the new deaths in South Korea is 0.4038961339853458\n",
      "------------------------------------------------------------------------------------------------\n"
     ]
    }
   ],
   "source": [
    "vacsdeaths = vacs_vs_deaths()"
   ]
  },
  {
   "cell_type": "code",
   "execution_count": 22,
   "id": "51973f0d",
   "metadata": {},
   "outputs": [],
   "source": [
    "### These would be used for Tableau\n",
    "\n",
    "asia_df = countries_df[countries_df[\"continent\"] == \"Asia\"]\n",
    "europe_df = countries_df[countries_df[\"continent\"] == \"Europe\"]\n",
    "na_df = countries_df[countries_df[\"continent\"] == \"North America\"]\n",
    "sa_df = countries_df[countries_df[\"continent\"] == \"South America\"]\n",
    "oceania_df = countries_df[countries_df[\"continent\"] == \"Oceania\"]\n",
    "africa_df = countries_df[countries_df[\"continent\"] == \"Africa\"]\n",
    "\n",
    "#asia_df.to_csv(\"asia_df.csv\", index = False)\n",
    "#europe_df.to_csv(\"europe_df.csv\", index = False)\n",
    "#na_df.to_csv(\"northamerica_df.csv\", index = False)\n",
    "#sa_df.to_csv(\"southamerica_df.csv\", index = False)\n",
    "#oceania_df.to_csv(\"oceania_df.csv\", index = False)\n",
    "#africa_df.to_csv(\"africa_df.csv\", index = False)"
   ]
  },
  {
   "cell_type": "code",
   "execution_count": null,
   "id": "503d9de2",
   "metadata": {},
   "outputs": [],
   "source": []
  },
  {
   "cell_type": "code",
   "execution_count": null,
   "id": "c9842333",
   "metadata": {},
   "outputs": [],
   "source": []
  },
  {
   "cell_type": "markdown",
   "id": "f66409e1",
   "metadata": {},
   "source": [
    "## Tests vs Cases"
   ]
  },
  {
   "cell_type": "code",
   "execution_count": 223,
   "id": "e066a984",
   "metadata": {},
   "outputs": [],
   "source": [
    "Cyprus = countries_df.loc[countries_df[\"location\"] == \"Cyprus\"]"
   ]
  },
  {
   "cell_type": "code",
   "execution_count": 265,
   "id": "eacb879b",
   "metadata": {},
   "outputs": [],
   "source": [
    "c_model = ols(\"new_cases ~ new_tests\", data = Cyprus).fit()\n",
    "#print(c_model.summary())"
   ]
  },
  {
   "cell_type": "code",
   "execution_count": 266,
   "id": "a8348335",
   "metadata": {},
   "outputs": [
    {
     "data": {
      "text/plain": [
       "<function matplotlib.pyplot.show(close=None, block=None)>"
      ]
     },
     "execution_count": 266,
     "metadata": {},
     "output_type": "execute_result"
    },
    {
     "data": {
      "image/png": "[encoded data removed]",
      "text/plain": [
       "<Figure size 432x288 with 1 Axes>"
      ]
     },
     "metadata": {
      "needs_background": "light"
     },
     "output_type": "display_data"
    }
   ],
   "source": [
    "fig1, ax1 = plt.subplots()\n",
    "fig1 = sm.graphics.plot_fit(c_model,1, vlines= False, ax = ax1)\n",
    "ax1.set_ylabel(\"New Cases\")\n",
    "ax1.set_xlabel(\"New Tests\")\n",
    "ax1.set_title(\"New Cases vs New Tests in Cyprus (LOW)\")\n",
    "plt.show"
   ]
  },
  {
   "cell_type": "code",
   "execution_count": 268,
   "id": "30c6ff8c",
   "metadata": {},
   "outputs": [],
   "source": [
    "US = countries_df.loc[countries_df[\"location\"] == \"United States\"]"
   ]
  },
  {
   "cell_type": "code",
   "execution_count": 269,
   "id": "f61a2c18",
   "metadata": {},
   "outputs": [],
   "source": [
    "usa_model = ols('new_cases ~ new_tests', data = US).fit()\n",
    "#print(usa_model.summary())"
   ]
  },
  {
   "cell_type": "code",
   "execution_count": 271,
   "id": "9866d84f",
   "metadata": {},
   "outputs": [
    {
     "data": {
      "text/plain": [
       "<function matplotlib.pyplot.show(close=None, block=None)>"
      ]
     },
     "execution_count": 271,
     "metadata": {},
     "output_type": "execute_result"
    },
    {
     "data": {
      "image/png": "[encoded data removed]",
      "text/plain": [
       "<Figure size 432x288 with 1 Axes>"
      ]
     },
     "metadata": {
      "needs_background": "light"
     },
     "output_type": "display_data"
    }
   ],
   "source": [
    "fig2, ax2 = plt.subplots()\n",
    "fig2 = sm.graphics.plot_fit(usa_model,1, vlines= False, ax = ax2)\n",
    "ax2.set_ylabel(\"New Cases\")\n",
    "ax2.set_xlabel(\"New Tests\")\n",
    "ax2.set_title(\"New Cases vs New Tests in the United States (HIGH)\")\n",
    "plt.show"
   ]
  },
  {
   "cell_type": "markdown",
   "id": "9529543e",
   "metadata": {},
   "source": [
    "## Tests vs Deaths"
   ]
  },
  {
   "cell_type": "code",
   "execution_count": 273,
   "id": "f225afb5",
   "metadata": {},
   "outputs": [],
   "source": [
    "Zim = countries_df.loc[countries_df[\"location\"] == \"Zimbabwe\"]"
   ]
  },
  {
   "cell_type": "code",
   "execution_count": 276,
   "id": "478936a4",
   "metadata": {},
   "outputs": [],
   "source": [
    "z_model = ols('new_tests ~ new_deaths', data = Zim).fit()\n",
    "#print(z_model.summary())"
   ]
  },
  {
   "cell_type": "code",
   "execution_count": 275,
   "id": "f62ce789",
   "metadata": {},
   "outputs": [
    {
     "data": {
      "image/png": "[encoded data removed]",
      "text/plain": [
       "<Figure size 432x288 with 1 Axes>"
      ]
     },
     "metadata": {
      "needs_background": "light"
     },
     "output_type": "display_data"
    }
   ],
   "source": [
    "fig3, ax3 = plt.subplots()\n",
    "fig3 = sm.graphics.plot_fit(z_model,1, vlines= False, ax = ax3)\n",
    "ax3.set_ylabel(\"New Deaths\")\n",
    "ax3.set_xlabel(\"New Tests\")\n",
    "ax3.set_title(\"New Deaths vs New Tests in Zimbabwe (HIGH)\")\n",
    "plt.show()"
   ]
  },
  {
   "cell_type": "code",
   "execution_count": 286,
   "id": "cede317f",
   "metadata": {},
   "outputs": [],
   "source": [
    "hun = countries_df.loc[countries_df[\"location\"] == \"Hungary\"]"
   ]
  },
  {
   "cell_type": "code",
   "execution_count": 288,
   "id": "8d911b71",
   "metadata": {},
   "outputs": [],
   "source": [
    "hun_model = ols('new_tests ~ new_deaths', data = hun).fit()\n",
    "#print(hun_model.summary())"
   ]
  },
  {
   "cell_type": "code",
   "execution_count": 291,
   "id": "51988706",
   "metadata": {},
   "outputs": [
    {
     "data": {
      "image/png": "[encoded data removed]",
      "text/plain": [
       "<Figure size 432x288 with 1 Axes>"
      ]
     },
     "metadata": {
      "needs_background": "light"
     },
     "output_type": "display_data"
    }
   ],
   "source": [
    "fig5, ax5 = plt.subplots()\n",
    "fig5 = sm.graphics.plot_fit(hun_model,1, vlines = False, ax = ax5)\n",
    "ax5.set_ylabel(\"New Tests\")\n",
    "ax5.set_xlabel(\"New Deaths\")\n",
    "ax5.set_title(\"New Tests vs New Deaths in Hungary (HIGH)\")\n",
    "plt.show()"
   ]
  },
  {
   "cell_type": "markdown",
   "id": "167e2ebc",
   "metadata": {},
   "source": [
    "## Vaccinations vs Cases"
   ]
  },
  {
   "cell_type": "code",
   "execution_count": 302,
   "id": "ca98b757",
   "metadata": {},
   "outputs": [],
   "source": [
    "brazil = countries_df.loc[countries_df[\"location\"] == \"Brazil\"]"
   ]
  },
  {
   "cell_type": "code",
   "execution_count": 305,
   "id": "7701297f",
   "metadata": {},
   "outputs": [],
   "source": [
    "b_model = ols('new_vaccinations ~ new_cases', data = brazil).fit()\n",
    "#print(b_model.summary())"
   ]
  },
  {
   "cell_type": "code",
   "execution_count": 304,
   "id": "955ac102",
   "metadata": {},
   "outputs": [
    {
     "data": {
      "image/png": "[encoded data removed]",
      "text/plain": [
       "<Figure size 432x288 with 1 Axes>"
      ]
     },
     "metadata": {
      "needs_background": "light"
     },
     "output_type": "display_data"
    }
   ],
   "source": [
    "fig4, ax4 = plt.subplots()\n",
    "fig4 = sm.graphics.plot_fit(b_model,1, vlines= False, ax = ax4)\n",
    "ax4.set_ylabel(\"New Vaccinations\")\n",
    "ax4.set_xlabel(\"New Cases\")\n",
    "ax4.set_title(\"New Deaths vs New Tests in Brazil (HIGH)\")\n",
    "plt.show()"
   ]
  },
  {
   "cell_type": "code",
   "execution_count": 310,
   "id": "8a1514b2",
   "metadata": {},
   "outputs": [],
   "source": [
    "jam = countries_df[countries_df[\"location\"] == \"Jamaica\"]"
   ]
  },
  {
   "cell_type": "code",
   "execution_count": 312,
   "id": "addda3cb",
   "metadata": {},
   "outputs": [],
   "source": [
    "j_model = ols('new_vaccinations ~ new_cases', data = jam).fit()\n",
    "#print(j_model.summary())"
   ]
  },
  {
   "cell_type": "code",
   "execution_count": 313,
   "id": "a1dde170",
   "metadata": {},
   "outputs": [
    {
     "data": {
      "image/png": "[encoded data removed]",
      "text/plain": [
       "<Figure size 432x288 with 1 Axes>"
      ]
     },
     "metadata": {
      "needs_background": "light"
     },
     "output_type": "display_data"
    }
   ],
   "source": [
    "fig6, ax6 = plt.subplots()\n",
    "fig6 = sm.graphics.plot_fit(j_model, 1, vlines = False, ax = ax6)\n",
    "ax6.set_ylabel(\"New Vaccinations\")\n",
    "ax6.set_xlabel(\"New Cases\")\n",
    "ax6.set_title(\"New Vaccinations vs New Cases in Jamaica (LOW)\")\n",
    "plt.show()"
   ]
  },
  {
   "cell_type": "markdown",
   "id": "106c4f86",
   "metadata": {},
   "source": [
    "## Vaccinations vs Deaths"
   ]
  },
  {
   "cell_type": "code",
   "execution_count": 321,
   "id": "149cc0b5",
   "metadata": {},
   "outputs": [],
   "source": [
    "cyp = countries_df.loc[countries_df[\"location\"] == \"Cyprus\"]"
   ]
  },
  {
   "cell_type": "code",
   "execution_count": 327,
   "id": "8f16a391",
   "metadata": {},
   "outputs": [],
   "source": [
    "c_model = ols(\"new_deaths ~ new_vaccinations\", data = cyp).fit()\n",
    "#print(c_model.summary())"
   ]
  },
  {
   "cell_type": "code",
   "execution_count": 326,
   "id": "675b4aac",
   "metadata": {},
   "outputs": [
    {
     "data": {
      "image/png": "[encoded data removed]",
      "text/plain": [
       "<Figure size 432x288 with 1 Axes>"
      ]
     },
     "metadata": {
      "needs_background": "light"
     },
     "output_type": "display_data"
    }
   ],
   "source": [
    "fig7, ax7 = plt.subplots()\n",
    "fig7 = sm.graphics.plot_fit(c_model,1, vlines = False, ax = ax7)\n",
    "ax7.set_ylabel(\"New Deaths\")\n",
    "ax7.set_xlabel(\"New Vaccines\")\n",
    "ax7.set_title(\"New Vaccinations vs New Deaths in Cyprus (LOW)\")\n",
    "plt.show()"
   ]
  },
  {
   "cell_type": "code",
   "execution_count": 328,
   "id": "2974cfdb",
   "metadata": {},
   "outputs": [],
   "source": [
    "usa = countries_df.loc[countries_df[\"location\"] == \"United States\"]"
   ]
  },
  {
   "cell_type": "code",
   "execution_count": 331,
   "id": "290bb4e5",
   "metadata": {},
   "outputs": [],
   "source": [
    "usa_model = ols(\"new_deaths ~ new_vaccinations\", data = usa).fit()\n",
    "#print(usa_model.summary())"
   ]
  },
  {
   "cell_type": "code",
   "execution_count": 332,
   "id": "3d7675c6",
   "metadata": {},
   "outputs": [
    {
     "data": {
      "image/png": "[encoded data removed]",
      "text/plain": [
       "<Figure size 432x288 with 1 Axes>"
      ]
     },
     "metadata": {
      "needs_background": "light"
     },
     "output_type": "display_data"
    }
   ],
   "source": [
    "fig8, ax8 = plt.subplots()\n",
    "fig8 = sm.graphics.plot_fit(usa_model, 1, vlines = False, ax = ax8)\n",
    "ax8.set_ylabel(\"New Deaths\")\n",
    "ax8.set_xlabel(\"New Vaccines\")\n",
    "ax8.set_title(\"New Vaccinations vs New Deaths in the United States (HIGH)\")\n",
    "plt.show()"
   ]
  },
  {
   "cell_type": "code",
   "execution_count": null,
   "id": "201b92ef",
   "metadata": {},
   "outputs": [],
   "source": []
  },
  {
   "cell_type": "code",
   "execution_count": null,
   "id": "559e97ca",
   "metadata": {},
   "outputs": [],
   "source": []
  },
  {
   "cell_type": "markdown",
   "id": "287ecefd",
   "metadata": {},
   "source": [
    "## Late Multilinear Regression"
   ]
  },
  {
   "cell_type": "code",
   "execution_count": 339,
   "id": "bb6bba51",
   "metadata": {},
   "outputs": [
    {
     "name": "stdout",
     "output_type": "stream",
     "text": [
      "                            OLS Regression Results                            \n",
      "==============================================================================\n",
      "Dep. Variable:          positive_rate   R-squared:                       0.003\n",
      "Model:                            OLS   Adj. R-squared:                  0.001\n",
      "Method:                 Least Squares   F-statistic:                     1.875\n",
      "Date:                Mon, 07 Feb 2022   Prob (F-statistic):              0.171\n",
      "Time:                        23:14:51   Log-Likelihood:                 1185.1\n",
      "No. Observations:                 728   AIC:                            -2366.\n",
      "Df Residuals:                     726   BIC:                            -2357.\n",
      "Df Model:                           1                                         \n",
      "Covariance Type:            nonrobust                                         \n",
      "====================================================================================\n",
      "                       coef    std err          t      P>|t|      [0.025      0.975]\n",
      "------------------------------------------------------------------------------------\n",
      "Intercept         6.467e-19      2e-20     32.358      0.000    6.07e-19    6.86e-19\n",
      "new_vaccinations -2.525e-09   1.84e-09     -1.369      0.171   -6.15e-09     1.1e-09\n",
      "population        2.153e-10   6.65e-12     32.358      0.000    2.02e-10    2.28e-10\n",
      "median_age        2.477e-17   7.65e-19     32.358      0.000    2.33e-17    2.63e-17\n",
      "==============================================================================\n",
      "Omnibus:                      279.812   Durbin-Watson:                   0.073\n",
      "Prob(Omnibus):                  0.000   Jarque-Bera (JB):             1250.998\n",
      "Skew:                           1.729   Prob(JB):                    2.23e-272\n",
      "Kurtosis:                       8.411   Cond. No.                     1.05e+26\n",
      "==============================================================================\n",
      "\n",
      "Notes:\n",
      "[1] Standard Errors assume that the covariance matrix of the errors is correctly specified.\n",
      "[2] The smallest eigenvalue is 7.25e-33. This might indicate that there are\n",
      "strong multicollinearity problems or that the design matrix is singular.\n"
     ]
    }
   ],
   "source": [
    "usa_model1 = ols('positive_rate ~ new_vaccinations + population + median_age', data = usa).fit()\n",
    "print(usa_model1.summary())"
   ]
  },
  {
   "cell_type": "code",
   "execution_count": 340,
   "id": "eb781346",
   "metadata": {},
   "outputs": [
    {
     "data": {
      "image/png": "[encoded data removed]",
      "text/plain": [
       "<Figure size 432x288 with 1 Axes>"
      ]
     },
     "metadata": {
      "needs_background": "light"
     },
     "output_type": "display_data"
    }
   ],
   "source": [
    "fig9, ax9 = plt.subplots()\n",
    "fig9 = sm.graphics.plot_fit(usa_model1, 1, vlines = False, ax = ax9)"
   ]
  },
  {
   "cell_type": "code",
   "execution_count": null,
   "id": "abbc5f37",
   "metadata": {},
   "outputs": [],
   "source": []
  }
 ],
 "metadata": {
  "kernelspec": {
   "display_name": "mlenv",
   "language": "python",
   "name": "mlenv"
  },
  "language_info": {
   "codemirror_mode": {
    "name": "ipython",
    "version": 3
   },
   "file_extension": ".py",
   "mimetype": "text/x-python",
   "name": "python",
   "nbconvert_exporter": "python",
   "pygments_lexer": "ipython3",
   "version": "3.7.11"
  }
 },
 "nbformat": 4,
 "nbformat_minor": 5
}
